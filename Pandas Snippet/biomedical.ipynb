{
 "cells": [
  {
   "cell_type": "markdown",
   "source": "## Install libraries and models",
   "metadata": {
    "id": "7f4kCuMxQpMH",
    "cell_id": "00000-435a924f-7977-4024-9777-c65ef9871913",
    "deepnote_cell_type": "markdown",
    "deepnote_cell_height": 70
   }
  },
  {
   "cell_type": "code",
   "metadata": {
    "id": "BY5lmWPCO4F7",
    "cell_id": "00001-c0c401f6-68a7-44a0-a65d-4cf2cd61069f",
    "allow_embed": true,
    "owner_user_id": "5692a501-1353-4e5f-a9de-6cc0c6555b4a",
    "deepnote_cell_type": "code",
    "deepnote_cell_height": 246
   },
   "source": "# install >= 3.0.1 spacy version\n!pip install spacy==3.0.1\n\n# install scispacy\n!pip install scispacy\n\n# install models\n!pip install https://s3-us-west-2.amazonaws.com/ai2-s2-scispacy/releases/v0.4.0/en_ner_craft_md-0.4.0.tar.gz\n!pip install https://s3-us-west-2.amazonaws.com/ai2-s2-scispacy/releases/v0.4.0/en_ner_jnlpba_md-0.4.0.tar.gz\n!pip install https://s3-us-west-2.amazonaws.com/ai2-s2-scispacy/releases/v0.4.0/en_ner_bc5cdr_md-0.4.0.tar.gz\n!pip install https://s3-us-west-2.amazonaws.com/ai2-s2-scispacy/releases/v0.4.0/en_ner_bionlp13cg_md-0.4.0.tar.gz",
   "execution_count": null,
   "outputs": []
  },
  {
   "cell_type": "markdown",
   "source": "## Importing libraries",
   "metadata": {
    "id": "HNzMJm6XII5K",
    "cell_id": "00002-fec515e5-97b3-40f0-a918-3fa0690bb52e",
    "deepnote_cell_type": "markdown",
    "deepnote_cell_height": 70
   }
  },
  {
   "cell_type": "code",
   "metadata": {
    "id": "snEZYaiMErgL",
    "cell_id": "00003-80d2cf86-1e18-4ed0-9aa1-02f8684923cb",
    "allow_embed": "code_output",
    "deepnote_cell_type": "code",
    "deepnote_cell_height": 462
   },
   "source": "# essentials\nimport pandas as pd\nimport numpy as np\n\n# spacy\nimport scispacy\nimport spacy\n\n# display results\nfrom spacy import displacy\n\n# scispacy models\nimport en_ner_craft_md\nimport en_ner_jnlpba_md\nimport en_ner_bc5cdr_md\nimport en_ner_bionlp13cg_md\n\n# utility\nfrom pprint import pprint\n\n# Data Visualization\nimport matplotlib.pyplot as plt\n%matplotlib inline",
   "execution_count": null,
   "outputs": []
  },
  {
   "cell_type": "markdown",
   "source": "### Helper funcs",
   "metadata": {
    "id": "Ys-g_WhwWvXe",
    "cell_id": "00004-58d37a4f-5ae3-4b76-93a4-19cc37409df7",
    "deepnote_cell_type": "markdown",
    "deepnote_cell_height": 62
   }
  },
  {
   "cell_type": "code",
   "metadata": {
    "id": "X0fs2ydqHrkD",
    "cell_id": "00005-dd126704-327e-4a39-a1e3-79a0c0586436",
    "deepnote_cell_type": "code",
    "deepnote_cell_height": 264
   },
   "source": "def missing_cols(df):\n    '''prints out columns with its amount of missing values with its %'''\n    total = 0\n    for col in df.columns:\n        missing_vals = df[col].isnull().sum()\n        pct = df[col].isna().mean() * 100\n        total += missing_vals\n        if missing_vals != 0:\n          print('{} => {} [{}%]'.format(col, df[col].isnull().sum(), round(pct, 2)))\n    \n    if total == 0:\n        print(\"no missing values\")",
   "execution_count": null,
   "outputs": []
  },
  {
   "cell_type": "markdown",
   "source": "## Loading data",
   "metadata": {
    "id": "07jmRMn1IGj7",
    "cell_id": "00006-9bbb9780-43c0-4821-b150-29f385192f92",
    "deepnote_cell_type": "markdown",
    "deepnote_cell_height": 70
   }
  },
  {
   "cell_type": "code",
   "metadata": {
    "id": "t15bRHgiHsPg",
    "cell_id": "00007-75180c9d-6a51-4757-a762-021a1d7b253b",
    "allow_embed": "code_output",
    "deepnote_cell_type": "code",
    "deepnote_cell_height": 192
   },
   "source": "data_path = 'PATH_TO_DATA'\n\n# Load training datasets\nabstracts_train = pd.read_csv(data_path + 'abstracts_train.csv', sep='\\t')\nentities_train = pd.read_csv(data_path + 'entities_train.csv', sep='\\t')\n\n# Load test data\nabstracts_test = pd.read_csv(data_path + 'abstracts_test.csv', sep='\\t')",
   "execution_count": null,
   "outputs": []
  },
  {
   "cell_type": "code",
   "metadata": {
    "colab": {
     "base_uri": "https://localhost:8080/"
    },
    "id": "BqOF1fYyIPFt",
    "outputId": "fa404fc5-67b3-4a13-918c-e3cfb864d1f3",
    "cell_id": "00008-0011c7c7-592c-4a39-9437-cc379a9df3a9",
    "allow_embed": true,
    "deepnote_cell_type": "code",
    "deepnote_cell_height": 242.78125
   },
   "source": "# print dimensions of data\nprint('Dimension of abstracts train: ', abstracts_train.shape)\nprint('Dimension of entities train: ', entities_train.shape)\nprint()\nprint('Dimension of abstracts test: ', abstracts_test.shape)",
   "execution_count": null,
   "outputs": [
    {
     "output_type": "stream",
     "name": "stdout",
     "text": "Dimension of abstracts train:  (400, 3)\nDimension of entities train:  (13636, 7)\n\nDimension of abstracts test:  (100, 3)\n"
    }
   ]
  },
  {
   "cell_type": "markdown",
   "source": "## EDA",
   "metadata": {
    "id": "VNiLHfqbIMhr",
    "cell_id": "00009-0046b24d-7bca-4fba-b7a8-272ba3f32ab0",
    "deepnote_cell_type": "markdown",
    "deepnote_cell_height": 70
   }
  },
  {
   "cell_type": "code",
   "metadata": {
    "colab": {
     "base_uri": "https://localhost:8080/",
     "height": 380
    },
    "id": "gg0W9u6cINCi",
    "outputId": "d40fd02b-2e8c-4e33-b067-3db538380185",
    "cell_id": "00010-e0b390b2-549b-4ed2-bd9e-981f010f602e",
    "allow_embed": true,
    "deepnote_cell_type": "code",
    "deepnote_cell_height": 514.953125,
    "deepnote_output_heights": [
     null,
     177
    ]
   },
   "source": "abstracts_train.info()\nabstracts_train.head()",
   "execution_count": null,
   "outputs": [
    {
     "output_type": "stream",
     "name": "stdout",
     "text": "<class 'pandas.core.frame.DataFrame'>\nRangeIndex: 400 entries, 0 to 399\nData columns (total 3 columns):\n #   Column       Non-Null Count  Dtype \n---  ------       --------------  ----- \n 0   abstract_id  400 non-null    int64 \n 1   title        400 non-null    object\n 2   abstract     400 non-null    object\ndtypes: int64(1), object(2)\nmemory usage: 9.5+ KB\n"
    },
    {
     "output_type": "execute_result",
     "data": {
      "text/html": "<div>\n<style scoped>\n    .dataframe tbody tr th:only-of-type {\n        vertical-align: middle;\n    }\n\n    .dataframe tbody tr th {\n        vertical-align: top;\n    }\n\n    .dataframe thead th {\n        text-align: right;\n    }\n</style>\n<table border=\"1\" class=\"dataframe\">\n  <thead>\n    <tr style=\"text-align: right;\">\n      <th></th>\n      <th>abstract_id</th>\n      <th>title</th>\n      <th>abstract</th>\n    </tr>\n  </thead>\n  <tbody>\n    <tr>\n      <th>0</th>\n      <td>1353340</td>\n      <td>Late-onset metachromatic leukodystrophy: molec...</td>\n      <td>We report on a new allele at the arylsulfatase...</td>\n    </tr>\n    <tr>\n      <th>1</th>\n      <td>1671881</td>\n      <td>Two distinct mutations at a single BamHI site ...</td>\n      <td>Classical phenylketonuria is an autosomal rece...</td>\n    </tr>\n    <tr>\n      <th>2</th>\n      <td>1848636</td>\n      <td>Debrisoquine phenotype and the pharmacokinetic...</td>\n      <td>The metabolism of the cardioselective beta-blo...</td>\n    </tr>\n    <tr>\n      <th>3</th>\n      <td>2422478</td>\n      <td>Midline B3 serotonin nerves in rat medulla are...</td>\n      <td>Previous experiments in this laboratory have s...</td>\n    </tr>\n    <tr>\n      <th>4</th>\n      <td>2491010</td>\n      <td>Molecular and phenotypic analysis of patients ...</td>\n      <td>Eighty unrelated individuals with Duchenne mus...</td>\n    </tr>\n  </tbody>\n</table>\n</div>",
      "text/plain": "   abstract_id  ...                                           abstract\n0      1353340  ...  We report on a new allele at the arylsulfatase...\n1      1671881  ...  Classical phenylketonuria is an autosomal rece...\n2      1848636  ...  The metabolism of the cardioselective beta-blo...\n3      2422478  ...  Previous experiments in this laboratory have s...\n4      2491010  ...  Eighty unrelated individuals with Duchenne mus...\n\n[5 rows x 3 columns]"
     },
     "metadata": {},
     "execution_count": 5
    }
   ]
  },
  {
   "cell_type": "code",
   "metadata": {
    "colab": {
     "base_uri": "https://localhost:8080/",
     "height": 449
    },
    "id": "W411UpEnJcjU",
    "outputId": "a5c4f8f6-3c7d-46c2-c496-eef50499e65f",
    "cell_id": "00011-db031d92-1adf-48bd-99ee-d1d3ae7e63d0",
    "allow_embed": true,
    "deepnote_cell_type": "code",
    "deepnote_cell_height": 593.734375
   },
   "source": "entities_train.info()\nentities_train.head()",
   "execution_count": null,
   "outputs": [
    {
     "output_type": "stream",
     "name": "stdout",
     "text": "<class 'pandas.core.frame.DataFrame'>\nRangeIndex: 13636 entries, 0 to 13635\nData columns (total 7 columns):\n #   Column         Non-Null Count  Dtype \n---  ------         --------------  ----- \n 0   id             13636 non-null  int64 \n 1   abstract_id    13636 non-null  int64 \n 2   offset_start   13636 non-null  int64 \n 3   offset_finish  13636 non-null  int64 \n 4   type           13636 non-null  object\n 5   mention        13636 non-null  object\n 6   entity_ids     13636 non-null  object\ndtypes: int64(4), object(3)\nmemory usage: 745.8+ KB\n"
    },
    {
     "output_type": "execute_result",
     "data": {
      "text/html": "<div>\n<style scoped>\n    .dataframe tbody tr th:only-of-type {\n        vertical-align: middle;\n    }\n\n    .dataframe tbody tr th {\n        vertical-align: top;\n    }\n\n    .dataframe thead th {\n        text-align: right;\n    }\n</style>\n<table border=\"1\" class=\"dataframe\">\n  <thead>\n    <tr style=\"text-align: right;\">\n      <th></th>\n      <th>id</th>\n      <th>abstract_id</th>\n      <th>offset_start</th>\n      <th>offset_finish</th>\n      <th>type</th>\n      <th>mention</th>\n      <th>entity_ids</th>\n    </tr>\n  </thead>\n  <tbody>\n    <tr>\n      <th>0</th>\n      <td>0</td>\n      <td>1353340</td>\n      <td>11</td>\n      <td>39</td>\n      <td>DiseaseOrPhenotypicFeature</td>\n      <td>metachromatic leukodystrophy</td>\n      <td>D007966</td>\n    </tr>\n    <tr>\n      <th>1</th>\n      <td>1</td>\n      <td>1353340</td>\n      <td>111</td>\n      <td>126</td>\n      <td>GeneOrGeneProduct</td>\n      <td>arylsulfatase A</td>\n      <td>410</td>\n    </tr>\n    <tr>\n      <th>2</th>\n      <td>2</td>\n      <td>1353340</td>\n      <td>128</td>\n      <td>132</td>\n      <td>GeneOrGeneProduct</td>\n      <td>ARSA</td>\n      <td>410</td>\n    </tr>\n    <tr>\n      <th>3</th>\n      <td>3</td>\n      <td>1353340</td>\n      <td>159</td>\n      <td>187</td>\n      <td>DiseaseOrPhenotypicFeature</td>\n      <td>metachromatic leukodystrophy</td>\n      <td>D007966</td>\n    </tr>\n    <tr>\n      <th>4</th>\n      <td>4</td>\n      <td>1353340</td>\n      <td>189</td>\n      <td>192</td>\n      <td>DiseaseOrPhenotypicFeature</td>\n      <td>MLD</td>\n      <td>D007966</td>\n    </tr>\n  </tbody>\n</table>\n</div>",
      "text/plain": "   id  abstract_id  ...                       mention  entity_ids\n0   0      1353340  ...  metachromatic leukodystrophy     D007966\n1   1      1353340  ...               arylsulfatase A         410\n2   2      1353340  ...                          ARSA         410\n3   3      1353340  ...  metachromatic leukodystrophy     D007966\n4   4      1353340  ...                           MLD     D007966\n\n[5 rows x 7 columns]"
     },
     "metadata": {},
     "execution_count": 6
    }
   ]
  },
  {
   "cell_type": "code",
   "metadata": {
    "colab": {
     "base_uri": "https://localhost:8080/"
    },
    "id": "PAN9LPEYNqNc",
    "outputId": "e060ddbd-8c52-4ff5-a5f0-abffe560d81b",
    "cell_id": "00012-2acdd0df-682d-485a-8200-6749aff155bc",
    "allow_embed": true,
    "deepnote_cell_type": "code",
    "deepnote_cell_height": 149.390625
   },
   "source": "missing_cols(abstracts_train)\nmissing_cols(entities_train)",
   "execution_count": null,
   "outputs": [
    {
     "output_type": "stream",
     "name": "stdout",
     "text": "no missing values\nno missing values\n"
    }
   ]
  },
  {
   "cell_type": "markdown",
   "source": "### How many types are there?",
   "metadata": {
    "id": "tKveqnOGYZuA",
    "cell_id": "00013-d8f265b3-7949-42e9-a2d7-8b4e3bb0433d",
    "deepnote_cell_type": "markdown",
    "deepnote_cell_height": 62
   }
  },
  {
   "cell_type": "code",
   "metadata": {
    "colab": {
     "base_uri": "https://localhost:8080/",
     "height": 265
    },
    "id": "FcA-mZ75NPa4",
    "outputId": "88f6d931-dbad-4816-82ee-8e61ee0b177b",
    "cell_id": "00014-e5b3d98e-e96d-402c-994c-65cf17e0f03c",
    "allow_embed": true,
    "deepnote_cell_type": "code",
    "deepnote_cell_height": 347,
    "deepnote_output_heights": [
     250
    ]
   },
   "source": "entities_train['type'].value_counts().plot(kind=\"barh\").invert_yaxis();",
   "execution_count": null,
   "outputs": [
    {
     "output_type": "display_data",
     "data": {
      "image/png": "[encoded data removed]",
      "text/plain": "<Figure size 432x288 with 1 Axes>"
     },
     "metadata": {
      "needs_background": "light",
      "image/png": {
       "width": 512,
       "height": 248
      }
     }
    }
   ]
  },
  {
   "cell_type": "code",
   "metadata": {
    "colab": {
     "base_uri": "https://localhost:8080/",
     "height": 206
    },
    "id": "wSanfdmd4EvF",
    "outputId": "a4a330db-6407-4811-c1d4-dac2ad175b51",
    "cell_id": "00015-aef91cf5-7fc7-4ccc-aac2-cb0a6b8be0a2",
    "deepnote_cell_type": "code",
    "deepnote_cell_height": 274
   },
   "source": "abstracts_train.head()",
   "execution_count": null,
   "outputs": [
    {
     "output_type": "execute_result",
     "data": {
      "text/html": "<div>\n<style scoped>\n    .dataframe tbody tr th:only-of-type {\n        vertical-align: middle;\n    }\n\n    .dataframe tbody tr th {\n        vertical-align: top;\n    }\n\n    .dataframe thead th {\n        text-align: right;\n    }\n</style>\n<table border=\"1\" class=\"dataframe\">\n  <thead>\n    <tr style=\"text-align: right;\">\n      <th></th>\n      <th>abstract_id</th>\n      <th>title</th>\n      <th>abstract</th>\n    </tr>\n  </thead>\n  <tbody>\n    <tr>\n      <th>0</th>\n      <td>1353340</td>\n      <td>Late-onset metachromatic leukodystrophy: molec...</td>\n      <td>We report on a new allele at the arylsulfatase...</td>\n    </tr>\n    <tr>\n      <th>1</th>\n      <td>1671881</td>\n      <td>Two distinct mutations at a single BamHI site ...</td>\n      <td>Classical phenylketonuria is an autosomal rece...</td>\n    </tr>\n    <tr>\n      <th>2</th>\n      <td>1848636</td>\n      <td>Debrisoquine phenotype and the pharmacokinetic...</td>\n      <td>The metabolism of the cardioselective beta-blo...</td>\n    </tr>\n    <tr>\n      <th>3</th>\n      <td>2422478</td>\n      <td>Midline B3 serotonin nerves in rat medulla are...</td>\n      <td>Previous experiments in this laboratory have s...</td>\n    </tr>\n    <tr>\n      <th>4</th>\n      <td>2491010</td>\n      <td>Molecular and phenotypic analysis of patients ...</td>\n      <td>Eighty unrelated individuals with Duchenne mus...</td>\n    </tr>\n  </tbody>\n</table>\n</div>",
      "text/plain": "   abstract_id  ...                                           abstract\n0      1353340  ...  We report on a new allele at the arylsulfatase...\n1      1671881  ...  Classical phenylketonuria is an autosomal rece...\n2      1848636  ...  The metabolism of the cardioselective beta-blo...\n3      2422478  ...  Previous experiments in this laboratory have s...\n4      2491010  ...  Eighty unrelated individuals with Duchenne mus...\n\n[5 rows x 3 columns]"
     },
     "metadata": {},
     "execution_count": 9
    }
   ]
  },
  {
   "cell_type": "markdown",
   "source": "## scispaCy in action",
   "metadata": {
    "id": "2dVeUbLbBVuJ",
    "cell_id": "00016-845d4a0a-5552-4e84-9025-63174ec35cfc",
    "deepnote_cell_type": "markdown",
    "deepnote_cell_height": 70
   }
  },
  {
   "cell_type": "code",
   "metadata": {
    "colab": {
     "base_uri": "https://localhost:8080/"
    },
    "id": "HzZ657-UZDV3",
    "outputId": "1800fcbf-e47f-427a-a718-8e490071dd0c",
    "cell_id": "00017-ad2a76ed-bc48-41d6-a123-3bc0aa7fa5dc",
    "allow_embed": true,
    "deepnote_cell_type": "code",
    "deepnote_cell_height": 136.1875
   },
   "source": "text = abstracts_train.iloc[0].title + abstracts_train.iloc[0].abstract\nlen(text)",
   "execution_count": null,
   "outputs": [
    {
     "output_type": "execute_result",
     "data": {
      "text/plain": "717"
     },
     "metadata": {},
     "execution_count": 10
    }
   ]
  },
  {
   "cell_type": "code",
   "metadata": {
    "colab": {
     "base_uri": "https://localhost:8080/",
     "height": 122
    },
    "id": "AGmuRsUTZMKa",
    "outputId": "8c9f7da0-eae4-41c8-de74-4c5a2ad3cf9b",
    "cell_id": "00018-9a718d96-edde-49bf-9540-b3ca52a8371d",
    "allow_embed": true,
    "deepnote_cell_type": "code",
    "deepnote_cell_height": 118.1875
   },
   "source": "text",
   "execution_count": null,
   "outputs": [
    {
     "output_type": "execute_result",
     "data": {
      "application/vnd.google.colaboratory.intrinsic+json": {
       "type": "string"
      },
      "text/plain": "'Late-onset metachromatic leukodystrophy: molecular pathology in two siblings.We report on a new allele at the arylsulfatase A (ARSA) locus causing late-onset metachromatic leukodystrophy (MLD). In that allele arginine84, a residue that is highly conserved in the arylsulfatase gene family, is replaced by glutamine. In contrast to alleles that cause early-onset MLD, the arginine84 to glutamine substitution is associated with some residual ARSA activity. A comparison of genotypes, ARSA activities, and clinical data on 4 individuals carrying the allele of 81 patients with MLD examined, further validates the concept that different degrees of residual ARSA activity are the basis of phenotypical variation in MLD.. '"
     },
     "metadata": {},
     "execution_count": 11
    }
   ]
  },
  {
   "cell_type": "code",
   "metadata": {
    "id": "mMdDMA_pZmLC",
    "cell_id": "00019-51ef237e-19b5-4e8f-8ab4-79fd8e41efe3",
    "allow_embed": "code",
    "deepnote_cell_type": "code",
    "deepnote_cell_height": 84
   },
   "source": "nlp = en_ner_bionlp13cg_md.load()\ndoc_bionlp13cg = nlp(text)",
   "execution_count": null,
   "outputs": []
  },
  {
   "cell_type": "code",
   "metadata": {
    "colab": {
     "base_uri": "https://localhost:8080/"
    },
    "id": "rjNHJCcpFaD2",
    "outputId": "3bc5731e-a5ff-419d-93e3-4bb4f06e7638",
    "cell_id": "00021-5212a2cb-6efc-4228-8c98-274e6643ddb8",
    "allow_embed": true,
    "deepnote_cell_type": "code",
    "deepnote_cell_height": 406.125
   },
   "source": "doc_bionlp13cg.ents",
   "execution_count": null,
   "outputs": [
    {
     "output_type": "execute_result",
     "data": {
      "text/plain": "(arylsulfatase A,\n ARSA),\n MLD,\n arginine84,\n arylsulfatase,\n glutamine,\n MLD,\n arginine84,\n glutamine,\n ARSA,\n ARSA,\n individuals,\n patients,\n MLD,\n ARSA,\n MLD)"
     },
     "metadata": {},
     "execution_count": 14
    }
   ]
  },
  {
   "cell_type": "code",
   "metadata": {
    "colab": {
     "base_uri": "https://localhost:8080/",
     "height": 297
    },
    "id": "3JddQlpDBpR8",
    "outputId": "96b04753-1ac1-43be-f25a-7247960e34b3",
    "cell_id": "00022-7742e0fe-d535-480a-b458-ddb6e61806a1",
    "allow_embed": true,
    "deepnote_cell_type": "code",
    "deepnote_cell_height": 369
   },
   "source": "displacy.render(doc_bionlp13cg_md, jupyter=True, style='ent')",
   "execution_count": null,
   "outputs": [
    {
     "output_type": "display_data",
     "data": {
      "text/html": "<span class=\"tex2jax_ignore\"><div class=\"entities\" style=\"line-height: 2.5; direction: ltr\">Late-onset metachromatic leukodystrophy: molecular pathology in two siblings.We report on a new allele at the \n<mark class=\"entity\" style=\"background: #ddd; padding: 0.45em 0.6em; margin: 0 0.25em; line-height: 1; border-radius: 0.35em;\">\n    arylsulfatase A\n    <span style=\"font-size: 0.8em; font-weight: bold; line-height: 1; border-radius: 0.35em; vertical-align: middle; margin-left: 0.5rem\">GENE_OR_GENE_PRODUCT</span>\n</mark>\n (\n<mark class=\"entity\" style=\"background: #ddd; padding: 0.45em 0.6em; margin: 0 0.25em; line-height: 1; border-radius: 0.35em;\">\n    ARSA)\n    <span style=\"font-size: 0.8em; font-weight: bold; line-height: 1; border-radius: 0.35em; vertical-align: middle; margin-left: 0.5rem\">GENE_OR_GENE_PRODUCT</span>\n</mark>\n locus causing late-onset metachromatic leukodystrophy (\n<mark class=\"entity\" style=\"background: #ddd; padding: 0.45em 0.6em; margin: 0 0.25em; line-height: 1; border-radius: 0.35em;\">\n    MLD\n    <span style=\"font-size: 0.8em; font-weight: bold; line-height: 1; border-radius: 0.35em; vertical-align: middle; margin-left: 0.5rem\">CANCER</span>\n</mark>\n). In that allele \n<mark class=\"entity\" style=\"background: #ddd; padding: 0.45em 0.6em; margin: 0 0.25em; line-height: 1; border-radius: 0.35em;\">\n    arginine84\n    <span style=\"font-size: 0.8em; font-weight: bold; line-height: 1; border-radius: 0.35em; vertical-align: middle; margin-left: 0.5rem\">GENE_OR_GENE_PRODUCT</span>\n</mark>\n, a residue that is highly conserved in the \n<mark class=\"entity\" style=\"background: #ddd; padding: 0.45em 0.6em; margin: 0 0.25em; line-height: 1; border-radius: 0.35em;\">\n    arylsulfatase\n    <span style=\"font-size: 0.8em; font-weight: bold; line-height: 1; border-radius: 0.35em; vertical-align: middle; margin-left: 0.5rem\">GENE_OR_GENE_PRODUCT</span>\n</mark>\n gene family, is replaced by \n<mark class=\"entity\" style=\"background: #ddd; padding: 0.45em 0.6em; margin: 0 0.25em; line-height: 1; border-radius: 0.35em;\">\n    glutamine\n    <span style=\"font-size: 0.8em; font-weight: bold; line-height: 1; border-radius: 0.35em; vertical-align: middle; margin-left: 0.5rem\">AMINO_ACID</span>\n</mark>\n. In contrast to alleles that cause early-onset \n<mark class=\"entity\" style=\"background: #ddd; padding: 0.45em 0.6em; margin: 0 0.25em; line-height: 1; border-radius: 0.35em;\">\n    MLD\n    <span style=\"font-size: 0.8em; font-weight: bold; line-height: 1; border-radius: 0.35em; vertical-align: middle; margin-left: 0.5rem\">GENE_OR_GENE_PRODUCT</span>\n</mark>\n, the \n<mark class=\"entity\" style=\"background: #ddd; padding: 0.45em 0.6em; margin: 0 0.25em; line-height: 1; border-radius: 0.35em;\">\n    arginine84\n    <span style=\"font-size: 0.8em; font-weight: bold; line-height: 1; border-radius: 0.35em; vertical-align: middle; margin-left: 0.5rem\">GENE_OR_GENE_PRODUCT</span>\n</mark>\n to \n<mark class=\"entity\" style=\"background: #ddd; padding: 0.45em 0.6em; margin: 0 0.25em; line-height: 1; border-radius: 0.35em;\">\n    glutamine\n    <span style=\"font-size: 0.8em; font-weight: bold; line-height: 1; border-radius: 0.35em; vertical-align: middle; margin-left: 0.5rem\">AMINO_ACID</span>\n</mark>\n substitution is associated with some residual \n<mark class=\"entity\" style=\"background: #ddd; padding: 0.45em 0.6em; margin: 0 0.25em; line-height: 1; border-radius: 0.35em;\">\n    ARSA\n    <span style=\"font-size: 0.8em; font-weight: bold; line-height: 1; border-radius: 0.35em; vertical-align: middle; margin-left: 0.5rem\">GENE_OR_GENE_PRODUCT</span>\n</mark>\n activity. A comparison of genotypes, \n<mark class=\"entity\" style=\"background: #ddd; padding: 0.45em 0.6em; margin: 0 0.25em; line-height: 1; border-radius: 0.35em;\">\n    ARSA\n    <span style=\"font-size: 0.8em; font-weight: bold; line-height: 1; border-radius: 0.35em; vertical-align: middle; margin-left: 0.5rem\">GENE_OR_GENE_PRODUCT</span>\n</mark>\n activities, and clinical data on 4 \n<mark class=\"entity\" style=\"background: #ddd; padding: 0.45em 0.6em; margin: 0 0.25em; line-height: 1; border-radius: 0.35em;\">\n    individuals\n    <span style=\"font-size: 0.8em; font-weight: bold; line-height: 1; border-radius: 0.35em; vertical-align: middle; margin-left: 0.5rem\">ORGANISM</span>\n</mark>\n carrying the allele of 81 \n<mark class=\"entity\" style=\"background: #ddd; padding: 0.45em 0.6em; margin: 0 0.25em; line-height: 1; border-radius: 0.35em;\">\n    patients\n    <span style=\"font-size: 0.8em; font-weight: bold; line-height: 1; border-radius: 0.35em; vertical-align: middle; margin-left: 0.5rem\">ORGANISM</span>\n</mark>\n with \n<mark class=\"entity\" style=\"background: #ddd; padding: 0.45em 0.6em; margin: 0 0.25em; line-height: 1; border-radius: 0.35em;\">\n    MLD\n    <span style=\"font-size: 0.8em; font-weight: bold; line-height: 1; border-radius: 0.35em; vertical-align: middle; margin-left: 0.5rem\">GENE_OR_GENE_PRODUCT</span>\n</mark>\n examined, further validates the concept that different degrees of residual \n<mark class=\"entity\" style=\"background: #ddd; padding: 0.45em 0.6em; margin: 0 0.25em; line-height: 1; border-radius: 0.35em;\">\n    ARSA\n    <span style=\"font-size: 0.8em; font-weight: bold; line-height: 1; border-radius: 0.35em; vertical-align: middle; margin-left: 0.5rem\">GENE_OR_GENE_PRODUCT</span>\n</mark>\n activity are the basis of phenotypical variation in \n<mark class=\"entity\" style=\"background: #ddd; padding: 0.45em 0.6em; margin: 0 0.25em; line-height: 1; border-radius: 0.35em;\">\n    MLD\n    <span style=\"font-size: 0.8em; font-weight: bold; line-height: 1; border-radius: 0.35em; vertical-align: middle; margin-left: 0.5rem\">GENE_OR_GENE_PRODUCT</span>\n</mark>\n.. </div></span>",
      "text/plain": "<IPython.core.display.HTML object>"
     },
     "metadata": {}
    }
   ]
  },
  {
   "cell_type": "code",
   "metadata": {
    "colab": {
     "base_uri": "https://localhost:8080/"
    },
    "id": "y_U4ckf6BsWb",
    "outputId": "853ffd64-e555-45af-bc64-7ad2041aac7a",
    "cell_id": "00023-381c3417-ddb1-4480-a70d-506208158c08",
    "allow_embed": true,
    "deepnote_cell_type": "code",
    "deepnote_cell_height": 407.125
   },
   "source": "pprint({(X.text, X.label_, X.start_char, X.end_char) for X in doc_bionlp13cg_md.ents})",
   "execution_count": null,
   "outputs": [
    {
     "output_type": "stream",
     "name": "stdout",
     "text": "{('ARSA', 'GENE_OR_GENE_PRODUCT', 441, 445),\n ('ARSA', 'GENE_OR_GENE_PRODUCT', 483, 487),\n ('ARSA', 'GENE_OR_GENE_PRODUCT', 654, 658),\n ('ARSA)', 'GENE_OR_GENE_PRODUCT', 127, 132),\n ('MLD', 'CANCER', 188, 191),\n ('MLD', 'GENE_OR_GENE_PRODUCT', 362, 365),\n ('MLD', 'GENE_OR_GENE_PRODUCT', 575, 578),\n ('MLD', 'GENE_OR_GENE_PRODUCT', 711, 714),\n ('arginine84', 'GENE_OR_GENE_PRODUCT', 209, 219),\n ('arginine84', 'GENE_OR_GENE_PRODUCT', 371, 381),\n ('arylsulfatase', 'GENE_OR_GENE_PRODUCT', 263, 276),\n ('arylsulfatase A', 'GENE_OR_GENE_PRODUCT', 110, 125),\n ('glutamine', 'AMINO_ACID', 305, 314),\n ('glutamine', 'AMINO_ACID', 385, 394),\n ('individuals', 'ORGANISM', 523, 534),\n ('patients', 'ORGANISM', 561, 569)}\n"
    }
   ]
  },
  {
   "cell_type": "markdown",
   "source": "### Use the three other models",
   "metadata": {
    "id": "o_uHfhbgIHA7",
    "cell_id": "00024-f80a5889-b4dd-4cde-8cf5-d88917a0009c",
    "deepnote_cell_type": "markdown",
    "deepnote_cell_height": 62
   }
  },
  {
   "cell_type": "code",
   "metadata": {
    "id": "r9ow0FfyPxEc",
    "cell_id": "00025-dc411695-e4d9-4683-9090-a452378b0548",
    "allow_embed": true,
    "deepnote_cell_type": "code",
    "deepnote_cell_height": 174
   },
   "source": "nlp_craft = en_ner_craft_md.load()\nnlp_jnlpba = en_ner_jnlpba_md.load()\nnlp_bc5cdr = en_ner_bc5cdr_md.load()\n\ndoc_craft = nlp_craft(text)\ndoc_jnlpba = nlp_jnlpba(text)\ndoc_bc5cdr= nlp_bc5cdr(text)",
   "execution_count": null,
   "outputs": []
  },
  {
   "cell_type": "markdown",
   "source": "## Display the entities with other models",
   "metadata": {
    "id": "4PNKMsTwBb6P",
    "cell_id": "00026-5738dd6a-fa83-4e23-aea4-8469bccbe39f",
    "deepnote_cell_type": "markdown",
    "deepnote_cell_height": 70
   }
  },
  {
   "cell_type": "code",
   "metadata": {
    "colab": {
     "base_uri": "https://localhost:8080/",
     "height": 227
    },
    "id": "FL5mU3EOwLCL",
    "outputId": "c4b65b23-f1d5-433f-a2cd-c504422424d3",
    "cell_id": "00027-b1c2ec85-de22-4f6e-ad01-520e25c29725",
    "allow_embed": true,
    "deepnote_cell_type": "code",
    "deepnote_cell_height": 357
   },
   "source": "displacy.render(doc_craft, jupyter=True, style=\"ent\")\n",
   "execution_count": null,
   "outputs": [
    {
     "output_type": "display_data",
     "data": {
      "text/html": "<span class=\"tex2jax_ignore\"><div class=\"entities\" style=\"line-height: 2.5; direction: ltr\">Late-onset metachromatic leukodystrophy: \n<mark class=\"entity\" style=\"background: #ddd; padding: 0.45em 0.6em; margin: 0 0.25em; line-height: 1; border-radius: 0.35em;\">\n    molecular\n    <span style=\"font-size: 0.8em; font-weight: bold; line-height: 1; border-radius: 0.35em; vertical-align: middle; margin-left: 0.5rem\">CHEBI</span>\n</mark>\n pathology in two siblings.We report on a new \n<mark class=\"entity\" style=\"background: #ddd; padding: 0.45em 0.6em; margin: 0 0.25em; line-height: 1; border-radius: 0.35em;\">\n    allele\n    <span style=\"font-size: 0.8em; font-weight: bold; line-height: 1; border-radius: 0.35em; vertical-align: middle; margin-left: 0.5rem\">SO</span>\n</mark>\n at the \n<mark class=\"entity\" style=\"background: #ddd; padding: 0.45em 0.6em; margin: 0 0.25em; line-height: 1; border-radius: 0.35em;\">\n    arylsulfatase A\n    <span style=\"font-size: 0.8em; font-weight: bold; line-height: 1; border-radius: 0.35em; vertical-align: middle; margin-left: 0.5rem\">GGP</span>\n</mark>\n (ARSA) \n<mark class=\"entity\" style=\"background: #ddd; padding: 0.45em 0.6em; margin: 0 0.25em; line-height: 1; border-radius: 0.35em;\">\n    locus\n    <span style=\"font-size: 0.8em; font-weight: bold; line-height: 1; border-radius: 0.35em; vertical-align: middle; margin-left: 0.5rem\">SO</span>\n</mark>\n causing late-onset metachromatic leukodystrophy (MLD). In that \n<mark class=\"entity\" style=\"background: #ddd; padding: 0.45em 0.6em; margin: 0 0.25em; line-height: 1; border-radius: 0.35em;\">\n    allele\n    <span style=\"font-size: 0.8em; font-weight: bold; line-height: 1; border-radius: 0.35em; vertical-align: middle; margin-left: 0.5rem\">SO</span>\n</mark>\n arginine84, a residue that is highly \n<mark class=\"entity\" style=\"background: #ddd; padding: 0.45em 0.6em; margin: 0 0.25em; line-height: 1; border-radius: 0.35em;\">\n    conserved\n    <span style=\"font-size: 0.8em; font-weight: bold; line-height: 1; border-radius: 0.35em; vertical-align: middle; margin-left: 0.5rem\">SO</span>\n</mark>\n in the \n<mark class=\"entity\" style=\"background: #ddd; padding: 0.45em 0.6em; margin: 0 0.25em; line-height: 1; border-radius: 0.35em;\">\n    arylsulfatase gene\n    <span style=\"font-size: 0.8em; font-weight: bold; line-height: 1; border-radius: 0.35em; vertical-align: middle; margin-left: 0.5rem\">GGP</span>\n</mark>\n family, is \n<mark class=\"entity\" style=\"background: #ddd; padding: 0.45em 0.6em; margin: 0 0.25em; line-height: 1; border-radius: 0.35em;\">\n    replaced\n    <span style=\"font-size: 0.8em; font-weight: bold; line-height: 1; border-radius: 0.35em; vertical-align: middle; margin-left: 0.5rem\">SO</span>\n</mark>\n by \n<mark class=\"entity\" style=\"background: #ddd; padding: 0.45em 0.6em; margin: 0 0.25em; line-height: 1; border-radius: 0.35em;\">\n    glutamine\n    <span style=\"font-size: 0.8em; font-weight: bold; line-height: 1; border-radius: 0.35em; vertical-align: middle; margin-left: 0.5rem\">CHEBI</span>\n</mark>\n. In contrast to \n<mark class=\"entity\" style=\"background: #ddd; padding: 0.45em 0.6em; margin: 0 0.25em; line-height: 1; border-radius: 0.35em;\">\n    alleles\n    <span style=\"font-size: 0.8em; font-weight: bold; line-height: 1; border-radius: 0.35em; vertical-align: middle; margin-left: 0.5rem\">SO</span>\n</mark>\n that cause early-onset MLD, the arginine84 to \n<mark class=\"entity\" style=\"background: #ddd; padding: 0.45em 0.6em; margin: 0 0.25em; line-height: 1; border-radius: 0.35em;\">\n    glutamine substitution\n    <span style=\"font-size: 0.8em; font-weight: bold; line-height: 1; border-radius: 0.35em; vertical-align: middle; margin-left: 0.5rem\">CHEBI</span>\n</mark>\n is associated with some residual ARSA activity. A comparison of \n<mark class=\"entity\" style=\"background: #ddd; padding: 0.45em 0.6em; margin: 0 0.25em; line-height: 1; border-radius: 0.35em;\">\n    genotypes\n    <span style=\"font-size: 0.8em; font-weight: bold; line-height: 1; border-radius: 0.35em; vertical-align: middle; margin-left: 0.5rem\">SO</span>\n</mark>\n, \n<mark class=\"entity\" style=\"background: #ddd; padding: 0.45em 0.6em; margin: 0 0.25em; line-height: 1; border-radius: 0.35em;\">\n    ARSA\n    <span style=\"font-size: 0.8em; font-weight: bold; line-height: 1; border-radius: 0.35em; vertical-align: middle; margin-left: 0.5rem\">GGP</span>\n</mark>\n activities, and clinical data on 4 \n<mark class=\"entity\" style=\"background: #ddd; padding: 0.45em 0.6em; margin: 0 0.25em; line-height: 1; border-radius: 0.35em;\">\n    individuals\n    <span style=\"font-size: 0.8em; font-weight: bold; line-height: 1; border-radius: 0.35em; vertical-align: middle; margin-left: 0.5rem\">TAXON</span>\n</mark>\n carrying the \n<mark class=\"entity\" style=\"background: #ddd; padding: 0.45em 0.6em; margin: 0 0.25em; line-height: 1; border-radius: 0.35em;\">\n    allele\n    <span style=\"font-size: 0.8em; font-weight: bold; line-height: 1; border-radius: 0.35em; vertical-align: middle; margin-left: 0.5rem\">SO</span>\n</mark>\n of 81 patients with MLD examined, further validates the concept that different degrees of residual ARSA activity are the basis of phenotypical variation in MLD.. </div></span>",
      "text/plain": "<IPython.core.display.HTML object>"
     },
     "metadata": {}
    }
   ]
  },
  {
   "cell_type": "code",
   "metadata": {
    "colab": {
     "base_uri": "https://localhost:8080/",
     "height": 227
    },
    "id": "3_lCblMSxPsU",
    "outputId": "bc4b373d-35fc-42fc-9833-beca702b2238",
    "cell_id": "00028-f44692e8-e72d-486a-b072-e2ed104e7415",
    "allow_embed": true,
    "deepnote_cell_type": "code",
    "deepnote_cell_height": 339,
    "deepnote_output_heights": [
     242
    ]
   },
   "source": "displacy.render(doc_jnlpba, jupyter=True, style='ent')",
   "execution_count": null,
   "outputs": [
    {
     "output_type": "display_data",
     "data": {
      "text/html": "<span class=\"tex2jax_ignore\"><div class=\"entities\" style=\"line-height: 2.5; direction: ltr\">Late-onset metachromatic leukodystrophy: molecular pathology in two siblings.We report on a new \n<mark class=\"entity\" style=\"background: #ddd; padding: 0.45em 0.6em; margin: 0 0.25em; line-height: 1; border-radius: 0.35em;\">\n    allele\n    <span style=\"font-size: 0.8em; font-weight: bold; line-height: 1; border-radius: 0.35em; vertical-align: middle; margin-left: 0.5rem\">DNA</span>\n</mark>\n at the \n<mark class=\"entity\" style=\"background: #ddd; padding: 0.45em 0.6em; margin: 0 0.25em; line-height: 1; border-radius: 0.35em;\">\n    arylsulfatase A (ARSA) locus\n    <span style=\"font-size: 0.8em; font-weight: bold; line-height: 1; border-radius: 0.35em; vertical-align: middle; margin-left: 0.5rem\">DNA</span>\n</mark>\n causing late-onset metachromatic leukodystrophy (MLD). In that \n<mark class=\"entity\" style=\"background: #ddd; padding: 0.45em 0.6em; margin: 0 0.25em; line-height: 1; border-radius: 0.35em;\">\n    allele arginine84\n    <span style=\"font-size: 0.8em; font-weight: bold; line-height: 1; border-radius: 0.35em; vertical-align: middle; margin-left: 0.5rem\">DNA</span>\n</mark>\n, a residue that is highly conserved in the \n<mark class=\"entity\" style=\"background: #ddd; padding: 0.45em 0.6em; margin: 0 0.25em; line-height: 1; border-radius: 0.35em;\">\n    arylsulfatase gene family\n    <span style=\"font-size: 0.8em; font-weight: bold; line-height: 1; border-radius: 0.35em; vertical-align: middle; margin-left: 0.5rem\">DNA</span>\n</mark>\n, is replaced by glutamine. In contrast to alleles that cause early-onset MLD, the \n<mark class=\"entity\" style=\"background: #ddd; padding: 0.45em 0.6em; margin: 0 0.25em; line-height: 1; border-radius: 0.35em;\">\n    arginine84\n    <span style=\"font-size: 0.8em; font-weight: bold; line-height: 1; border-radius: 0.35em; vertical-align: middle; margin-left: 0.5rem\">PROTEIN</span>\n</mark>\n to glutamine substitution is associated with some residual \n<mark class=\"entity\" style=\"background: #ddd; padding: 0.45em 0.6em; margin: 0 0.25em; line-height: 1; border-radius: 0.35em;\">\n    ARSA\n    <span style=\"font-size: 0.8em; font-weight: bold; line-height: 1; border-radius: 0.35em; vertical-align: middle; margin-left: 0.5rem\">PROTEIN</span>\n</mark>\n activity. A comparison of genotypes, \n<mark class=\"entity\" style=\"background: #ddd; padding: 0.45em 0.6em; margin: 0 0.25em; line-height: 1; border-radius: 0.35em;\">\n    ARSA\n    <span style=\"font-size: 0.8em; font-weight: bold; line-height: 1; border-radius: 0.35em; vertical-align: middle; margin-left: 0.5rem\">PROTEIN</span>\n</mark>\n activities, and clinical data on 4 individuals carrying the \n<mark class=\"entity\" style=\"background: #ddd; padding: 0.45em 0.6em; margin: 0 0.25em; line-height: 1; border-radius: 0.35em;\">\n    allele\n    <span style=\"font-size: 0.8em; font-weight: bold; line-height: 1; border-radius: 0.35em; vertical-align: middle; margin-left: 0.5rem\">DNA</span>\n</mark>\n of 81 patients with MLD examined, further validates the concept that different degrees of residual \n<mark class=\"entity\" style=\"background: #ddd; padding: 0.45em 0.6em; margin: 0 0.25em; line-height: 1; border-radius: 0.35em;\">\n    ARSA\n    <span style=\"font-size: 0.8em; font-weight: bold; line-height: 1; border-radius: 0.35em; vertical-align: middle; margin-left: 0.5rem\">PROTEIN</span>\n</mark>\n activity are the basis of phenotypical variation in MLD.. </div></span>",
      "text/plain": "<IPython.core.display.HTML object>"
     },
     "metadata": {}
    }
   ]
  },
  {
   "cell_type": "code",
   "metadata": {
    "colab": {
     "base_uri": "https://localhost:8080/",
     "height": 227
    },
    "id": "DKvnI_c-xQcd",
    "outputId": "d7d0448d-671a-46d0-c9ec-14f2d9691928",
    "cell_id": "00029-7b71c0c7-c8b3-41a0-8d8b-248a6c70659b",
    "allow_embed": true,
    "deepnote_cell_type": "code",
    "deepnote_cell_height": 339,
    "deepnote_output_heights": [
     242
    ]
   },
   "source": "displacy.render(doc_bc5cdr, jupyter=True, style='ent')",
   "execution_count": null,
   "outputs": [
    {
     "output_type": "display_data",
     "data": {
      "text/html": "<span class=\"tex2jax_ignore\"><div class=\"entities\" style=\"line-height: 2.5; direction: ltr\">\n<mark class=\"entity\" style=\"background: #ddd; padding: 0.45em 0.6em; margin: 0 0.25em; line-height: 1; border-radius: 0.35em;\">\n    Late-onset metachromatic leukodystrophy\n    <span style=\"font-size: 0.8em; font-weight: bold; line-height: 1; border-radius: 0.35em; vertical-align: middle; margin-left: 0.5rem\">DISEASE</span>\n</mark>\n: molecular pathology in two siblings.We report on a new allele at the arylsulfatase A (ARSA) locus causing \n<mark class=\"entity\" style=\"background: #ddd; padding: 0.45em 0.6em; margin: 0 0.25em; line-height: 1; border-radius: 0.35em;\">\n    late-onset metachromatic leukodystrophy\n    <span style=\"font-size: 0.8em; font-weight: bold; line-height: 1; border-radius: 0.35em; vertical-align: middle; margin-left: 0.5rem\">DISEASE</span>\n</mark>\n (\n<mark class=\"entity\" style=\"background: #ddd; padding: 0.45em 0.6em; margin: 0 0.25em; line-height: 1; border-radius: 0.35em;\">\n    MLD\n    <span style=\"font-size: 0.8em; font-weight: bold; line-height: 1; border-radius: 0.35em; vertical-align: middle; margin-left: 0.5rem\">DISEASE</span>\n</mark>\n). In that allele arginine84, a residue that is highly conserved in the arylsulfatase gene family, is replaced by \n<mark class=\"entity\" style=\"background: #ddd; padding: 0.45em 0.6em; margin: 0 0.25em; line-height: 1; border-radius: 0.35em;\">\n    glutamine\n    <span style=\"font-size: 0.8em; font-weight: bold; line-height: 1; border-radius: 0.35em; vertical-align: middle; margin-left: 0.5rem\">CHEMICAL</span>\n</mark>\n. In contrast to alleles that cause early-onset \n<mark class=\"entity\" style=\"background: #ddd; padding: 0.45em 0.6em; margin: 0 0.25em; line-height: 1; border-radius: 0.35em;\">\n    MLD\n    <span style=\"font-size: 0.8em; font-weight: bold; line-height: 1; border-radius: 0.35em; vertical-align: middle; margin-left: 0.5rem\">DISEASE</span>\n</mark>\n, the arginine84 to \n<mark class=\"entity\" style=\"background: #ddd; padding: 0.45em 0.6em; margin: 0 0.25em; line-height: 1; border-radius: 0.35em;\">\n    glutamine\n    <span style=\"font-size: 0.8em; font-weight: bold; line-height: 1; border-radius: 0.35em; vertical-align: middle; margin-left: 0.5rem\">CHEMICAL</span>\n</mark>\n substitution is associated with some residual ARSA activity. A comparison of genotypes, ARSA activities, and clinical data on 4 individuals carrying the allele of 81 patients with \n<mark class=\"entity\" style=\"background: #ddd; padding: 0.45em 0.6em; margin: 0 0.25em; line-height: 1; border-radius: 0.35em;\">\n    MLD\n    <span style=\"font-size: 0.8em; font-weight: bold; line-height: 1; border-radius: 0.35em; vertical-align: middle; margin-left: 0.5rem\">DISEASE</span>\n</mark>\n examined, further validates the concept that different degrees of residual ARSA activity are the basis of phenotypical variation in \n<mark class=\"entity\" style=\"background: #ddd; padding: 0.45em 0.6em; margin: 0 0.25em; line-height: 1; border-radius: 0.35em;\">\n    MLD\n    <span style=\"font-size: 0.8em; font-weight: bold; line-height: 1; border-radius: 0.35em; vertical-align: middle; margin-left: 0.5rem\">DISEASE</span>\n</mark>\n.. </div></span>",
      "text/plain": "<IPython.core.display.HTML object>"
     },
     "metadata": {}
    }
   ]
  },
  {
   "cell_type": "markdown",
   "source": "Let's take the above entitiy categorizations and put them into data frame",
   "metadata": {
    "id": "w_GrVSoeMeEx",
    "cell_id": "00030-436430f3-c776-4b5b-bc9a-120afcbde8c1",
    "deepnote_cell_type": "markdown",
    "deepnote_cell_height": 52.390625
   }
  },
  {
   "cell_type": "code",
   "metadata": {
    "id": "DppGsxOfQb__",
    "cell_id": "00031-5692aa7e-87df-4a09-a537-8e070a835529",
    "allow_embed": true,
    "deepnote_cell_type": "code",
    "deepnote_cell_height": 156
   },
   "source": "data_doc_bionlp13cg = [(X.text, X.label_, X.start_char, X.end_char) for X in doc_bionlp13cg.ents]\ndata_doc_jcraft = [(X.text, X.label_, X.start_char, X.end_char) for X in doc_jcraft.ents]\ndata_doc_bc5cdr = [(X.text, X.label_, X.start_char, X.end_char) for X in doc_bc5cdr.ents]\ndata_doc_jnlpba = [(X.text, X.label_, X.start_char, X.end_char) for X in doc_jnlpba.ents]\n\ndata = data_doc_bionlp13cg + data_doc_jcraft + data_doc_bc5cdr + data_doc_jnlpba",
   "execution_count": null,
   "outputs": []
  },
  {
   "cell_type": "code",
   "metadata": {
    "colab": {
     "base_uri": "https://localhost:8080/"
    },
    "id": "pf2YmV76by3_",
    "outputId": "25c05811-279f-4804-f4dc-517064fb2fa4",
    "cell_id": "00032-57201a3a-e86f-439b-84aa-0fe2e013d4f7",
    "deepnote_cell_type": "code",
    "deepnote_cell_height": 118.1875,
    "deepnote_output_heights": [
     21.1875
    ]
   },
   "source": "len(data)",
   "execution_count": null,
   "outputs": [
    {
     "output_type": "execute_result",
     "data": {
      "text/plain": "48"
     },
     "metadata": {},
     "execution_count": 21
    }
   ]
  },
  {
   "cell_type": "code",
   "metadata": {
    "id": "jRFL_GzHNioB",
    "cell_id": "00033-323d34e5-fb6b-42d2-afdf-7a71dd36a268",
    "allow_embed": true,
    "deepnote_cell_type": "code",
    "deepnote_cell_height": 84
   },
   "source": "attrs = [\"text\", \"label_\", \"start_char\", \"end_char\"]\ntemp_df = pd.DataFrame(data, columns=attrs)",
   "execution_count": null,
   "outputs": []
  },
  {
   "cell_type": "code",
   "metadata": {
    "colab": {
     "base_uri": "https://localhost:8080/",
     "height": 206
    },
    "id": "jwgMssK8VUT1",
    "outputId": "e3294a55-31de-46f7-b4d8-dcd231a20cf2",
    "cell_id": "00034-ce196afe-9a87-4f53-be75-b0c862111cc7",
    "allow_embed": true,
    "deepnote_cell_type": "code",
    "deepnote_cell_height": 292,
    "deepnote_output_heights": [
     177
    ]
   },
   "source": "temp_train_df = entities_train.query('abstract_id == 1353340')\ntemp_train_df.head()",
   "execution_count": null,
   "outputs": [
    {
     "output_type": "execute_result",
     "data": {
      "text/html": "<div>\n<style scoped>\n    .dataframe tbody tr th:only-of-type {\n        vertical-align: middle;\n    }\n\n    .dataframe tbody tr th {\n        vertical-align: top;\n    }\n\n    .dataframe thead th {\n        text-align: right;\n    }\n</style>\n<table border=\"1\" class=\"dataframe\">\n  <thead>\n    <tr style=\"text-align: right;\">\n      <th></th>\n      <th>id</th>\n      <th>abstract_id</th>\n      <th>offset_start</th>\n      <th>offset_finish</th>\n      <th>type</th>\n      <th>mention</th>\n      <th>entity_ids</th>\n    </tr>\n  </thead>\n  <tbody>\n    <tr>\n      <th>0</th>\n      <td>0</td>\n      <td>1353340</td>\n      <td>11</td>\n      <td>39</td>\n      <td>DiseaseOrPhenotypicFeature</td>\n      <td>metachromatic leukodystrophy</td>\n      <td>D007966</td>\n    </tr>\n    <tr>\n      <th>1</th>\n      <td>1</td>\n      <td>1353340</td>\n      <td>111</td>\n      <td>126</td>\n      <td>GeneOrGeneProduct</td>\n      <td>arylsulfatase A</td>\n      <td>410</td>\n    </tr>\n    <tr>\n      <th>2</th>\n      <td>2</td>\n      <td>1353340</td>\n      <td>128</td>\n      <td>132</td>\n      <td>GeneOrGeneProduct</td>\n      <td>ARSA</td>\n      <td>410</td>\n    </tr>\n    <tr>\n      <th>3</th>\n      <td>3</td>\n      <td>1353340</td>\n      <td>159</td>\n      <td>187</td>\n      <td>DiseaseOrPhenotypicFeature</td>\n      <td>metachromatic leukodystrophy</td>\n      <td>D007966</td>\n    </tr>\n    <tr>\n      <th>4</th>\n      <td>4</td>\n      <td>1353340</td>\n      <td>189</td>\n      <td>192</td>\n      <td>DiseaseOrPhenotypicFeature</td>\n      <td>MLD</td>\n      <td>D007966</td>\n    </tr>\n  </tbody>\n</table>\n</div>",
      "text/plain": "   id  abstract_id  ...                       mention  entity_ids\n0   0      1353340  ...  metachromatic leukodystrophy     D007966\n1   1      1353340  ...               arylsulfatase A         410\n2   2      1353340  ...                          ARSA         410\n3   3      1353340  ...  metachromatic leukodystrophy     D007966\n4   4      1353340  ...                           MLD     D007966\n\n[5 rows x 7 columns]"
     },
     "metadata": {},
     "execution_count": 25
    }
   ]
  },
  {
   "cell_type": "code",
   "metadata": {
    "colab": {
     "base_uri": "https://localhost:8080/",
     "height": 426
    },
    "id": "NHTgQm9Fe-fq",
    "outputId": "f9499838-1963-4458-f696-2aa3fa038e83",
    "cell_id": "00035-e77910d8-a807-4d6e-b57b-9107a4d81810",
    "allow_embed": true,
    "deepnote_cell_type": "code",
    "deepnote_cell_height": 495,
    "deepnote_output_heights": [
     380
    ]
   },
   "source": "merged_df = temp_df.merge(temp_train_df, how = 'inner', left_on ='text', right_on = 'mention')\nmerged_df[['text', 'label_', 'type']].drop_duplicates()",
   "execution_count": null,
   "outputs": [
    {
     "output_type": "execute_result",
     "data": {
      "text/html": "<div>\n<style scoped>\n    .dataframe tbody tr th:only-of-type {\n        vertical-align: middle;\n    }\n\n    .dataframe tbody tr th {\n        vertical-align: top;\n    }\n\n    .dataframe thead th {\n        text-align: right;\n    }\n</style>\n<table border=\"1\" class=\"dataframe\">\n  <thead>\n    <tr style=\"text-align: right;\">\n      <th></th>\n      <th>text</th>\n      <th>label_</th>\n      <th>type</th>\n    </tr>\n  </thead>\n  <tbody>\n    <tr>\n      <th>0</th>\n      <td>arylsulfatase A</td>\n      <td>GENE_OR_GENE_PRODUCT</td>\n      <td>GeneOrGeneProduct</td>\n    </tr>\n    <tr>\n      <th>1</th>\n      <td>arylsulfatase A</td>\n      <td>GGP</td>\n      <td>GeneOrGeneProduct</td>\n    </tr>\n    <tr>\n      <th>2</th>\n      <td>MLD</td>\n      <td>CANCER</td>\n      <td>DiseaseOrPhenotypicFeature</td>\n    </tr>\n    <tr>\n      <th>6</th>\n      <td>MLD</td>\n      <td>GENE_OR_GENE_PRODUCT</td>\n      <td>DiseaseOrPhenotypicFeature</td>\n    </tr>\n    <tr>\n      <th>18</th>\n      <td>MLD</td>\n      <td>DISEASE</td>\n      <td>DiseaseOrPhenotypicFeature</td>\n    </tr>\n    <tr>\n      <th>34</th>\n      <td>arginine84</td>\n      <td>GENE_OR_GENE_PRODUCT</td>\n      <td>SequenceVariant</td>\n    </tr>\n    <tr>\n      <th>36</th>\n      <td>arginine84</td>\n      <td>PROTEIN</td>\n      <td>SequenceVariant</td>\n    </tr>\n    <tr>\n      <th>37</th>\n      <td>arylsulfatase</td>\n      <td>GENE_OR_GENE_PRODUCT</td>\n      <td>GeneOrGeneProduct</td>\n    </tr>\n    <tr>\n      <th>38</th>\n      <td>ARSA</td>\n      <td>GENE_OR_GENE_PRODUCT</td>\n      <td>GeneOrGeneProduct</td>\n    </tr>\n    <tr>\n      <th>50</th>\n      <td>ARSA</td>\n      <td>GGP</td>\n      <td>GeneOrGeneProduct</td>\n    </tr>\n    <tr>\n      <th>54</th>\n      <td>ARSA</td>\n      <td>PROTEIN</td>\n      <td>GeneOrGeneProduct</td>\n    </tr>\n    <tr>\n      <th>66</th>\n      <td>patients</td>\n      <td>ORGANISM</td>\n      <td>OrganismTaxon</td>\n    </tr>\n  </tbody>\n</table>\n</div>",
      "text/plain": "               text                label_                        type\n0   arylsulfatase A  GENE_OR_GENE_PRODUCT           GeneOrGeneProduct\n1   arylsulfatase A                   GGP           GeneOrGeneProduct\n2               MLD                CANCER  DiseaseOrPhenotypicFeature\n6               MLD  GENE_OR_GENE_PRODUCT  DiseaseOrPhenotypicFeature\n18              MLD               DISEASE  DiseaseOrPhenotypicFeature\n34       arginine84  GENE_OR_GENE_PRODUCT             SequenceVariant\n36       arginine84               PROTEIN             SequenceVariant\n37    arylsulfatase  GENE_OR_GENE_PRODUCT           GeneOrGeneProduct\n38             ARSA  GENE_OR_GENE_PRODUCT           GeneOrGeneProduct\n50             ARSA                   GGP           GeneOrGeneProduct\n54             ARSA               PROTEIN           GeneOrGeneProduct\n66         patients              ORGANISM               OrganismTaxon"
     },
     "metadata": {},
     "execution_count": 37
    }
   ]
  },
  {
   "cell_type": "code",
   "metadata": {
    "colab": {
     "base_uri": "https://localhost:8080/"
    },
    "id": "6ipXny6ogSYt",
    "outputId": "5cfa7ffe-df15-4110-a9b0-eb86d7e4320f",
    "cell_id": "00036-a5e2da23-08b8-4427-ad28-ff5d958f3327",
    "allow_embed": true,
    "deepnote_cell_type": "code",
    "deepnote_cell_height": 156.578125,
    "deepnote_output_heights": [
     59.578125
    ]
   },
   "source": "temp_df.label_.unique()",
   "execution_count": null,
   "outputs": [
    {
     "output_type": "execute_result",
     "data": {
      "text/plain": "array(['GENE_OR_GENE_PRODUCT', 'CANCER', 'AMINO_ACID', 'ORGANISM',\n       'CHEBI', 'SO', 'GGP', 'TAXON', 'DISEASE', 'CHEMICAL', 'DNA',\n       'PROTEIN'], dtype=object)"
     },
     "metadata": {},
     "execution_count": 38
    }
   ]
  },
  {
   "cell_type": "code",
   "metadata": {
    "colab": {
     "base_uri": "https://localhost:8080/"
    },
    "id": "5QR1mvIPjlQz",
    "outputId": "151d8e37-194f-4261-ed0d-77c284647ff2",
    "cell_id": "00037-8caae434-8d3a-4573-ab06-2f53d5973f1f",
    "allow_embed": true,
    "deepnote_cell_type": "code",
    "deepnote_cell_height": 137.390625,
    "deepnote_output_heights": [
     40.390625
    ]
   },
   "source": "temp_train_df.type.unique()",
   "execution_count": null,
   "outputs": [
    {
     "output_type": "execute_result",
     "data": {
      "text/plain": "array(['DiseaseOrPhenotypicFeature', 'GeneOrGeneProduct',\n       'SequenceVariant', 'OrganismTaxon'], dtype=object)"
     },
     "metadata": {},
     "execution_count": 52
    }
   ]
  },
  {
   "cell_type": "code",
   "metadata": {
    "id": "UkJTBSbBeFd5",
    "cell_id": "00038-96d1f6b1-8bed-4397-b871-156708752975",
    "allow_embed": true,
    "deepnote_cell_type": "code",
    "deepnote_cell_height": 336
   },
   "source": "temp_df.label_ = temp_df.label_.map(\n    {\n        \"GENE_OR_GENE_PRODUCT\": \"GeneOrGeneProduct\",\n        \"GGP\": \"GeneOrGeneProduct\",\n        \"ORGANISM\": \"OrganismTaxon\",\n        \"CANCER\": \"DiseaseOrPhenotypicFeature\",\n        \"DISEASE\": \"DiseaseOrPhenotypicFeature\",\n        \"CHEBI\": \"ChemicalEntity\",\n        \"CHEMICAL\": \"ChemicalEntity\",\n        \"PROTEIN\": \"SequenceVariant\",\n        \"AMINO_ACID\": \"SequenceVariant\",\n        \"SO\": \"SO\",\n        \"TAXON\": \"TAXON\",\n        \"DNA\": \"DNA\",\n    }\n)",
   "execution_count": null,
   "outputs": []
  },
  {
   "cell_type": "code",
   "metadata": {
    "colab": {
     "base_uri": "https://localhost:8080/",
     "height": 206
    },
    "id": "OSGhfw6ejNId",
    "outputId": "47f506cd-276e-4ccf-8d2c-cabf1d641ea2",
    "cell_id": "00039-b699c99d-9937-4de0-9d38-9556d8572ce7",
    "allow_embed": true,
    "deepnote_cell_type": "code",
    "deepnote_cell_height": 274,
    "deepnote_output_heights": [
     177
    ]
   },
   "source": "temp_df.head()",
   "execution_count": null,
   "outputs": [
    {
     "output_type": "execute_result",
     "data": {
      "text/html": "<div>\n<style scoped>\n    .dataframe tbody tr th:only-of-type {\n        vertical-align: middle;\n    }\n\n    .dataframe tbody tr th {\n        vertical-align: top;\n    }\n\n    .dataframe thead th {\n        text-align: right;\n    }\n</style>\n<table border=\"1\" class=\"dataframe\">\n  <thead>\n    <tr style=\"text-align: right;\">\n      <th></th>\n      <th>text</th>\n      <th>label_</th>\n      <th>start_char</th>\n      <th>end_char</th>\n    </tr>\n  </thead>\n  <tbody>\n    <tr>\n      <th>0</th>\n      <td>arylsulfatase A</td>\n      <td>GeneOrGeneProduct</td>\n      <td>110</td>\n      <td>125</td>\n    </tr>\n    <tr>\n      <th>1</th>\n      <td>ARSA)</td>\n      <td>GeneOrGeneProduct</td>\n      <td>127</td>\n      <td>132</td>\n    </tr>\n    <tr>\n      <th>2</th>\n      <td>MLD</td>\n      <td>DiseaseOrPhenotypicFeature</td>\n      <td>188</td>\n      <td>191</td>\n    </tr>\n    <tr>\n      <th>3</th>\n      <td>arginine84</td>\n      <td>GeneOrGeneProduct</td>\n      <td>209</td>\n      <td>219</td>\n    </tr>\n    <tr>\n      <th>4</th>\n      <td>arylsulfatase</td>\n      <td>GeneOrGeneProduct</td>\n      <td>263</td>\n      <td>276</td>\n    </tr>\n  </tbody>\n</table>\n</div>",
      "text/plain": "              text                      label_  start_char  end_char\n0  arylsulfatase A           GeneOrGeneProduct         110       125\n1            ARSA)           GeneOrGeneProduct         127       132\n2              MLD  DiseaseOrPhenotypicFeature         188       191\n3       arginine84           GeneOrGeneProduct         209       219\n4    arylsulfatase           GeneOrGeneProduct         263       276"
     },
     "metadata": {},
     "execution_count": 50
    }
   ]
  },
  {
   "cell_type": "code",
   "metadata": {
    "id": "NXhPmplRjdOO",
    "cell_id": "00040-c1f74904-6800-4a7c-8285-60ac9a843fe8",
    "allow_embed": true,
    "deepnote_cell_type": "code",
    "deepnote_cell_height": 66
   },
   "source": "temp_df['start_char'] = temp_df['start_char'] + 1",
   "execution_count": null,
   "outputs": []
  },
  {
   "cell_type": "code",
   "metadata": {
    "id": "ZfxzPxqpj3Mv",
    "cell_id": "00041-3aded02c-5d87-4e56-92a6-130a7e0668e3",
    "deepnote_cell_type": "code",
    "deepnote_cell_height": 66
   },
   "source": "temp_df.text = temp_df.text.str.replace(')', '')",
   "execution_count": null,
   "outputs": []
  },
  {
   "cell_type": "code",
   "metadata": {
    "colab": {
     "base_uri": "https://localhost:8080/",
     "height": 206
    },
    "id": "lSX87SatjoIX",
    "outputId": "9f9516c3-ebe4-46b5-d8b3-4265c5fc8e54",
    "cell_id": "00042-51dde032-76a8-4d2a-86cc-ae7a06e31bcc",
    "deepnote_cell_type": "code",
    "deepnote_cell_height": 274,
    "deepnote_output_heights": [
     177
    ]
   },
   "source": "temp_df.head()",
   "execution_count": null,
   "outputs": [
    {
     "output_type": "execute_result",
     "data": {
      "text/html": "<div>\n<style scoped>\n    .dataframe tbody tr th:only-of-type {\n        vertical-align: middle;\n    }\n\n    .dataframe tbody tr th {\n        vertical-align: top;\n    }\n\n    .dataframe thead th {\n        text-align: right;\n    }\n</style>\n<table border=\"1\" class=\"dataframe\">\n  <thead>\n    <tr style=\"text-align: right;\">\n      <th></th>\n      <th>text</th>\n      <th>label_</th>\n      <th>start_char</th>\n      <th>end_char</th>\n    </tr>\n  </thead>\n  <tbody>\n    <tr>\n      <th>0</th>\n      <td>arylsulfatase A</td>\n      <td>GeneOrGeneProduct</td>\n      <td>111</td>\n      <td>125</td>\n    </tr>\n    <tr>\n      <th>1</th>\n      <td>ARSA</td>\n      <td>GeneOrGeneProduct</td>\n      <td>128</td>\n      <td>132</td>\n    </tr>\n    <tr>\n      <th>2</th>\n      <td>MLD</td>\n      <td>DiseaseOrPhenotypicFeature</td>\n      <td>189</td>\n      <td>191</td>\n    </tr>\n    <tr>\n      <th>3</th>\n      <td>arginine84</td>\n      <td>GeneOrGeneProduct</td>\n      <td>210</td>\n      <td>219</td>\n    </tr>\n    <tr>\n      <th>4</th>\n      <td>arylsulfatase</td>\n      <td>GeneOrGeneProduct</td>\n      <td>264</td>\n      <td>276</td>\n    </tr>\n  </tbody>\n</table>\n</div>",
      "text/plain": "              text                      label_  start_char  end_char\n0  arylsulfatase A           GeneOrGeneProduct         111       125\n1             ARSA           GeneOrGeneProduct         128       132\n2              MLD  DiseaseOrPhenotypicFeature         189       191\n3       arginine84           GeneOrGeneProduct         210       219\n4    arylsulfatase           GeneOrGeneProduct         264       276"
     },
     "metadata": {},
     "execution_count": 62
    }
   ]
  },
  {
   "cell_type": "markdown",
   "source": "<a style='text-decoration:none;line-height:16px;display:flex;color:#5B5B62;padding:10px;justify-content:end;' href='https://deepnote.com?utm_source=created-in-deepnote-cell&projectId=a605a3e6-1564-47b2-94e7-842290ba7692' target=\"_blank\">\n<img alt='Created in deepnote.com' style='display:inline;max-height:16px;margin:0px;margin-right:7.5px;' src='data:image/svg+xml;base64,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' > </img>\nCreated in <span style='font-weight:600;margin-left:4px;'>Deepnote</span></a>",
   "metadata": {
    "tags": [],
    "created_in_deepnote_cell": true,
    "deepnote_cell_type": "markdown"
   }
  }
 ],
 "nbformat": 4,
 "nbformat_minor": 0,
 "metadata": {
  "colab": {
   "name": "biomedical.ipynb",
   "provenance": [],
   "collapsed_sections": []
  },
  "kernelspec": {
   "name": "python3",
   "display_name": "Python 3"
  },
  "language_info": {
   "name": "python"
  },
  "deepnote_notebook_id": "d6674978-da46-4871-a522-069602024414",
  "deepnote": {},
  "deepnote_execution_queue": []
 }
}