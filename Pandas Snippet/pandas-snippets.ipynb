{
 "cells": [
  {
   "cell_type": "code",
   "metadata": {
    "cell_id": "b932c157-6d13-42ff-ba16-8bf5e0f63fbb",
    "deepnote_to_be_reexecuted": false,
    "source_hash": "f64f7b4d",
    "execution_start": 1650415388569,
    "execution_millis": 4,
    "deepnote_cell_type": "code",
    "deepnote_cell_height": 135
   },
   "source": "import pandas as pd\nimport numpy as np\nimport datetime\nfrom datetime import date",
   "outputs": [],
   "execution_count": null
  },
  {
   "cell_type": "code",
   "metadata": {
    "cell_id": "00001-f4d2106e-03d6-4b57-bb21-525c64625652",
    "deepnote_to_be_reexecuted": false,
    "source_hash": "16f9467b",
    "execution_start": 1650415389422,
    "execution_millis": 9,
    "allow_embed": true,
    "deepnote_cell_type": "code",
    "deepnote_cell_height": 118.1875,
    "deepnote_output_heights": [
     21.1875
    ]
   },
   "source": "pd.__version__",
   "outputs": [
    {
     "output_type": "execute_result",
     "execution_count": 4,
     "data": {
      "text/plain": "'1.2.5'"
     },
     "metadata": {}
    }
   ],
   "execution_count": null
  },
  {
   "cell_type": "code",
   "metadata": {
    "cell_id": "00002-676ba067-d1d2-4d5f-ae16-7126cbd06d8f",
    "deepnote_to_be_reexecuted": false,
    "source_hash": "dd0f855c",
    "execution_start": 1650415390018,
    "execution_millis": 4,
    "deepnote_cell_type": "code",
    "deepnote_cell_height": 81
   },
   "source": "df = pd.DataFrame()",
   "outputs": [],
   "execution_count": null
  },
  {
   "cell_type": "code",
   "metadata": {
    "cell_id": "733b2b52571845e6acc255bf764c23c5",
    "tags": [],
    "deepnote_to_be_reexecuted": false,
    "source_hash": "cbd2164f",
    "execution_start": 1650415390830,
    "execution_millis": 39,
    "deepnote_cell_type": "code",
    "deepnote_cell_height": 81
   },
   "source": "df = pd.read_csv(\"data/house_price.csv\", nrows=100)",
   "outputs": [],
   "execution_count": null
  },
  {
   "cell_type": "markdown",
   "source": "## Reading data",
   "metadata": {
    "cell_id": "00003-d042bcbe-afec-4377-8aa1-5ebea5add29a",
    "deepnote_cell_type": "markdown",
    "deepnote_cell_height": 56.390625
   }
  },
  {
   "cell_type": "markdown",
   "source": "useful `read_csv` parameters\n\nhttps://pandas.pydata.org/pandas-docs/stable/reference/api/pandas.read_csv.html",
   "metadata": {
    "cell_id": "00004-fb7bf1c6-74ed-4018-8c1a-0370aa7b64f5",
    "deepnote_cell_type": "markdown",
    "deepnote_cell_height": 88.796875
   }
  },
  {
   "cell_type": "code",
   "metadata": {
    "cell_id": "8db5e14fd7274a97bf82100f12fa5406",
    "tags": [],
    "allow_embed": true,
    "deepnote_cell_type": "code",
    "deepnote_cell_height": 66
   },
   "source": "pd.read_csv(\"data.csv\")",
   "execution_count": null,
   "outputs": []
  },
  {
   "cell_type": "code",
   "metadata": {
    "cell_id": "30c1e96197d14abebd4a0a6432ebaaca",
    "tags": [],
    "deepnote_to_be_reexecuted": false,
    "source_hash": "c085b6ba",
    "execution_start": 1650240586024,
    "execution_millis": 232,
    "allow_embed": true,
    "deepnote_cell_type": "code",
    "deepnote_cell_height": 395
   },
   "source": "df.head()",
   "execution_count": null,
   "outputs": [
    {
     "output_type": "execute_result",
     "execution_count": 6,
     "data": {
      "application/vnd.deepnote.dataframe.v3+json": {
       "column_count": 81,
       "row_count": 5,
       "columns": [
        {
         "name": "Id",
         "dtype": "int64",
         "stats": {
          "unique_count": 5,
          "nan_count": 0,
          "min": "1",
          "max": "5",
          "histogram": [
           {
            "bin_start": 1,
            "bin_end": 1.4,
            "count": 1
           },
           {
            "bin_start": 1.4,
            "bin_end": 1.8,
            "count": 0
           },
           {
            "bin_start": 1.8,
            "bin_end": 2.2,
            "count": 1
           },
           {
            "bin_start": 2.2,
            "bin_end": 2.6,
            "count": 0
           },
           {
            "bin_start": 2.6,
            "bin_end": 3,
            "count": 0
           },
           {
            "bin_start": 3,
            "bin_end": 3.4000000000000004,
            "count": 1
           },
           {
            "bin_start": 3.4000000000000004,
            "bin_end": 3.8000000000000003,
            "count": 0
           },
           {
            "bin_start": 3.8000000000000003,
            "bin_end": 4.2,
            "count": 1
           },
           {
            "bin_start": 4.2,
            "bin_end": 4.6,
            "count": 0
           },
           {
            "bin_start": 4.6,
            "bin_end": 5,
            "count": 1
           }
          ]
         }
        },
        {
         "name": "MSSubClass",
         "dtype": "int64",
         "stats": {
          "unique_count": 3,
          "nan_count": 0,
          "min": "20",
          "max": "70",
          "histogram": [
           {
            "bin_start": 20,
            "bin_end": 25,
            "count": 1
           },
           {
            "bin_start": 25,
            "bin_end": 30,
            "count": 0
           },
           {
            "bin_start": 30,
            "bin_end": 35,
            "count": 0
           },
           {
            "bin_start": 35,
            "bin_end": 40,
            "count": 0
           },
           {
            "bin_start": 40,
            "bin_end": 45,
            "count": 0
           },
           {
            "bin_start": 45,
            "bin_end": 50,
            "count": 0
           },
           {
            "bin_start": 50,
            "bin_end": 55,
            "count": 0
           },
           {
            "bin_start": 55,
            "bin_end": 60,
            "count": 0
           },
           {
            "bin_start": 60,
            "bin_end": 65,
            "count": 3
           },
           {
            "bin_start": 65,
            "bin_end": 70,
            "count": 1
           }
          ]
         }
        },
        {
         "name": "MSZoning",
         "dtype": "object",
         "stats": {
          "unique_count": 1,
          "nan_count": 0,
          "categories": [
           {
            "name": "RL",
            "count": 5
           }
          ]
         }
        },
        {
         "name": "LotFrontage",
         "dtype": "float64",
         "stats": {
          "unique_count": 5,
          "nan_count": 0,
          "min": "60.0",
          "max": "84.0",
          "histogram": [
           {
            "bin_start": 60,
            "bin_end": 62.4,
            "count": 1
           },
           {
            "bin_start": 62.4,
            "bin_end": 64.8,
            "count": 0
           },
           {
            "bin_start": 64.8,
            "bin_end": 67.2,
            "count": 1
           },
           {
            "bin_start": 67.2,
            "bin_end": 69.6,
            "count": 1
           },
           {
            "bin_start": 69.6,
            "bin_end": 72,
            "count": 0
           },
           {
            "bin_start": 72,
            "bin_end": 74.4,
            "count": 0
           },
           {
            "bin_start": 74.4,
            "bin_end": 76.8,
            "count": 0
           },
           {
            "bin_start": 76.8,
            "bin_end": 79.2,
            "count": 0
           },
           {
            "bin_start": 79.2,
            "bin_end": 81.6,
            "count": 1
           },
           {
            "bin_start": 81.6,
            "bin_end": 84,
            "count": 1
           }
          ]
         }
        },
        {
         "name": "LotArea",
         "dtype": "int64",
         "stats": {
          "unique_count": 5,
          "nan_count": 0,
          "min": "8450",
          "max": "14260",
          "histogram": [
           {
            "bin_start": 8450,
            "bin_end": 9031,
            "count": 1
           },
           {
            "bin_start": 9031,
            "bin_end": 9612,
            "count": 2
           },
           {
            "bin_start": 9612,
            "bin_end": 10193,
            "count": 0
           },
           {
            "bin_start": 10193,
            "bin_end": 10774,
            "count": 0
           },
           {
            "bin_start": 10774,
            "bin_end": 11355,
            "count": 1
           },
           {
            "bin_start": 11355,
            "bin_end": 11936,
            "count": 0
           },
           {
            "bin_start": 11936,
            "bin_end": 12517,
            "count": 0
           },
           {
            "bin_start": 12517,
            "bin_end": 13098,
            "count": 0
           },
           {
            "bin_start": 13098,
            "bin_end": 13679,
            "count": 0
           },
           {
            "bin_start": 13679,
            "bin_end": 14260,
            "count": 1
           }
          ]
         }
        },
        {
         "name": "Street",
         "dtype": "object",
         "stats": {
          "unique_count": 1,
          "nan_count": 0,
          "categories": [
           {
            "name": "Pave",
            "count": 5
           }
          ]
         }
        },
        {
         "name": "Alley",
         "dtype": "object",
         "stats": {
          "unique_count": 0,
          "nan_count": 5,
          "categories": [
           {
            "name": "Missing",
            "count": 5
           }
          ]
         }
        },
        {
         "name": "LotShape",
         "dtype": "object",
         "stats": {
          "unique_count": 2,
          "nan_count": 0,
          "categories": [
           {
            "name": "IR1",
            "count": 3
           },
           {
            "name": "Reg",
            "count": 2
           }
          ]
         }
        },
        {
         "name": "LandContour",
         "dtype": "object",
         "stats": {
          "unique_count": 1,
          "nan_count": 0,
          "categories": [
           {
            "name": "Lvl",
            "count": 5
           }
          ]
         }
        },
        {
         "name": "Utilities",
         "dtype": "object",
         "stats": {
          "unique_count": 1,
          "nan_count": 0,
          "categories": [
           {
            "name": "AllPub",
            "count": 5
           }
          ]
         }
        },
        {
         "name": "LotConfig",
         "dtype": "object",
         "stats": {
          "unique_count": 3,
          "nan_count": 0,
          "categories": [
           {
            "name": "Inside",
            "count": 2
           },
           {
            "name": "FR2",
            "count": 2
           },
           {
            "name": "Corner",
            "count": 1
           }
          ]
         }
        },
        {
         "name": "LandSlope",
         "dtype": "object",
         "stats": {
          "unique_count": 1,
          "nan_count": 0,
          "categories": [
           {
            "name": "Gtl",
            "count": 5
           }
          ]
         }
        },
        {
         "name": "Neighborhood",
         "dtype": "object",
         "stats": {
          "unique_count": 4,
          "nan_count": 0,
          "categories": [
           {
            "name": "CollgCr",
            "count": 2
           },
           {
            "name": "Veenker",
            "count": 1
           },
           {
            "name": "2 others",
            "count": 2
           }
          ]
         }
        },
        {
         "name": "Condition1",
         "dtype": "object",
         "stats": {
          "unique_count": 2,
          "nan_count": 0,
          "categories": [
           {
            "name": "Norm",
            "count": 4
           },
           {
            "name": "Feedr",
            "count": 1
           }
          ]
         }
        },
        {
         "name": "Condition2",
         "dtype": "object",
         "stats": {
          "unique_count": 1,
          "nan_count": 0,
          "categories": [
           {
            "name": "Norm",
            "count": 5
           }
          ]
         }
        },
        {
         "name": "BldgType",
         "dtype": "object",
         "stats": {
          "unique_count": 1,
          "nan_count": 0,
          "categories": [
           {
            "name": "1Fam",
            "count": 5
           }
          ]
         }
        },
        {
         "name": "HouseStyle",
         "dtype": "object",
         "stats": {
          "unique_count": 2,
          "nan_count": 0,
          "categories": [
           {
            "name": "2Story",
            "count": 4
           },
           {
            "name": "1Story",
            "count": 1
           }
          ]
         }
        },
        {
         "name": "OverallQual",
         "dtype": "int64",
         "stats": {
          "unique_count": 3,
          "nan_count": 0,
          "min": "6",
          "max": "8",
          "histogram": [
           {
            "bin_start": 6,
            "bin_end": 6.2,
            "count": 1
           },
           {
            "bin_start": 6.2,
            "bin_end": 6.4,
            "count": 0
           },
           {
            "bin_start": 6.4,
            "bin_end": 6.6,
            "count": 0
           },
           {
            "bin_start": 6.6,
            "bin_end": 6.8,
            "count": 0
           },
           {
            "bin_start": 6.8,
            "bin_end": 7,
            "count": 0
           },
           {
            "bin_start": 7,
            "bin_end": 7.2,
            "count": 3
           },
           {
            "bin_start": 7.2,
            "bin_end": 7.4,
            "count": 0
           },
           {
            "bin_start": 7.4,
            "bin_end": 7.6,
            "count": 0
           },
           {
            "bin_start": 7.6,
            "bin_end": 7.8,
            "count": 0
           },
           {
            "bin_start": 7.8,
            "bin_end": 8,
            "count": 1
           }
          ]
         }
        },
        {
         "name": "OverallCond",
         "dtype": "int64",
         "stats": {
          "unique_count": 2,
          "nan_count": 0,
          "min": "5",
          "max": "8",
          "histogram": [
           {
            "bin_start": 5,
            "bin_end": 5.3,
            "count": 4
           },
           {
            "bin_start": 5.3,
            "bin_end": 5.6,
            "count": 0
           },
           {
            "bin_start": 5.6,
            "bin_end": 5.9,
            "count": 0
           },
           {
            "bin_start": 5.9,
            "bin_end": 6.2,
            "count": 0
           },
           {
            "bin_start": 6.2,
            "bin_end": 6.5,
            "count": 0
           },
           {
            "bin_start": 6.5,
            "bin_end": 6.8,
            "count": 0
           },
           {
            "bin_start": 6.8,
            "bin_end": 7.1,
            "count": 0
           },
           {
            "bin_start": 7.1,
            "bin_end": 7.4,
            "count": 0
           },
           {
            "bin_start": 7.4,
            "bin_end": 7.699999999999999,
            "count": 0
           },
           {
            "bin_start": 7.699999999999999,
            "bin_end": 8,
            "count": 1
           }
          ]
         }
        },
        {
         "name": "YearBuilt",
         "dtype": "int64",
         "stats": {
          "unique_count": 5,
          "nan_count": 0,
          "min": "1915",
          "max": "2003",
          "histogram": [
           {
            "bin_start": 1915,
            "bin_end": 1923.8,
            "count": 1
           },
           {
            "bin_start": 1923.8,
            "bin_end": 1932.6,
            "count": 0
           },
           {
            "bin_start": 1932.6,
            "bin_end": 1941.4,
            "count": 0
           },
           {
            "bin_start": 1941.4,
            "bin_end": 1950.2,
            "count": 0
           },
           {
            "bin_start": 1950.2,
            "bin_end": 1959,
            "count": 0
           },
           {
            "bin_start": 1959,
            "bin_end": 1967.8,
            "count": 0
           },
           {
            "bin_start": 1967.8,
            "bin_end": 1976.6,
            "count": 1
           },
           {
            "bin_start": 1976.6,
            "bin_end": 1985.4,
            "count": 0
           },
           {
            "bin_start": 1985.4,
            "bin_end": 1994.2,
            "count": 0
           },
           {
            "bin_start": 1994.2,
            "bin_end": 2003,
            "count": 3
           }
          ]
         }
        },
        {
         "name": "YearRemodAdd",
         "dtype": "int64",
         "stats": {
          "unique_count": 5,
          "nan_count": 0,
          "min": "1970",
          "max": "2003",
          "histogram": [
           {
            "bin_start": 1970,
            "bin_end": 1973.3,
            "count": 1
           },
           {
            "bin_start": 1973.3,
            "bin_end": 1976.6,
            "count": 1
           },
           {
            "bin_start": 1976.6,
            "bin_end": 1979.9,
            "count": 0
           },
           {
            "bin_start": 1979.9,
            "bin_end": 1983.2,
            "count": 0
           },
           {
            "bin_start": 1983.2,
            "bin_end": 1986.5,
            "count": 0
           },
           {
            "bin_start": 1986.5,
            "bin_end": 1989.8,
            "count": 0
           },
           {
            "bin_start": 1989.8,
            "bin_end": 1993.1,
            "count": 0
           },
           {
            "bin_start": 1993.1,
            "bin_end": 1996.4,
            "count": 0
           },
           {
            "bin_start": 1996.4,
            "bin_end": 1999.7,
            "count": 0
           },
           {
            "bin_start": 1999.7,
            "bin_end": 2003,
            "count": 3
           }
          ]
         }
        },
        {
         "name": "RoofStyle",
         "dtype": "object",
         "stats": {
          "unique_count": 1,
          "nan_count": 0,
          "categories": [
           {
            "name": "Gable",
            "count": 5
           }
          ]
         }
        },
        {
         "name": "RoofMatl",
         "dtype": "object",
         "stats": {
          "unique_count": 1,
          "nan_count": 0,
          "categories": [
           {
            "name": "CompShg",
            "count": 5
           }
          ]
         }
        },
        {
         "name": "Exterior1st",
         "dtype": "object",
         "stats": {
          "unique_count": 3,
          "nan_count": 0,
          "categories": [
           {
            "name": "VinylSd",
            "count": 3
           },
           {
            "name": "MetalSd",
            "count": 1
           },
           {
            "name": "Wd Sdng",
            "count": 1
           }
          ]
         }
        },
        {
         "name": "Exterior2nd",
         "dtype": "object",
         "stats": {
          "unique_count": 3,
          "nan_count": 0,
          "categories": [
           {
            "name": "VinylSd",
            "count": 3
           },
           {
            "name": "MetalSd",
            "count": 1
           },
           {
            "name": "Wd Shng",
            "count": 1
           }
          ]
         }
        },
        {
         "name": "MasVnrType",
         "dtype": "object",
         "stats": {
          "unique_count": 2,
          "nan_count": 0,
          "categories": [
           {
            "name": "BrkFace",
            "count": 3
           },
           {
            "name": "None",
            "count": 2
           }
          ]
         }
        },
        {
         "name": "MasVnrArea",
         "dtype": "float64",
         "stats": {
          "unique_count": 4,
          "nan_count": 0,
          "min": "0.0",
          "max": "350.0",
          "histogram": [
           {
            "bin_start": 0,
            "bin_end": 35,
            "count": 2
           },
           {
            "bin_start": 35,
            "bin_end": 70,
            "count": 0
           },
           {
            "bin_start": 70,
            "bin_end": 105,
            "count": 0
           },
           {
            "bin_start": 105,
            "bin_end": 140,
            "count": 0
           },
           {
            "bin_start": 140,
            "bin_end": 175,
            "count": 1
           },
           {
            "bin_start": 175,
            "bin_end": 210,
            "count": 1
           },
           {
            "bin_start": 210,
            "bin_end": 245,
            "count": 0
           },
           {
            "bin_start": 245,
            "bin_end": 280,
            "count": 0
           },
           {
            "bin_start": 280,
            "bin_end": 315,
            "count": 0
           },
           {
            "bin_start": 315,
            "bin_end": 350,
            "count": 1
           }
          ]
         }
        },
        {
         "name": "ExterQual",
         "dtype": "object",
         "stats": {
          "unique_count": 2,
          "nan_count": 0,
          "categories": [
           {
            "name": "Gd",
            "count": 3
           },
           {
            "name": "TA",
            "count": 2
           }
          ]
         }
        },
        {
         "name": "ExterCond",
         "dtype": "object",
         "stats": {
          "unique_count": 1,
          "nan_count": 0,
          "categories": [
           {
            "name": "TA",
            "count": 5
           }
          ]
         }
        },
        {
         "name": "Foundation",
         "dtype": "object",
         "stats": {
          "unique_count": 3,
          "nan_count": 0,
          "categories": [
           {
            "name": "PConc",
            "count": 3
           },
           {
            "name": "CBlock",
            "count": 1
           },
           {
            "name": "BrkTil",
            "count": 1
           }
          ]
         }
        },
        {
         "name": "BsmtQual",
         "dtype": "object",
         "stats": {
          "unique_count": 2,
          "nan_count": 0,
          "categories": [
           {
            "name": "Gd",
            "count": 4
           },
           {
            "name": "TA",
            "count": 1
           }
          ]
         }
        },
        {
         "name": "BsmtCond",
         "dtype": "object",
         "stats": {
          "unique_count": 2,
          "nan_count": 0,
          "categories": [
           {
            "name": "TA",
            "count": 4
           },
           {
            "name": "Gd",
            "count": 1
           }
          ]
         }
        },
        {
         "name": "BsmtExposure",
         "dtype": "object",
         "stats": {
          "unique_count": 4,
          "nan_count": 0,
          "categories": [
           {
            "name": "No",
            "count": 2
           },
           {
            "name": "Gd",
            "count": 1
           },
           {
            "name": "2 others",
            "count": 2
           }
          ]
         }
        },
        {
         "name": "BsmtFinType1",
         "dtype": "object",
         "stats": {
          "unique_count": 2,
          "nan_count": 0,
          "categories": [
           {
            "name": "GLQ",
            "count": 3
           },
           {
            "name": "ALQ",
            "count": 2
           }
          ]
         }
        },
        {
         "name": "BsmtFinSF1",
         "dtype": "int64",
         "stats": {
          "unique_count": 5,
          "nan_count": 0,
          "min": "216",
          "max": "978",
          "histogram": [
           {
            "bin_start": 216,
            "bin_end": 292.2,
            "count": 1
           },
           {
            "bin_start": 292.2,
            "bin_end": 368.4,
            "count": 0
           },
           {
            "bin_start": 368.4,
            "bin_end": 444.6,
            "count": 0
           },
           {
            "bin_start": 444.6,
            "bin_end": 520.8,
            "count": 1
           },
           {
            "bin_start": 520.8,
            "bin_end": 597,
            "count": 0
           },
           {
            "bin_start": 597,
            "bin_end": 673.2,
            "count": 1
           },
           {
            "bin_start": 673.2,
            "bin_end": 749.4,
            "count": 1
           },
           {
            "bin_start": 749.4,
            "bin_end": 825.6,
            "count": 0
           },
           {
            "bin_start": 825.6,
            "bin_end": 901.8000000000001,
            "count": 0
           },
           {
            "bin_start": 901.8000000000001,
            "bin_end": 978,
            "count": 1
           }
          ]
         }
        },
        {
         "name": "BsmtFinType2",
         "dtype": "object",
         "stats": {
          "unique_count": 1,
          "nan_count": 0,
          "categories": [
           {
            "name": "Unf",
            "count": 5
           }
          ]
         }
        },
        {
         "name": "BsmtFinSF2",
         "dtype": "int64",
         "stats": {
          "unique_count": 1,
          "nan_count": 0,
          "min": "0",
          "max": "0",
          "histogram": [
           {
            "bin_start": -0.5,
            "bin_end": -0.4,
            "count": 0
           },
           {
            "bin_start": -0.4,
            "bin_end": -0.3,
            "count": 0
           },
           {
            "bin_start": -0.3,
            "bin_end": -0.19999999999999996,
            "count": 0
           },
           {
            "bin_start": -0.19999999999999996,
            "bin_end": -0.09999999999999998,
            "count": 0
           },
           {
            "bin_start": -0.09999999999999998,
            "bin_end": 0,
            "count": 0
           },
           {
            "bin_start": 0,
            "bin_end": 0.10000000000000009,
            "count": 5
           },
           {
            "bin_start": 0.10000000000000009,
            "bin_end": 0.20000000000000007,
            "count": 0
           },
           {
            "bin_start": 0.20000000000000007,
            "bin_end": 0.30000000000000004,
            "count": 0
           },
           {
            "bin_start": 0.30000000000000004,
            "bin_end": 0.4,
            "count": 0
           },
           {
            "bin_start": 0.4,
            "bin_end": 0.5,
            "count": 0
           }
          ]
         }
        },
        {
         "name": "BsmtUnfSF",
         "dtype": "int64",
         "stats": {
          "unique_count": 5,
          "nan_count": 0,
          "min": "150",
          "max": "540",
          "histogram": [
           {
            "bin_start": 150,
            "bin_end": 189,
            "count": 1
           },
           {
            "bin_start": 189,
            "bin_end": 228,
            "count": 0
           },
           {
            "bin_start": 228,
            "bin_end": 267,
            "count": 0
           },
           {
            "bin_start": 267,
            "bin_end": 306,
            "count": 1
           },
           {
            "bin_start": 306,
            "bin_end": 345,
            "count": 0
           },
           {
            "bin_start": 345,
            "bin_end": 384,
            "count": 0
           },
           {
            "bin_start": 384,
            "bin_end": 423,
            "count": 0
           },
           {
            "bin_start": 423,
            "bin_end": 462,
            "count": 1
           },
           {
            "bin_start": 462,
            "bin_end": 501,
            "count": 1
           },
           {
            "bin_start": 501,
            "bin_end": 540,
            "count": 1
           }
          ]
         }
        },
        {
         "name": "TotalBsmtSF",
         "dtype": "int64",
         "stats": {
          "unique_count": 5,
          "nan_count": 0,
          "min": "756",
          "max": "1262",
          "histogram": [
           {
            "bin_start": 756,
            "bin_end": 806.6,
            "count": 1
           },
           {
            "bin_start": 806.6,
            "bin_end": 857.2,
            "count": 1
           },
           {
            "bin_start": 857.2,
            "bin_end": 907.8,
            "count": 0
           },
           {
            "bin_start": 907.8,
            "bin_end": 958.4,
            "count": 1
           },
           {
            "bin_start": 958.4,
            "bin_end": 1009,
            "count": 0
           },
           {
            "bin_start": 1009,
            "bin_end": 1059.6,
            "count": 0
           },
           {
            "bin_start": 1059.6,
            "bin_end": 1110.2,
            "count": 0
           },
           {
            "bin_start": 1110.2,
            "bin_end": 1160.8,
            "count": 1
           },
           {
            "bin_start": 1160.8,
            "bin_end": 1211.4,
            "count": 0
           },
           {
            "bin_start": 1211.4,
            "bin_end": 1262,
            "count": 1
           }
          ]
         }
        },
        {
         "name": "Heating",
         "dtype": "object",
         "stats": {
          "unique_count": 1,
          "nan_count": 0,
          "categories": [
           {
            "name": "GasA",
            "count": 5
           }
          ]
         }
        },
        {
         "name": "HeatingQC",
         "dtype": "object",
         "stats": {
          "unique_count": 2,
          "nan_count": 0,
          "categories": [
           {
            "name": "Ex",
            "count": 4
           },
           {
            "name": "Gd",
            "count": 1
           }
          ]
         }
        },
        {
         "name": "CentralAir",
         "dtype": "object",
         "stats": {
          "unique_count": 1,
          "nan_count": 0,
          "categories": [
           {
            "name": "Y",
            "count": 5
           }
          ]
         }
        },
        {
         "name": "Electrical",
         "dtype": "object",
         "stats": {
          "unique_count": 1,
          "nan_count": 0,
          "categories": [
           {
            "name": "SBrkr",
            "count": 5
           }
          ]
         }
        },
        {
         "name": "1stFlrSF",
         "dtype": "int64",
         "stats": {
          "unique_count": 5,
          "nan_count": 0,
          "min": "856",
          "max": "1262",
          "histogram": [
           {
            "bin_start": 856,
            "bin_end": 896.6,
            "count": 1
           },
           {
            "bin_start": 896.6,
            "bin_end": 937.2,
            "count": 1
           },
           {
            "bin_start": 937.2,
            "bin_end": 977.8,
            "count": 1
           },
           {
            "bin_start": 977.8,
            "bin_end": 1018.4,
            "count": 0
           },
           {
            "bin_start": 1018.4,
            "bin_end": 1059,
            "count": 0
           },
           {
            "bin_start": 1059,
            "bin_end": 1099.6,
            "count": 0
           },
           {
            "bin_start": 1099.6,
            "bin_end": 1140.2,
            "count": 0
           },
           {
            "bin_start": 1140.2,
            "bin_end": 1180.8,
            "count": 1
           },
           {
            "bin_start": 1180.8,
            "bin_end": 1221.4,
            "count": 0
           },
           {
            "bin_start": 1221.4,
            "bin_end": 1262,
            "count": 1
           }
          ]
         }
        },
        {
         "name": "2ndFlrSF",
         "dtype": "int64",
         "stats": {
          "unique_count": 5,
          "nan_count": 0,
          "min": "0",
          "max": "1053",
          "histogram": [
           {
            "bin_start": 0,
            "bin_end": 105.3,
            "count": 1
           },
           {
            "bin_start": 105.3,
            "bin_end": 210.6,
            "count": 0
           },
           {
            "bin_start": 210.6,
            "bin_end": 315.9,
            "count": 0
           },
           {
            "bin_start": 315.9,
            "bin_end": 421.2,
            "count": 0
           },
           {
            "bin_start": 421.2,
            "bin_end": 526.5,
            "count": 0
           },
           {
            "bin_start": 526.5,
            "bin_end": 631.8,
            "count": 0
           },
           {
            "bin_start": 631.8,
            "bin_end": 737.1,
            "count": 0
           },
           {
            "bin_start": 737.1,
            "bin_end": 842.4,
            "count": 1
           },
           {
            "bin_start": 842.4,
            "bin_end": 947.6999999999999,
            "count": 2
           },
           {
            "bin_start": 947.6999999999999,
            "bin_end": 1053,
            "count": 1
           }
          ]
         }
        },
        {
         "name": "LowQualFinSF",
         "dtype": "int64",
         "stats": {
          "unique_count": 1,
          "nan_count": 0,
          "min": "0",
          "max": "0",
          "histogram": [
           {
            "bin_start": -0.5,
            "bin_end": -0.4,
            "count": 0
           },
           {
            "bin_start": -0.4,
            "bin_end": -0.3,
            "count": 0
           },
           {
            "bin_start": -0.3,
            "bin_end": -0.19999999999999996,
            "count": 0
           },
           {
            "bin_start": -0.19999999999999996,
            "bin_end": -0.09999999999999998,
            "count": 0
           },
           {
            "bin_start": -0.09999999999999998,
            "bin_end": 0,
            "count": 0
           },
           {
            "bin_start": 0,
            "bin_end": 0.10000000000000009,
            "count": 5
           },
           {
            "bin_start": 0.10000000000000009,
            "bin_end": 0.20000000000000007,
            "count": 0
           },
           {
            "bin_start": 0.20000000000000007,
            "bin_end": 0.30000000000000004,
            "count": 0
           },
           {
            "bin_start": 0.30000000000000004,
            "bin_end": 0.4,
            "count": 0
           },
           {
            "bin_start": 0.4,
            "bin_end": 0.5,
            "count": 0
           }
          ]
         }
        },
        {
         "name": "GrLivArea",
         "dtype": "int64",
         "stats": {
          "unique_count": 5,
          "nan_count": 0,
          "min": "1262",
          "max": "2198",
          "histogram": [
           {
            "bin_start": 1262,
            "bin_end": 1355.6,
            "count": 1
           },
           {
            "bin_start": 1355.6,
            "bin_end": 1449.2,
            "count": 0
           },
           {
            "bin_start": 1449.2,
            "bin_end": 1542.8,
            "count": 0
           },
           {
            "bin_start": 1542.8,
            "bin_end": 1636.4,
            "count": 0
           },
           {
            "bin_start": 1636.4,
            "bin_end": 1730,
            "count": 2
           },
           {
            "bin_start": 1730,
            "bin_end": 1823.6,
            "count": 1
           },
           {
            "bin_start": 1823.6,
            "bin_end": 1917.1999999999998,
            "count": 0
           },
           {
            "bin_start": 1917.1999999999998,
            "bin_end": 2010.8,
            "count": 0
           },
           {
            "bin_start": 2010.8,
            "bin_end": 2104.4,
            "count": 0
           },
           {
            "bin_start": 2104.4,
            "bin_end": 2198,
            "count": 1
           }
          ]
         }
        },
        {
         "name": "BsmtFullBath",
         "dtype": "int64",
         "stats": {
          "unique_count": 2,
          "nan_count": 0,
          "min": "0",
          "max": "1",
          "histogram": [
           {
            "bin_start": 0,
            "bin_end": 0.1,
            "count": 1
           },
           {
            "bin_start": 0.1,
            "bin_end": 0.2,
            "count": 0
           },
           {
            "bin_start": 0.2,
            "bin_end": 0.30000000000000004,
            "count": 0
           },
           {
            "bin_start": 0.30000000000000004,
            "bin_end": 0.4,
            "count": 0
           },
           {
            "bin_start": 0.4,
            "bin_end": 0.5,
            "count": 0
           },
           {
            "bin_start": 0.5,
            "bin_end": 0.6000000000000001,
            "count": 0
           },
           {
            "bin_start": 0.6000000000000001,
            "bin_end": 0.7000000000000001,
            "count": 0
           },
           {
            "bin_start": 0.7000000000000001,
            "bin_end": 0.8,
            "count": 0
           },
           {
            "bin_start": 0.8,
            "bin_end": 0.9,
            "count": 0
           },
           {
            "bin_start": 0.9,
            "bin_end": 1,
            "count": 4
           }
          ]
         }
        },
        {
         "name": "BsmtHalfBath",
         "dtype": "int64",
         "stats": {
          "unique_count": 2,
          "nan_count": 0,
          "min": "0",
          "max": "1",
          "histogram": [
           {
            "bin_start": 0,
            "bin_end": 0.1,
            "count": 4
           },
           {
            "bin_start": 0.1,
            "bin_end": 0.2,
            "count": 0
           },
           {
            "bin_start": 0.2,
            "bin_end": 0.30000000000000004,
            "count": 0
           },
           {
            "bin_start": 0.30000000000000004,
            "bin_end": 0.4,
            "count": 0
           },
           {
            "bin_start": 0.4,
            "bin_end": 0.5,
            "count": 0
           },
           {
            "bin_start": 0.5,
            "bin_end": 0.6000000000000001,
            "count": 0
           },
           {
            "bin_start": 0.6000000000000001,
            "bin_end": 0.7000000000000001,
            "count": 0
           },
           {
            "bin_start": 0.7000000000000001,
            "bin_end": 0.8,
            "count": 0
           },
           {
            "bin_start": 0.8,
            "bin_end": 0.9,
            "count": 0
           },
           {
            "bin_start": 0.9,
            "bin_end": 1,
            "count": 1
           }
          ]
         }
        },
        {
         "name": "FullBath",
         "dtype": "int64",
         "stats": {
          "unique_count": 2,
          "nan_count": 0,
          "min": "1",
          "max": "2",
          "histogram": [
           {
            "bin_start": 1,
            "bin_end": 1.1,
            "count": 1
           },
           {
            "bin_start": 1.1,
            "bin_end": 1.2,
            "count": 0
           },
           {
            "bin_start": 1.2,
            "bin_end": 1.3,
            "count": 0
           },
           {
            "bin_start": 1.3,
            "bin_end": 1.4,
            "count": 0
           },
           {
            "bin_start": 1.4,
            "bin_end": 1.5,
            "count": 0
           },
           {
            "bin_start": 1.5,
            "bin_end": 1.6,
            "count": 0
           },
           {
            "bin_start": 1.6,
            "bin_end": 1.7000000000000002,
            "count": 0
           },
           {
            "bin_start": 1.7000000000000002,
            "bin_end": 1.8,
            "count": 0
           },
           {
            "bin_start": 1.8,
            "bin_end": 1.9,
            "count": 0
           },
           {
            "bin_start": 1.9,
            "bin_end": 2,
            "count": 4
           }
          ]
         }
        },
        {
         "name": "HalfBath",
         "dtype": "int64",
         "stats": {
          "unique_count": 2,
          "nan_count": 0,
          "min": "0",
          "max": "1",
          "histogram": [
           {
            "bin_start": 0,
            "bin_end": 0.1,
            "count": 2
           },
           {
            "bin_start": 0.1,
            "bin_end": 0.2,
            "count": 0
           },
           {
            "bin_start": 0.2,
            "bin_end": 0.30000000000000004,
            "count": 0
           },
           {
            "bin_start": 0.30000000000000004,
            "bin_end": 0.4,
            "count": 0
           },
           {
            "bin_start": 0.4,
            "bin_end": 0.5,
            "count": 0
           },
           {
            "bin_start": 0.5,
            "bin_end": 0.6000000000000001,
            "count": 0
           },
           {
            "bin_start": 0.6000000000000001,
            "bin_end": 0.7000000000000001,
            "count": 0
           },
           {
            "bin_start": 0.7000000000000001,
            "bin_end": 0.8,
            "count": 0
           },
           {
            "bin_start": 0.8,
            "bin_end": 0.9,
            "count": 0
           },
           {
            "bin_start": 0.9,
            "bin_end": 1,
            "count": 3
           }
          ]
         }
        },
        {
         "name": "BedroomAbvGr",
         "dtype": "int64",
         "stats": {
          "unique_count": 2,
          "nan_count": 0,
          "min": "3",
          "max": "4",
          "histogram": [
           {
            "bin_start": 3,
            "bin_end": 3.1,
            "count": 4
           },
           {
            "bin_start": 3.1,
            "bin_end": 3.2,
            "count": 0
           },
           {
            "bin_start": 3.2,
            "bin_end": 3.3,
            "count": 0
           },
           {
            "bin_start": 3.3,
            "bin_end": 3.4,
            "count": 0
           },
           {
            "bin_start": 3.4,
            "bin_end": 3.5,
            "count": 0
           },
           {
            "bin_start": 3.5,
            "bin_end": 3.6,
            "count": 0
           },
           {
            "bin_start": 3.6,
            "bin_end": 3.7,
            "count": 0
           },
           {
            "bin_start": 3.7,
            "bin_end": 3.8,
            "count": 0
           },
           {
            "bin_start": 3.8,
            "bin_end": 3.9,
            "count": 0
           },
           {
            "bin_start": 3.9,
            "bin_end": 4,
            "count": 1
           }
          ]
         }
        },
        {
         "name": "KitchenAbvGr",
         "dtype": "int64",
         "stats": {
          "unique_count": 1,
          "nan_count": 0,
          "min": "1",
          "max": "1",
          "histogram": [
           {
            "bin_start": 0.5,
            "bin_end": 0.6,
            "count": 0
           },
           {
            "bin_start": 0.6,
            "bin_end": 0.7,
            "count": 0
           },
           {
            "bin_start": 0.7,
            "bin_end": 0.8,
            "count": 0
           },
           {
            "bin_start": 0.8,
            "bin_end": 0.9,
            "count": 0
           },
           {
            "bin_start": 0.9,
            "bin_end": 1,
            "count": 0
           },
           {
            "bin_start": 1,
            "bin_end": 1.1,
            "count": 5
           },
           {
            "bin_start": 1.1,
            "bin_end": 1.2000000000000002,
            "count": 0
           },
           {
            "bin_start": 1.2000000000000002,
            "bin_end": 1.3,
            "count": 0
           },
           {
            "bin_start": 1.3,
            "bin_end": 1.4,
            "count": 0
           },
           {
            "bin_start": 1.4,
            "bin_end": 1.5,
            "count": 0
           }
          ]
         }
        },
        {
         "name": "KitchenQual",
         "dtype": "object",
         "stats": {
          "unique_count": 2,
          "nan_count": 0,
          "categories": [
           {
            "name": "Gd",
            "count": 4
           },
           {
            "name": "TA",
            "count": 1
           }
          ]
         }
        },
        {
         "name": "TotRmsAbvGrd",
         "dtype": "int64",
         "stats": {
          "unique_count": 4,
          "nan_count": 0,
          "min": "6",
          "max": "9",
          "histogram": [
           {
            "bin_start": 6,
            "bin_end": 6.3,
            "count": 2
           },
           {
            "bin_start": 6.3,
            "bin_end": 6.6,
            "count": 0
           },
           {
            "bin_start": 6.6,
            "bin_end": 6.9,
            "count": 0
           },
           {
            "bin_start": 6.9,
            "bin_end": 7.2,
            "count": 1
           },
           {
            "bin_start": 7.2,
            "bin_end": 7.5,
            "count": 0
           },
           {
            "bin_start": 7.5,
            "bin_end": 7.8,
            "count": 0
           },
           {
            "bin_start": 7.8,
            "bin_end": 8.1,
            "count": 1
           },
           {
            "bin_start": 8.1,
            "bin_end": 8.4,
            "count": 0
           },
           {
            "bin_start": 8.4,
            "bin_end": 8.7,
            "count": 0
           },
           {
            "bin_start": 8.7,
            "bin_end": 9,
            "count": 1
           }
          ]
         }
        },
        {
         "name": "Functional",
         "dtype": "object",
         "stats": {
          "unique_count": 1,
          "nan_count": 0,
          "categories": [
           {
            "name": "Typ",
            "count": 5
           }
          ]
         }
        },
        {
         "name": "Fireplaces",
         "dtype": "int64",
         "stats": {
          "unique_count": 2,
          "nan_count": 0,
          "min": "0",
          "max": "1",
          "histogram": [
           {
            "bin_start": 0,
            "bin_end": 0.1,
            "count": 1
           },
           {
            "bin_start": 0.1,
            "bin_end": 0.2,
            "count": 0
           },
           {
            "bin_start": 0.2,
            "bin_end": 0.30000000000000004,
            "count": 0
           },
           {
            "bin_start": 0.30000000000000004,
            "bin_end": 0.4,
            "count": 0
           },
           {
            "bin_start": 0.4,
            "bin_end": 0.5,
            "count": 0
           },
           {
            "bin_start": 0.5,
            "bin_end": 0.6000000000000001,
            "count": 0
           },
           {
            "bin_start": 0.6000000000000001,
            "bin_end": 0.7000000000000001,
            "count": 0
           },
           {
            "bin_start": 0.7000000000000001,
            "bin_end": 0.8,
            "count": 0
           },
           {
            "bin_start": 0.8,
            "bin_end": 0.9,
            "count": 0
           },
           {
            "bin_start": 0.9,
            "bin_end": 1,
            "count": 4
           }
          ]
         }
        },
        {
         "name": "FireplaceQu",
         "dtype": "object",
         "stats": {
          "unique_count": 2,
          "nan_count": 1,
          "categories": [
           {
            "name": "TA",
            "count": 3
           },
           {
            "name": "Gd",
            "count": 1
           },
           {
            "name": "Missing",
            "count": 1
           }
          ]
         }
        },
        {
         "name": "GarageType",
         "dtype": "object",
         "stats": {
          "unique_count": 2,
          "nan_count": 0,
          "categories": [
           {
            "name": "Attchd",
            "count": 4
           },
           {
            "name": "Detchd",
            "count": 1
           }
          ]
         }
        },
        {
         "name": "GarageYrBlt",
         "dtype": "float64",
         "stats": {
          "unique_count": 5,
          "nan_count": 0,
          "min": "1976.0",
          "max": "2003.0",
          "histogram": [
           {
            "bin_start": 1976,
            "bin_end": 1978.7,
            "count": 1
           },
           {
            "bin_start": 1978.7,
            "bin_end": 1981.4,
            "count": 0
           },
           {
            "bin_start": 1981.4,
            "bin_end": 1984.1,
            "count": 0
           },
           {
            "bin_start": 1984.1,
            "bin_end": 1986.8,
            "count": 0
           },
           {
            "bin_start": 1986.8,
            "bin_end": 1989.5,
            "count": 0
           },
           {
            "bin_start": 1989.5,
            "bin_end": 1992.2,
            "count": 0
           },
           {
            "bin_start": 1992.2,
            "bin_end": 1994.9,
            "count": 0
           },
           {
            "bin_start": 1994.9,
            "bin_end": 1997.6,
            "count": 0
           },
           {
            "bin_start": 1997.6,
            "bin_end": 2000.3,
            "count": 2
           },
           {
            "bin_start": 2000.3,
            "bin_end": 2003,
            "count": 2
           }
          ]
         }
        },
        {
         "name": "GarageFinish",
         "dtype": "object",
         "stats": {
          "unique_count": 2,
          "nan_count": 0,
          "categories": [
           {
            "name": "RFn",
            "count": 4
           },
           {
            "name": "Unf",
            "count": 1
           }
          ]
         }
        },
        {
         "name": "GarageCars",
         "dtype": "int64",
         "stats": {
          "unique_count": 2,
          "nan_count": 0,
          "min": "2",
          "max": "3",
          "histogram": [
           {
            "bin_start": 2,
            "bin_end": 2.1,
            "count": 3
           },
           {
            "bin_start": 2.1,
            "bin_end": 2.2,
            "count": 0
           },
           {
            "bin_start": 2.2,
            "bin_end": 2.3,
            "count": 0
           },
           {
            "bin_start": 2.3,
            "bin_end": 2.4,
            "count": 0
           },
           {
            "bin_start": 2.4,
            "bin_end": 2.5,
            "count": 0
           },
           {
            "bin_start": 2.5,
            "bin_end": 2.6,
            "count": 0
           },
           {
            "bin_start": 2.6,
            "bin_end": 2.7,
            "count": 0
           },
           {
            "bin_start": 2.7,
            "bin_end": 2.8,
            "count": 0
           },
           {
            "bin_start": 2.8,
            "bin_end": 2.9,
            "count": 0
           },
           {
            "bin_start": 2.9,
            "bin_end": 3,
            "count": 2
           }
          ]
         }
        },
        {
         "name": "GarageArea",
         "dtype": "int64",
         "stats": {
          "unique_count": 5,
          "nan_count": 0,
          "min": "460",
          "max": "836",
          "histogram": [
           {
            "bin_start": 460,
            "bin_end": 497.6,
            "count": 1
           },
           {
            "bin_start": 497.6,
            "bin_end": 535.2,
            "count": 0
           },
           {
            "bin_start": 535.2,
            "bin_end": 572.8,
            "count": 1
           },
           {
            "bin_start": 572.8,
            "bin_end": 610.4,
            "count": 1
           },
           {
            "bin_start": 610.4,
            "bin_end": 648,
            "count": 1
           },
           {
            "bin_start": 648,
            "bin_end": 685.6,
            "count": 0
           },
           {
            "bin_start": 685.6,
            "bin_end": 723.2,
            "count": 0
           },
           {
            "bin_start": 723.2,
            "bin_end": 760.8,
            "count": 0
           },
           {
            "bin_start": 760.8,
            "bin_end": 798.4000000000001,
            "count": 0
           },
           {
            "bin_start": 798.4000000000001,
            "bin_end": 836,
            "count": 1
           }
          ]
         }
        },
        {
         "name": "GarageQual",
         "dtype": "object",
         "stats": {
          "unique_count": 1,
          "nan_count": 0,
          "categories": [
           {
            "name": "TA",
            "count": 5
           }
          ]
         }
        },
        {
         "name": "GarageCond",
         "dtype": "object",
         "stats": {
          "unique_count": 1,
          "nan_count": 0,
          "categories": [
           {
            "name": "TA",
            "count": 5
           }
          ]
         }
        },
        {
         "name": "PavedDrive",
         "dtype": "object",
         "stats": {
          "unique_count": 1,
          "nan_count": 0,
          "categories": [
           {
            "name": "Y",
            "count": 5
           }
          ]
         }
        },
        {
         "name": "WoodDeckSF",
         "dtype": "int64",
         "stats": {
          "unique_count": 3,
          "nan_count": 0,
          "min": "0",
          "max": "298",
          "histogram": [
           {
            "bin_start": 0,
            "bin_end": 29.8,
            "count": 3
           },
           {
            "bin_start": 29.8,
            "bin_end": 59.6,
            "count": 0
           },
           {
            "bin_start": 59.6,
            "bin_end": 89.4,
            "count": 0
           },
           {
            "bin_start": 89.4,
            "bin_end": 119.2,
            "count": 0
           },
           {
            "bin_start": 119.2,
            "bin_end": 149,
            "count": 0
           },
           {
            "bin_start": 149,
            "bin_end": 178.8,
            "count": 0
           },
           {
            "bin_start": 178.8,
            "bin_end": 208.6,
            "count": 1
           },
           {
            "bin_start": 208.6,
            "bin_end": 238.4,
            "count": 0
           },
           {
            "bin_start": 238.4,
            "bin_end": 268.2,
            "count": 0
           },
           {
            "bin_start": 268.2,
            "bin_end": 298,
            "count": 1
           }
          ]
         }
        },
        {
         "name": "OpenPorchSF",
         "dtype": "int64",
         "stats": {
          "unique_count": 5,
          "nan_count": 0,
          "min": "0",
          "max": "84",
          "histogram": [
           {
            "bin_start": 0,
            "bin_end": 8.4,
            "count": 1
           },
           {
            "bin_start": 8.4,
            "bin_end": 16.8,
            "count": 0
           },
           {
            "bin_start": 16.8,
            "bin_end": 25.200000000000003,
            "count": 0
           },
           {
            "bin_start": 25.200000000000003,
            "bin_end": 33.6,
            "count": 0
           },
           {
            "bin_start": 33.6,
            "bin_end": 42,
            "count": 1
           },
           {
            "bin_start": 42,
            "bin_end": 50.400000000000006,
            "count": 1
           },
           {
            "bin_start": 50.400000000000006,
            "bin_end": 58.800000000000004,
            "count": 0
           },
           {
            "bin_start": 58.800000000000004,
            "bin_end": 67.2,
            "count": 1
           },
           {
            "bin_start": 67.2,
            "bin_end": 75.60000000000001,
            "count": 0
           },
           {
            "bin_start": 75.60000000000001,
            "bin_end": 84,
            "count": 1
           }
          ]
         }
        },
        {
         "name": "EnclosedPorch",
         "dtype": "int64",
         "stats": {
          "unique_count": 2,
          "nan_count": 0,
          "min": "0",
          "max": "272",
          "histogram": [
           {
            "bin_start": 0,
            "bin_end": 27.2,
            "count": 4
           },
           {
            "bin_start": 27.2,
            "bin_end": 54.4,
            "count": 0
           },
           {
            "bin_start": 54.4,
            "bin_end": 81.6,
            "count": 0
           },
           {
            "bin_start": 81.6,
            "bin_end": 108.8,
            "count": 0
           },
           {
            "bin_start": 108.8,
            "bin_end": 136,
            "count": 0
           },
           {
            "bin_start": 136,
            "bin_end": 163.2,
            "count": 0
           },
           {
            "bin_start": 163.2,
            "bin_end": 190.4,
            "count": 0
           },
           {
            "bin_start": 190.4,
            "bin_end": 217.6,
            "count": 0
           },
           {
            "bin_start": 217.6,
            "bin_end": 244.79999999999998,
            "count": 0
           },
           {
            "bin_start": 244.79999999999998,
            "bin_end": 272,
            "count": 1
           }
          ]
         }
        },
        {
         "name": "3SsnPorch",
         "dtype": "int64",
         "stats": {
          "unique_count": 1,
          "nan_count": 0,
          "min": "0",
          "max": "0",
          "histogram": [
           {
            "bin_start": -0.5,
            "bin_end": -0.4,
            "count": 0
           },
           {
            "bin_start": -0.4,
            "bin_end": -0.3,
            "count": 0
           },
           {
            "bin_start": -0.3,
            "bin_end": -0.19999999999999996,
            "count": 0
           },
           {
            "bin_start": -0.19999999999999996,
            "bin_end": -0.09999999999999998,
            "count": 0
           },
           {
            "bin_start": -0.09999999999999998,
            "bin_end": 0,
            "count": 0
           },
           {
            "bin_start": 0,
            "bin_end": 0.10000000000000009,
            "count": 5
           },
           {
            "bin_start": 0.10000000000000009,
            "bin_end": 0.20000000000000007,
            "count": 0
           },
           {
            "bin_start": 0.20000000000000007,
            "bin_end": 0.30000000000000004,
            "count": 0
           },
           {
            "bin_start": 0.30000000000000004,
            "bin_end": 0.4,
            "count": 0
           },
           {
            "bin_start": 0.4,
            "bin_end": 0.5,
            "count": 0
           }
          ]
         }
        },
        {
         "name": "ScreenPorch",
         "dtype": "int64",
         "stats": {
          "unique_count": 1,
          "nan_count": 0,
          "min": "0",
          "max": "0",
          "histogram": [
           {
            "bin_start": -0.5,
            "bin_end": -0.4,
            "count": 0
           },
           {
            "bin_start": -0.4,
            "bin_end": -0.3,
            "count": 0
           },
           {
            "bin_start": -0.3,
            "bin_end": -0.19999999999999996,
            "count": 0
           },
           {
            "bin_start": -0.19999999999999996,
            "bin_end": -0.09999999999999998,
            "count": 0
           },
           {
            "bin_start": -0.09999999999999998,
            "bin_end": 0,
            "count": 0
           },
           {
            "bin_start": 0,
            "bin_end": 0.10000000000000009,
            "count": 5
           },
           {
            "bin_start": 0.10000000000000009,
            "bin_end": 0.20000000000000007,
            "count": 0
           },
           {
            "bin_start": 0.20000000000000007,
            "bin_end": 0.30000000000000004,
            "count": 0
           },
           {
            "bin_start": 0.30000000000000004,
            "bin_end": 0.4,
            "count": 0
           },
           {
            "bin_start": 0.4,
            "bin_end": 0.5,
            "count": 0
           }
          ]
         }
        },
        {
         "name": "PoolArea",
         "dtype": "int64",
         "stats": {
          "unique_count": 1,
          "nan_count": 0,
          "min": "0",
          "max": "0",
          "histogram": [
           {
            "bin_start": -0.5,
            "bin_end": -0.4,
            "count": 0
           },
           {
            "bin_start": -0.4,
            "bin_end": -0.3,
            "count": 0
           },
           {
            "bin_start": -0.3,
            "bin_end": -0.19999999999999996,
            "count": 0
           },
           {
            "bin_start": -0.19999999999999996,
            "bin_end": -0.09999999999999998,
            "count": 0
           },
           {
            "bin_start": -0.09999999999999998,
            "bin_end": 0,
            "count": 0
           },
           {
            "bin_start": 0,
            "bin_end": 0.10000000000000009,
            "count": 5
           },
           {
            "bin_start": 0.10000000000000009,
            "bin_end": 0.20000000000000007,
            "count": 0
           },
           {
            "bin_start": 0.20000000000000007,
            "bin_end": 0.30000000000000004,
            "count": 0
           },
           {
            "bin_start": 0.30000000000000004,
            "bin_end": 0.4,
            "count": 0
           },
           {
            "bin_start": 0.4,
            "bin_end": 0.5,
            "count": 0
           }
          ]
         }
        },
        {
         "name": "PoolQC",
         "dtype": "object",
         "stats": {
          "unique_count": 0,
          "nan_count": 5,
          "categories": [
           {
            "name": "Missing",
            "count": 5
           }
          ]
         }
        },
        {
         "name": "Fence",
         "dtype": "object",
         "stats": {
          "unique_count": 0,
          "nan_count": 5,
          "categories": [
           {
            "name": "Missing",
            "count": 5
           }
          ]
         }
        },
        {
         "name": "MiscFeature",
         "dtype": "object",
         "stats": {
          "unique_count": 0,
          "nan_count": 5,
          "categories": [
           {
            "name": "Missing",
            "count": 5
           }
          ]
         }
        },
        {
         "name": "MiscVal",
         "dtype": "int64",
         "stats": {
          "unique_count": 1,
          "nan_count": 0,
          "min": "0",
          "max": "0",
          "histogram": [
           {
            "bin_start": -0.5,
            "bin_end": -0.4,
            "count": 0
           },
           {
            "bin_start": -0.4,
            "bin_end": -0.3,
            "count": 0
           },
           {
            "bin_start": -0.3,
            "bin_end": -0.19999999999999996,
            "count": 0
           },
           {
            "bin_start": -0.19999999999999996,
            "bin_end": -0.09999999999999998,
            "count": 0
           },
           {
            "bin_start": -0.09999999999999998,
            "bin_end": 0,
            "count": 0
           },
           {
            "bin_start": 0,
            "bin_end": 0.10000000000000009,
            "count": 5
           },
           {
            "bin_start": 0.10000000000000009,
            "bin_end": 0.20000000000000007,
            "count": 0
           },
           {
            "bin_start": 0.20000000000000007,
            "bin_end": 0.30000000000000004,
            "count": 0
           },
           {
            "bin_start": 0.30000000000000004,
            "bin_end": 0.4,
            "count": 0
           },
           {
            "bin_start": 0.4,
            "bin_end": 0.5,
            "count": 0
           }
          ]
         }
        },
        {
         "name": "MoSold",
         "dtype": "int64",
         "stats": {
          "unique_count": 4,
          "nan_count": 0,
          "min": "2",
          "max": "12",
          "histogram": [
           {
            "bin_start": 2,
            "bin_end": 3,
            "count": 2
           },
           {
            "bin_start": 3,
            "bin_end": 4,
            "count": 0
           },
           {
            "bin_start": 4,
            "bin_end": 5,
            "count": 0
           },
           {
            "bin_start": 5,
            "bin_end": 6,
            "count": 1
           },
           {
            "bin_start": 6,
            "bin_end": 7,
            "count": 0
           },
           {
            "bin_start": 7,
            "bin_end": 8,
            "count": 0
           },
           {
            "bin_start": 8,
            "bin_end": 9,
            "count": 0
           },
           {
            "bin_start": 9,
            "bin_end": 10,
            "count": 1
           },
           {
            "bin_start": 10,
            "bin_end": 11,
            "count": 0
           },
           {
            "bin_start": 11,
            "bin_end": 12,
            "count": 1
           }
          ]
         }
        },
        {
         "name": "YrSold",
         "dtype": "int64",
         "stats": {
          "unique_count": 3,
          "nan_count": 0,
          "min": "2006",
          "max": "2008",
          "histogram": [
           {
            "bin_start": 2006,
            "bin_end": 2006.2,
            "count": 1
           },
           {
            "bin_start": 2006.2,
            "bin_end": 2006.4,
            "count": 0
           },
           {
            "bin_start": 2006.4,
            "bin_end": 2006.6,
            "count": 0
           },
           {
            "bin_start": 2006.6,
            "bin_end": 2006.8,
            "count": 0
           },
           {
            "bin_start": 2006.8,
            "bin_end": 2007,
            "count": 0
           },
           {
            "bin_start": 2007,
            "bin_end": 2007.2,
            "count": 1
           },
           {
            "bin_start": 2007.2,
            "bin_end": 2007.4,
            "count": 0
           },
           {
            "bin_start": 2007.4,
            "bin_end": 2007.6,
            "count": 0
           },
           {
            "bin_start": 2007.6,
            "bin_end": 2007.8,
            "count": 0
           },
           {
            "bin_start": 2007.8,
            "bin_end": 2008,
            "count": 3
           }
          ]
         }
        },
        {
         "name": "SaleType",
         "dtype": "object",
         "stats": {
          "unique_count": 1,
          "nan_count": 0,
          "categories": [
           {
            "name": "WD",
            "count": 5
           }
          ]
         }
        },
        {
         "name": "SaleCondition",
         "dtype": "object",
         "stats": {
          "unique_count": 2,
          "nan_count": 0,
          "categories": [
           {
            "name": "Normal",
            "count": 4
           },
           {
            "name": "Abnorml",
            "count": 1
           }
          ]
         }
        },
        {
         "name": "SalePrice",
         "dtype": "int64",
         "stats": {
          "unique_count": 5,
          "nan_count": 0,
          "min": "140000",
          "max": "250000",
          "histogram": [
           {
            "bin_start": 140000,
            "bin_end": 151000,
            "count": 1
           },
           {
            "bin_start": 151000,
            "bin_end": 162000,
            "count": 0
           },
           {
            "bin_start": 162000,
            "bin_end": 173000,
            "count": 0
           },
           {
            "bin_start": 173000,
            "bin_end": 184000,
            "count": 1
           },
           {
            "bin_start": 184000,
            "bin_end": 195000,
            "count": 0
           },
           {
            "bin_start": 195000,
            "bin_end": 206000,
            "count": 0
           },
           {
            "bin_start": 206000,
            "bin_end": 217000,
            "count": 1
           },
           {
            "bin_start": 217000,
            "bin_end": 228000,
            "count": 1
           },
           {
            "bin_start": 228000,
            "bin_end": 239000,
            "count": 0
           },
           {
            "bin_start": 239000,
            "bin_end": 250000,
            "count": 1
           }
          ]
         }
        },
        {
         "name": "_deepnote_index_column",
         "dtype": "int64"
        }
       ],
       "rows": [
        {
         "Id": 1,
         "MSSubClass": 60,
         "MSZoning": "RL",
         "LotFrontage": 65,
         "LotArea": 8450,
         "Street": "Pave",
         "Alley": "nan",
         "LotShape": "Reg",
         "LandContour": "Lvl",
         "Utilities": "AllPub",
         "LotConfig": "Inside",
         "LandSlope": "Gtl",
         "Neighborhood": "CollgCr",
         "Condition1": "Norm",
         "Condition2": "Norm",
         "BldgType": "1Fam",
         "HouseStyle": "2Story",
         "OverallQual": 7,
         "OverallCond": 5,
         "YearBuilt": 2003,
         "YearRemodAdd": 2003,
         "RoofStyle": "Gable",
         "RoofMatl": "CompShg",
         "Exterior1st": "VinylSd",
         "Exterior2nd": "VinylSd",
         "MasVnrType": "BrkFace",
         "MasVnrArea": 196,
         "ExterQual": "Gd",
         "ExterCond": "TA",
         "Foundation": "PConc",
         "BsmtQual": "Gd",
         "BsmtCond": "TA",
         "BsmtExposure": "No",
         "BsmtFinType1": "GLQ",
         "BsmtFinSF1": 706,
         "BsmtFinType2": "Unf",
         "BsmtFinSF2": 0,
         "BsmtUnfSF": 150,
         "TotalBsmtSF": 856,
         "Heating": "GasA",
         "HeatingQC": "Ex",
         "CentralAir": "Y",
         "Electrical": "SBrkr",
         "1stFlrSF": 856,
         "2ndFlrSF": 854,
         "LowQualFinSF": 0,
         "GrLivArea": 1710,
         "BsmtFullBath": 1,
         "BsmtHalfBath": 0,
         "FullBath": 2,
         "HalfBath": 1,
         "BedroomAbvGr": 3,
         "KitchenAbvGr": 1,
         "KitchenQual": "Gd",
         "TotRmsAbvGrd": 8,
         "Functional": "Typ",
         "Fireplaces": 0,
         "FireplaceQu": "nan",
         "GarageType": "Attchd",
         "GarageYrBlt": 2003,
         "GarageFinish": "RFn",
         "GarageCars": 2,
         "GarageArea": 548,
         "GarageQual": "TA",
         "GarageCond": "TA",
         "PavedDrive": "Y",
         "WoodDeckSF": 0,
         "OpenPorchSF": 61,
         "EnclosedPorch": 0,
         "3SsnPorch": 0,
         "ScreenPorch": 0,
         "PoolArea": 0,
         "PoolQC": "nan",
         "Fence": "nan",
         "MiscFeature": "nan",
         "MiscVal": 0,
         "MoSold": 2,
         "YrSold": 2008,
         "SaleType": "WD",
         "SaleCondition": "Normal",
         "SalePrice": 208500,
         "_deepnote_index_column": 0
        },
        {
         "Id": 2,
         "MSSubClass": 20,
         "MSZoning": "RL",
         "LotFrontage": 80,
         "LotArea": 9600,
         "Street": "Pave",
         "Alley": "nan",
         "LotShape": "Reg",
         "LandContour": "Lvl",
         "Utilities": "AllPub",
         "LotConfig": "FR2",
         "LandSlope": "Gtl",
         "Neighborhood": "Veenker",
         "Condition1": "Feedr",
         "Condition2": "Norm",
         "BldgType": "1Fam",
         "HouseStyle": "1Story",
         "OverallQual": 6,
         "OverallCond": 8,
         "YearBuilt": 1976,
         "YearRemodAdd": 1976,
         "RoofStyle": "Gable",
         "RoofMatl": "CompShg",
         "Exterior1st": "MetalSd",
         "Exterior2nd": "MetalSd",
         "MasVnrType": "None",
         "MasVnrArea": 0,
         "ExterQual": "TA",
         "ExterCond": "TA",
         "Foundation": "CBlock",
         "BsmtQual": "Gd",
         "BsmtCond": "TA",
         "BsmtExposure": "Gd",
         "BsmtFinType1": "ALQ",
         "BsmtFinSF1": 978,
         "BsmtFinType2": "Unf",
         "BsmtFinSF2": 0,
         "BsmtUnfSF": 284,
         "TotalBsmtSF": 1262,
         "Heating": "GasA",
         "HeatingQC": "Ex",
         "CentralAir": "Y",
         "Electrical": "SBrkr",
         "1stFlrSF": 1262,
         "2ndFlrSF": 0,
         "LowQualFinSF": 0,
         "GrLivArea": 1262,
         "BsmtFullBath": 0,
         "BsmtHalfBath": 1,
         "FullBath": 2,
         "HalfBath": 0,
         "BedroomAbvGr": 3,
         "KitchenAbvGr": 1,
         "KitchenQual": "TA",
         "TotRmsAbvGrd": 6,
         "Functional": "Typ",
         "Fireplaces": 1,
         "FireplaceQu": "TA",
         "GarageType": "Attchd",
         "GarageYrBlt": 1976,
         "GarageFinish": "RFn",
         "GarageCars": 2,
         "GarageArea": 460,
         "GarageQual": "TA",
         "GarageCond": "TA",
         "PavedDrive": "Y",
         "WoodDeckSF": 298,
         "OpenPorchSF": 0,
         "EnclosedPorch": 0,
         "3SsnPorch": 0,
         "ScreenPorch": 0,
         "PoolArea": 0,
         "PoolQC": "nan",
         "Fence": "nan",
         "MiscFeature": "nan",
         "MiscVal": 0,
         "MoSold": 5,
         "YrSold": 2007,
         "SaleType": "WD",
         "SaleCondition": "Normal",
         "SalePrice": 181500,
         "_deepnote_index_column": 1
        },
        {
         "Id": 3,
         "MSSubClass": 60,
         "MSZoning": "RL",
         "LotFrontage": 68,
         "LotArea": 11250,
         "Street": "Pave",
         "Alley": "nan",
         "LotShape": "IR1",
         "LandContour": "Lvl",
         "Utilities": "AllPub",
         "LotConfig": "Inside",
         "LandSlope": "Gtl",
         "Neighborhood": "CollgCr",
         "Condition1": "Norm",
         "Condition2": "Norm",
         "BldgType": "1Fam",
         "HouseStyle": "2Story",
         "OverallQual": 7,
         "OverallCond": 5,
         "YearBuilt": 2001,
         "YearRemodAdd": 2002,
         "RoofStyle": "Gable",
         "RoofMatl": "CompShg",
         "Exterior1st": "VinylSd",
         "Exterior2nd": "VinylSd",
         "MasVnrType": "BrkFace",
         "MasVnrArea": 162,
         "ExterQual": "Gd",
         "ExterCond": "TA",
         "Foundation": "PConc",
         "BsmtQual": "Gd",
         "BsmtCond": "TA",
         "BsmtExposure": "Mn",
         "BsmtFinType1": "GLQ",
         "BsmtFinSF1": 486,
         "BsmtFinType2": "Unf",
         "BsmtFinSF2": 0,
         "BsmtUnfSF": 434,
         "TotalBsmtSF": 920,
         "Heating": "GasA",
         "HeatingQC": "Ex",
         "CentralAir": "Y",
         "Electrical": "SBrkr",
         "1stFlrSF": 920,
         "2ndFlrSF": 866,
         "LowQualFinSF": 0,
         "GrLivArea": 1786,
         "BsmtFullBath": 1,
         "BsmtHalfBath": 0,
         "FullBath": 2,
         "HalfBath": 1,
         "BedroomAbvGr": 3,
         "KitchenAbvGr": 1,
         "KitchenQual": "Gd",
         "TotRmsAbvGrd": 6,
         "Functional": "Typ",
         "Fireplaces": 1,
         "FireplaceQu": "TA",
         "GarageType": "Attchd",
         "GarageYrBlt": 2001,
         "GarageFinish": "RFn",
         "GarageCars": 2,
         "GarageArea": 608,
         "GarageQual": "TA",
         "GarageCond": "TA",
         "PavedDrive": "Y",
         "WoodDeckSF": 0,
         "OpenPorchSF": 42,
         "EnclosedPorch": 0,
         "3SsnPorch": 0,
         "ScreenPorch": 0,
         "PoolArea": 0,
         "PoolQC": "nan",
         "Fence": "nan",
         "MiscFeature": "nan",
         "MiscVal": 0,
         "MoSold": 9,
         "YrSold": 2008,
         "SaleType": "WD",
         "SaleCondition": "Normal",
         "SalePrice": 223500,
         "_deepnote_index_column": 2
        },
        {
         "Id": 4,
         "MSSubClass": 70,
         "MSZoning": "RL",
         "LotFrontage": 60,
         "LotArea": 9550,
         "Street": "Pave",
         "Alley": "nan",
         "LotShape": "IR1",
         "LandContour": "Lvl",
         "Utilities": "AllPub",
         "LotConfig": "Corner",
         "LandSlope": "Gtl",
         "Neighborhood": "Crawfor",
         "Condition1": "Norm",
         "Condition2": "Norm",
         "BldgType": "1Fam",
         "HouseStyle": "2Story",
         "OverallQual": 7,
         "OverallCond": 5,
         "YearBuilt": 1915,
         "YearRemodAdd": 1970,
         "RoofStyle": "Gable",
         "RoofMatl": "CompShg",
         "Exterior1st": "Wd Sdng",
         "Exterior2nd": "Wd Shng",
         "MasVnrType": "None",
         "MasVnrArea": 0,
         "ExterQual": "TA",
         "ExterCond": "TA",
         "Foundation": "BrkTil",
         "BsmtQual": "TA",
         "BsmtCond": "Gd",
         "BsmtExposure": "No",
         "BsmtFinType1": "ALQ",
         "BsmtFinSF1": 216,
         "BsmtFinType2": "Unf",
         "BsmtFinSF2": 0,
         "BsmtUnfSF": 540,
         "TotalBsmtSF": 756,
         "Heating": "GasA",
         "HeatingQC": "Gd",
         "CentralAir": "Y",
         "Electrical": "SBrkr",
         "1stFlrSF": 961,
         "2ndFlrSF": 756,
         "LowQualFinSF": 0,
         "GrLivArea": 1717,
         "BsmtFullBath": 1,
         "BsmtHalfBath": 0,
         "FullBath": 1,
         "HalfBath": 0,
         "BedroomAbvGr": 3,
         "KitchenAbvGr": 1,
         "KitchenQual": "Gd",
         "TotRmsAbvGrd": 7,
         "Functional": "Typ",
         "Fireplaces": 1,
         "FireplaceQu": "Gd",
         "GarageType": "Detchd",
         "GarageYrBlt": 1998,
         "GarageFinish": "Unf",
         "GarageCars": 3,
         "GarageArea": 642,
         "GarageQual": "TA",
         "GarageCond": "TA",
         "PavedDrive": "Y",
         "WoodDeckSF": 0,
         "OpenPorchSF": 35,
         "EnclosedPorch": 272,
         "3SsnPorch": 0,
         "ScreenPorch": 0,
         "PoolArea": 0,
         "PoolQC": "nan",
         "Fence": "nan",
         "MiscFeature": "nan",
         "MiscVal": 0,
         "MoSold": 2,
         "YrSold": 2006,
         "SaleType": "WD",
         "SaleCondition": "Abnorml",
         "SalePrice": 140000,
         "_deepnote_index_column": 3
        },
        {
         "Id": 5,
         "MSSubClass": 60,
         "MSZoning": "RL",
         "LotFrontage": 84,
         "LotArea": 14260,
         "Street": "Pave",
         "Alley": "nan",
         "LotShape": "IR1",
         "LandContour": "Lvl",
         "Utilities": "AllPub",
         "LotConfig": "FR2",
         "LandSlope": "Gtl",
         "Neighborhood": "NoRidge",
         "Condition1": "Norm",
         "Condition2": "Norm",
         "BldgType": "1Fam",
         "HouseStyle": "2Story",
         "OverallQual": 8,
         "OverallCond": 5,
         "YearBuilt": 2000,
         "YearRemodAdd": 2000,
         "RoofStyle": "Gable",
         "RoofMatl": "CompShg",
         "Exterior1st": "VinylSd",
         "Exterior2nd": "VinylSd",
         "MasVnrType": "BrkFace",
         "MasVnrArea": 350,
         "ExterQual": "Gd",
         "ExterCond": "TA",
         "Foundation": "PConc",
         "BsmtQual": "Gd",
         "BsmtCond": "TA",
         "BsmtExposure": "Av",
         "BsmtFinType1": "GLQ",
         "BsmtFinSF1": 655,
         "BsmtFinType2": "Unf",
         "BsmtFinSF2": 0,
         "BsmtUnfSF": 490,
         "TotalBsmtSF": 1145,
         "Heating": "GasA",
         "HeatingQC": "Ex",
         "CentralAir": "Y",
         "Electrical": "SBrkr",
         "1stFlrSF": 1145,
         "2ndFlrSF": 1053,
         "LowQualFinSF": 0,
         "GrLivArea": 2198,
         "BsmtFullBath": 1,
         "BsmtHalfBath": 0,
         "FullBath": 2,
         "HalfBath": 1,
         "BedroomAbvGr": 4,
         "KitchenAbvGr": 1,
         "KitchenQual": "Gd",
         "TotRmsAbvGrd": 9,
         "Functional": "Typ",
         "Fireplaces": 1,
         "FireplaceQu": "TA",
         "GarageType": "Attchd",
         "GarageYrBlt": 2000,
         "GarageFinish": "RFn",
         "GarageCars": 3,
         "GarageArea": 836,
         "GarageQual": "TA",
         "GarageCond": "TA",
         "PavedDrive": "Y",
         "WoodDeckSF": 192,
         "OpenPorchSF": 84,
         "EnclosedPorch": 0,
         "3SsnPorch": 0,
         "ScreenPorch": 0,
         "PoolArea": 0,
         "PoolQC": "nan",
         "Fence": "nan",
         "MiscFeature": "nan",
         "MiscVal": 0,
         "MoSold": 12,
         "YrSold": 2008,
         "SaleType": "WD",
         "SaleCondition": "Normal",
         "SalePrice": 250000,
         "_deepnote_index_column": 4
        }
       ]
      },
      "text/plain": "   Id  MSSubClass MSZoning  LotFrontage  LotArea Street Alley LotShape  \\\n0   1          60       RL         65.0     8450   Pave   NaN      Reg   \n1   2          20       RL         80.0     9600   Pave   NaN      Reg   \n2   3          60       RL         68.0    11250   Pave   NaN      IR1   \n3   4          70       RL         60.0     9550   Pave   NaN      IR1   \n4   5          60       RL         84.0    14260   Pave   NaN      IR1   \n\n  LandContour Utilities  ... PoolArea PoolQC Fence MiscFeature MiscVal MoSold  \\\n0         Lvl    AllPub  ...        0    NaN   NaN         NaN       0      2   \n1         Lvl    AllPub  ...        0    NaN   NaN         NaN       0      5   \n2         Lvl    AllPub  ...        0    NaN   NaN         NaN       0      9   \n3         Lvl    AllPub  ...        0    NaN   NaN         NaN       0      2   \n4         Lvl    AllPub  ...        0    NaN   NaN         NaN       0     12   \n\n  YrSold  SaleType  SaleCondition  SalePrice  \n0   2008        WD         Normal     208500  \n1   2007        WD         Normal     181500  \n2   2008        WD         Normal     223500  \n3   2006        WD        Abnorml     140000  \n4   2008        WD         Normal     250000  \n\n[5 rows x 81 columns]",
      "text/html": "<div>\n<style scoped>\n    .dataframe tbody tr th:only-of-type {\n        vertical-align: middle;\n    }\n\n    .dataframe tbody tr th {\n        vertical-align: top;\n    }\n\n    .dataframe thead th {\n        text-align: right;\n    }\n</style>\n<table border=\"1\" class=\"dataframe\">\n  <thead>\n    <tr style=\"text-align: right;\">\n      <th></th>\n      <th>Id</th>\n      <th>MSSubClass</th>\n      <th>MSZoning</th>\n      <th>LotFrontage</th>\n      <th>LotArea</th>\n      <th>Street</th>\n      <th>Alley</th>\n      <th>LotShape</th>\n      <th>LandContour</th>\n      <th>Utilities</th>\n      <th>...</th>\n      <th>PoolArea</th>\n      <th>PoolQC</th>\n      <th>Fence</th>\n      <th>MiscFeature</th>\n      <th>MiscVal</th>\n      <th>MoSold</th>\n      <th>YrSold</th>\n      <th>SaleType</th>\n      <th>SaleCondition</th>\n      <th>SalePrice</th>\n    </tr>\n  </thead>\n  <tbody>\n    <tr>\n      <th>0</th>\n      <td>1</td>\n      <td>60</td>\n      <td>RL</td>\n      <td>65.0</td>\n      <td>8450</td>\n      <td>Pave</td>\n      <td>NaN</td>\n      <td>Reg</td>\n      <td>Lvl</td>\n      <td>AllPub</td>\n      <td>...</td>\n      <td>0</td>\n      <td>NaN</td>\n      <td>NaN</td>\n      <td>NaN</td>\n      <td>0</td>\n      <td>2</td>\n      <td>2008</td>\n      <td>WD</td>\n      <td>Normal</td>\n      <td>208500</td>\n    </tr>\n    <tr>\n      <th>1</th>\n      <td>2</td>\n      <td>20</td>\n      <td>RL</td>\n      <td>80.0</td>\n      <td>9600</td>\n      <td>Pave</td>\n      <td>NaN</td>\n      <td>Reg</td>\n      <td>Lvl</td>\n      <td>AllPub</td>\n      <td>...</td>\n      <td>0</td>\n      <td>NaN</td>\n      <td>NaN</td>\n      <td>NaN</td>\n      <td>0</td>\n      <td>5</td>\n      <td>2007</td>\n      <td>WD</td>\n      <td>Normal</td>\n      <td>181500</td>\n    </tr>\n    <tr>\n      <th>2</th>\n      <td>3</td>\n      <td>60</td>\n      <td>RL</td>\n      <td>68.0</td>\n      <td>11250</td>\n      <td>Pave</td>\n      <td>NaN</td>\n      <td>IR1</td>\n      <td>Lvl</td>\n      <td>AllPub</td>\n      <td>...</td>\n      <td>0</td>\n      <td>NaN</td>\n      <td>NaN</td>\n      <td>NaN</td>\n      <td>0</td>\n      <td>9</td>\n      <td>2008</td>\n      <td>WD</td>\n      <td>Normal</td>\n      <td>223500</td>\n    </tr>\n    <tr>\n      <th>3</th>\n      <td>4</td>\n      <td>70</td>\n      <td>RL</td>\n      <td>60.0</td>\n      <td>9550</td>\n      <td>Pave</td>\n      <td>NaN</td>\n      <td>IR1</td>\n      <td>Lvl</td>\n      <td>AllPub</td>\n      <td>...</td>\n      <td>0</td>\n      <td>NaN</td>\n      <td>NaN</td>\n      <td>NaN</td>\n      <td>0</td>\n      <td>2</td>\n      <td>2006</td>\n      <td>WD</td>\n      <td>Abnorml</td>\n      <td>140000</td>\n    </tr>\n    <tr>\n      <th>4</th>\n      <td>5</td>\n      <td>60</td>\n      <td>RL</td>\n      <td>84.0</td>\n      <td>14260</td>\n      <td>Pave</td>\n      <td>NaN</td>\n      <td>IR1</td>\n      <td>Lvl</td>\n      <td>AllPub</td>\n      <td>...</td>\n      <td>0</td>\n      <td>NaN</td>\n      <td>NaN</td>\n      <td>NaN</td>\n      <td>0</td>\n      <td>12</td>\n      <td>2008</td>\n      <td>WD</td>\n      <td>Normal</td>\n      <td>250000</td>\n    </tr>\n  </tbody>\n</table>\n<p>5 rows × 81 columns</p>\n</div>"
     },
     "metadata": {}
    }
   ]
  },
  {
   "cell_type": "code",
   "metadata": {
    "cell_id": "1ce9e06e413649a0ace2a3309024ea74",
    "tags": [],
    "allow_embed": true,
    "deepnote_cell_type": "code",
    "deepnote_cell_height": 66
   },
   "source": "pd.read_csv(\"data.csv\", usecols=[\"date\", \"price\"])",
   "execution_count": null,
   "outputs": []
  },
  {
   "cell_type": "code",
   "metadata": {
    "cell_id": "59c89aaa160b4ac0b9eb6ff31b57856e",
    "tags": [],
    "allow_embed": true,
    "deepnote_cell_type": "code",
    "deepnote_cell_height": 66
   },
   "source": "pd.read_csv(\"data.csv\", parse_dates=[\"date\"])",
   "execution_count": null,
   "outputs": []
  },
  {
   "cell_type": "code",
   "metadata": {
    "cell_id": "b049615ed4fb4f58a7f18c8ed73476c6",
    "tags": [],
    "allow_embed": true,
    "deepnote_cell_type": "code",
    "deepnote_cell_height": 66
   },
   "source": "pd.read_csv(\"data.csv\", dtype={\"house_type\": \"category\"})",
   "execution_count": null,
   "outputs": []
  },
  {
   "cell_type": "code",
   "metadata": {
    "cell_id": "aae8366664e345649e2ab47b04053104",
    "tags": [],
    "allow_embed": true,
    "deepnote_cell_type": "code",
    "deepnote_cell_height": 66
   },
   "source": "pd.read_csv(\"data.csv\", index_col=\"date\")",
   "execution_count": null,
   "outputs": []
  },
  {
   "cell_type": "code",
   "metadata": {
    "cell_id": "397f2dc2367c4928a044fa24d7afbca5",
    "tags": [],
    "allow_embed": true,
    "deepnote_cell_type": "code",
    "deepnote_cell_height": 120
   },
   "source": "pd.read_csv(\"data.csv\", skiprows=[1, 5])  # skips line 1 and 5\npd.read_csv(\"data.csv\", skiprows=100)  # skips the first 100 lines\npd.read_csv(\"data.csv\", skiprows=lambda x: x > 0 and np.random.rand() > 0.1) # skip 90% of the rows\n",
   "execution_count": null,
   "outputs": []
  },
  {
   "cell_type": "code",
   "metadata": {
    "cell_id": "5408f90ab36b4535ab849834cf1fe51c",
    "tags": [],
    "allow_embed": true,
    "deepnote_cell_type": "code",
    "deepnote_cell_height": 66
   },
   "source": "pd.read_csv(\"data.csv\", nrows=100)",
   "execution_count": null,
   "outputs": []
  },
  {
   "cell_type": "code",
   "metadata": {
    "cell_id": "1ec7665ff2aa4c58993b6993365b428e",
    "tags": [],
    "allow_embed": true,
    "deepnote_cell_type": "code",
    "deepnote_cell_height": 66
   },
   "source": "pd.read_csv(\"data.csv\", na_values=[\"?\"])",
   "execution_count": null,
   "outputs": []
  },
  {
   "cell_type": "code",
   "metadata": {
    "cell_id": "00005-a36464c4-26df-41a7-9133-6951be600817",
    "allow_embed": true,
    "deepnote_cell_type": "code",
    "deepnote_cell_height": 66
   },
   "source": "pd.read_csv(\"data.csv\", true_values=[\"yes\"], false_values=[\"no\"])",
   "execution_count": null,
   "outputs": []
  },
  {
   "cell_type": "markdown",
   "source": "Read from multiple files",
   "metadata": {
    "cell_id": "25db6b2f476949ad9953412bfd2fc54d",
    "tags": [],
    "deepnote_cell_type": "markdown",
    "deepnote_cell_height": 52.390625
   }
  },
  {
   "cell_type": "code",
   "metadata": {
    "cell_id": "00006-b27a647a-02d6-4b2b-9d97-7cd38e282add",
    "allow_embed": true,
    "deepnote_cell_type": "code",
    "deepnote_cell_height": 174
   },
   "source": "import glob\nimport os\n\nfiles = glob.glob(\"file_*.csv\")\n\nresult = pd.concat([pd.read_csv(f) for f in files], ignore_index=True)\n",
   "execution_count": null,
   "outputs": []
  },
  {
   "cell_type": "markdown",
   "source": "copy from excel, read into pandas data frame",
   "metadata": {
    "cell_id": "725f7fa7911e41bc8f6544801857e6e7",
    "tags": [],
    "deepnote_cell_type": "markdown",
    "deepnote_cell_height": 52.390625
   }
  },
  {
   "cell_type": "code",
   "metadata": {
    "cell_id": "00052-4e1e1757-1aa9-4ef3-9e38-2877e323a34c",
    "allow_embed": true,
    "deepnote_cell_type": "code",
    "deepnote_cell_height": 66
   },
   "source": "df = pd.read_clipboard() ",
   "execution_count": null,
   "outputs": []
  },
  {
   "cell_type": "markdown",
   "source": "read tables from pdf\n\nhttps://github.com/chezou/tabula-py",
   "metadata": {
    "cell_id": "c961b5673aea425f9ecd0d728542c630",
    "tags": [],
    "deepnote_cell_type": "markdown",
    "deepnote_cell_height": 88.796875
   }
  },
  {
   "cell_type": "code",
   "metadata": {
    "cell_id": "9a658ad192594981b119555714321af5",
    "tags": [],
    "allow_embed": "code_output",
    "deepnote_cell_type": "code",
    "deepnote_cell_height": 138
   },
   "source": "# %pip install tabula-py\n\nfrom tabula import read_pdf\n# Read pdf into list of DataFrame\ndf = read_pdf('test.pdf', pages='all')",
   "execution_count": null,
   "outputs": []
  },
  {
   "cell_type": "markdown",
   "source": "## EDA cheat",
   "metadata": {
    "cell_id": "00009-82a7d96d-1d6f-4dff-8feb-227d3f551520",
    "deepnote_cell_type": "markdown",
    "deepnote_cell_height": 56.390625
   }
  },
  {
   "cell_type": "code",
   "metadata": {
    "cell_id": "00010-f69f4f87-867a-4571-9bcb-e0f9ac17d219",
    "allow_embed": true,
    "deepnote_cell_type": "code",
    "deepnote_cell_height": 174
   },
   "source": "# %pip install pandas-profiling\n\nimport pandas_profiling\n\ndf = pd.read_csv(\"data.csv\")\nprofile = df.profile_report(title=\"Pandas Profiling Report\")\nprofile.to_file(output_file=\"output.html\")",
   "execution_count": null,
   "outputs": []
  },
  {
   "cell_type": "markdown",
   "source": "## Data Types",
   "metadata": {
    "cell_id": "00016-44c38ec9-3764-4bd7-8be9-a1df190faa48",
    "deepnote_cell_type": "markdown",
    "deepnote_cell_height": 56.390625
   }
  },
  {
   "cell_type": "markdown",
   "source": "filtering",
   "metadata": {
    "cell_id": "00017-71bc93df-e33b-410c-af75-ae67b5efaf08",
    "deepnote_cell_type": "markdown",
    "deepnote_cell_height": 52.390625
   }
  },
  {
   "cell_type": "code",
   "metadata": {
    "cell_id": "00018-0021dab1-e5dc-4b7b-aaad-62a7ea45c85e",
    "allow_embed": true,
    "deepnote_cell_type": "code",
    "deepnote_cell_height": 156
   },
   "source": "# selecting\ndf.select_dtypes(include=\"number\")\ndf.select_dtypes(include=[\"category\", \"datetime\"])\n\n# exluding\ndf.select_dtypes(exclude=\"object\")",
   "execution_count": null,
   "outputs": []
  },
  {
   "cell_type": "markdown",
   "source": "conversions",
   "metadata": {
    "cell_id": "00019-1445657d-1b3f-43fb-9277-56d8ab560a8e",
    "deepnote_cell_type": "markdown",
    "deepnote_cell_height": 52.390625
   }
  },
  {
   "cell_type": "code",
   "metadata": {
    "cell_id": "494c2ead165042c79d52f986f860ed2e",
    "tags": [],
    "allow_embed": true,
    "deepnote_to_be_reexecuted": false,
    "source_hash": "d74ead7e",
    "execution_start": 1650260562456,
    "execution_millis": 2,
    "output_cleared": true,
    "deepnote_cell_type": "code",
    "deepnote_cell_height": 81,
    "deepnote_output_heights": [
     232.34375
    ]
   },
   "source": "df.infer_objects().dtypes",
   "execution_count": null,
   "outputs": []
  },
  {
   "cell_type": "code",
   "metadata": {
    "cell_id": "b42040a952fa46d8bb879e08e13a87d4",
    "tags": [],
    "allow_embed": true,
    "deepnote_cell_type": "code",
    "deepnote_cell_height": 84
   },
   "source": "pd.to_numeric(df.numeric_col, downcast=\"integer\") # smallest signed int dtype\npd.to_numeric(df.numeric_col, downcast=\"float\")  # smallest float dtype",
   "execution_count": null,
   "outputs": []
  },
  {
   "cell_type": "code",
   "metadata": {
    "cell_id": "00021-897735d6-e43d-41b2-bd4d-f6319857c0ba",
    "allow_embed": true,
    "deepnote_cell_type": "code",
    "deepnote_cell_height": 210
   },
   "source": "# apply to whole data frame\ndf = df.apply(pd.to_numeric, errors=\"coerce\")\n\n# apply to specific columns\npd.to_numeric(df.numeric_column, errors=\"coerce\")\n\n# filling NA values with zero\npd.to_numeric(df.numeric_column, errors=\"coerce\").fillna(0)\n",
   "execution_count": null,
   "outputs": []
  },
  {
   "cell_type": "markdown",
   "source": "converting all columns at once",
   "metadata": {
    "cell_id": "00022-c378bc0a-92ac-4a72-a672-a4a46abc8de5",
    "deepnote_cell_type": "markdown",
    "deepnote_cell_height": 52.390625
   }
  },
  {
   "cell_type": "code",
   "metadata": {
    "cell_id": "00023-bf532f69-1ff7-485c-a282-256031c817d9",
    "allow_embed": "code_output",
    "deepnote_to_be_reexecuted": false,
    "source_hash": "943bc7d",
    "execution_start": 1650261718342,
    "execution_millis": 16,
    "output_cleared": true,
    "deepnote_cell_type": "code",
    "deepnote_cell_height": 207
   },
   "source": "df = df.astype(\n    {\n        \"date\": \"datetime64[ns]\",\n        \"price\": \"int\",\n        \"is_weekend\": \"bool\",\n        \"status\": \"category\",\n    }\n)",
   "execution_count": null,
   "outputs": []
  },
  {
   "cell_type": "markdown",
   "source": "## Column operations",
   "metadata": {
    "cell_id": "00011-5d06678c-90ed-46b1-b733-c29b478cf505",
    "deepnote_cell_type": "markdown",
    "deepnote_cell_height": 56.390625
   }
  },
  {
   "cell_type": "markdown",
   "source": "rename columns",
   "metadata": {
    "cell_id": "bba7bfe0cd9a47ed88992b7ac717cf60",
    "tags": [],
    "deepnote_cell_type": "markdown",
    "deepnote_cell_height": 52.390625
   }
  },
  {
   "cell_type": "code",
   "metadata": {
    "cell_id": "87d0b5609bd34bd6afe5c94ef1446f93",
    "tags": [],
    "allow_embed": true,
    "deepnote_cell_type": "code",
    "deepnote_cell_height": 66
   },
   "source": "df = df.rename({\"PRICE\": \"price\", \"Date (mm/dd/yyyy)\": \"date\"}, axis=1)",
   "execution_count": null,
   "outputs": []
  },
  {
   "cell_type": "code",
   "metadata": {
    "cell_id": "00012-6a072881-8071-46d3-8a6a-f13149b2f20e",
    "allow_embed": true,
    "deepnote_cell_type": "code",
    "deepnote_cell_height": 84
   },
   "source": "df.add_prefix(\"pre_\")\ndf.add_suffix(\"_suf\")",
   "execution_count": null,
   "outputs": []
  },
  {
   "cell_type": "markdown",
   "source": "create new columns",
   "metadata": {
    "cell_id": "c77cabb29a984daeaa583e9e7c78e6e1",
    "tags": [],
    "deepnote_cell_type": "markdown",
    "deepnote_cell_height": 52.390625
   }
  },
  {
   "cell_type": "code",
   "metadata": {
    "cell_id": "f0d40ee03735460ea507aac413ece9e2",
    "tags": [],
    "allow_embed": "code",
    "deepnote_to_be_reexecuted": false,
    "source_hash": "f3bc4d",
    "execution_start": 1650412082674,
    "execution_millis": 296,
    "output_cleared": true,
    "deepnote_cell_type": "code",
    "deepnote_cell_height": 99
   },
   "source": "# create new column of Fahrenheit values from Celcius\ndf.assign(temp_f=lambda x: x.temp_c * 9 / 5 + 32)",
   "execution_count": null,
   "outputs": []
  },
  {
   "cell_type": "code",
   "metadata": {
    "cell_id": "00042-4e931d08-6fc9-470f-9562-c597fcc06945",
    "allow_embed": "code",
    "deepnote_cell_type": "code",
    "deepnote_cell_height": 84
   },
   "source": "random_col = np.random.randint(10, size=len(df))\ndf.insert(3, 'random_col', random_col) # inserts at third column",
   "execution_count": null,
   "outputs": []
  },
  {
   "cell_type": "markdown",
   "source": "if-then-else using NumPy’s where()",
   "metadata": {
    "cell_id": "00050-a8c388e4-9bc5-4ffd-933c-63d3020cd0a1",
    "deepnote_cell_type": "markdown",
    "deepnote_cell_height": 52.390625
   }
  },
  {
   "cell_type": "code",
   "metadata": {
    "cell_id": "00051-cfc66b94-9352-4a9e-8e20-165d8b091af3",
    "allow_embed": "code",
    "deepnote_cell_type": "code",
    "deepnote_cell_height": 66
   },
   "source": "df[\"logic\"] = np.where(df[\"price\"] > 5, \"high\", \"low\")",
   "execution_count": null,
   "outputs": []
  },
  {
   "cell_type": "markdown",
   "source": "dropping columns",
   "metadata": {
    "cell_id": "055483e984cb44ae8d1b3c485b5eef5e",
    "tags": [],
    "deepnote_cell_type": "markdown",
    "deepnote_cell_height": 52.390625
   }
  },
  {
   "cell_type": "code",
   "metadata": {
    "cell_id": "451b3506196144e4ac40ef0b4880f852",
    "tags": [],
    "allow_embed": true,
    "deepnote_cell_type": "code",
    "deepnote_cell_height": 138
   },
   "source": "df.drop('col1', axis=1, inplace=True)\ndf = df.drop(['col1','col2'], axis=1)\ns = df.pop('col')\ndel df['col']\ndf.drop(df.columns[0], inplace=True)",
   "execution_count": null,
   "outputs": []
  },
  {
   "cell_type": "markdown",
   "source": "## String operations",
   "metadata": {
    "cell_id": "00024-51bc63af-7cea-4877-9077-6c28965ebf30",
    "deepnote_cell_type": "markdown",
    "deepnote_cell_height": 56.390625
   }
  },
  {
   "cell_type": "code",
   "source": "# on column names\ndf.columns = df.columns.str.lower()\ndf.columns = df.columns.str.replace(' ', '_')",
   "metadata": {
    "cell_id": "57958197ba194d2ca4af41d6e7a47983",
    "tags": [],
    "allow_embed": true,
    "deepnote_cell_type": "code",
    "deepnote_cell_height": 102
   },
   "outputs": [],
   "execution_count": null
  },
  {
   "cell_type": "code",
   "metadata": {
    "cell_id": "7bc3751c335c499d980a5acc724b8c38",
    "tags": [],
    "allow_embed": true,
    "deepnote_cell_type": "code",
    "deepnote_cell_height": 138
   },
   "source": "df['name'].str.contains(\"John\")\n\ndf['phone_num'].str.contains('...-...-....', regex=True)  # regex\n\ndf['email'].str.contains('gmail')",
   "execution_count": null,
   "outputs": []
  },
  {
   "cell_type": "code",
   "metadata": {
    "cell_id": "486d007a7f7f401fbaf0bdb3bfff1d28",
    "tags": [],
    "allow_embed": true,
    "deepnote_cell_type": "code",
    "deepnote_cell_height": 102
   },
   "source": "pattern = '([A-Z0-9._%+-]+)@([A-Z0-9.-]+)\\\\.([A-Z]{2,4})'\n\ndf['email'].str.findall(pattern, flags=re.IGNORECASE)",
   "execution_count": null,
   "outputs": []
  },
  {
   "cell_type": "markdown",
   "source": "remove non-numeric values throughout df",
   "metadata": {
    "cell_id": "00027-81d128be-c76f-4c5c-8c73-69c51290260b",
    "deepnote_cell_type": "markdown",
    "deepnote_cell_height": 52.390625
   }
  },
  {
   "cell_type": "code",
   "metadata": {
    "cell_id": "00028-a210ac46-4f66-4014-a545-74b3eeb3c1f2",
    "deepnote_cell_type": "code",
    "deepnote_cell_height": 84
   },
   "source": "for col in df.columns.values:\n    df[col] = df[col].replace(\"[^0-9]+.-\", \"\", regex=True)",
   "execution_count": null,
   "outputs": []
  },
  {
   "cell_type": "markdown",
   "source": "## Missing values",
   "metadata": {
    "cell_id": "00029-e186e832-9f69-4870-8cd3-20804b0e382c",
    "deepnote_cell_type": "markdown",
    "deepnote_cell_height": 56.390625
   }
  },
  {
   "cell_type": "code",
   "metadata": {
    "cell_id": "3d7844499a7d421085a1f1156e190e2f",
    "tags": [],
    "deepnote_to_be_reexecuted": false,
    "source_hash": "5bd45e26",
    "execution_start": 1650261987520,
    "execution_millis": 639,
    "allow_embed": "code_output",
    "deepnote_cell_type": "code",
    "deepnote_cell_height": 824.515625,
    "deepnote_output_heights": [
     21.1875
    ]
   },
   "source": "def missing_vals(df):\n    \"\"\"prints out columns with perc of missing values\"\"\"\n    missing = [\n        (df.columns[idx], perc)\n        for idx, perc in enumerate(df.isna().mean() * 100)\n        if perc > 0\n    ]\n\n    if len(missing) == 0:\n        return \"no missing values\"\n        \n\n    # sort desc by perc\n    missing.sort(key=lambda x: x[1], reverse=True)\n\n    print(f\"There are a total of {len(missing)} variables with missing values\\n\")\n\n    for tup in missing:\n        print(str.ljust(f\"{tup[0]:<20} => {round(tup[1], 3)}%\", 1))\n\n\nmissing_vals(df)",
   "execution_count": null,
   "outputs": [
    {
     "name": "stdout",
     "text": "There are a total of 16 variables with missing values\n\nPoolQC               => 100.0%\nAlley                => 94.0%\nMiscFeature          => 91.0%\nFence                => 77.0%\nFireplaceQu          => 54.0%\nLotFrontage          => 14.0%\nGarageType           => 6.0%\nGarageYrBlt          => 6.0%\nGarageFinish         => 6.0%\nGarageQual           => 6.0%\nGarageCond           => 6.0%\nBsmtQual             => 3.0%\nBsmtCond             => 3.0%\nBsmtExposure         => 3.0%\nBsmtFinType1         => 3.0%\nBsmtFinType2         => 3.0%\n",
     "output_type": "stream"
    }
   ]
  },
  {
   "cell_type": "markdown",
   "source": "dropping",
   "metadata": {
    "cell_id": "851d3820d6444ef48bf7f3426a262258",
    "tags": [],
    "deepnote_cell_type": "markdown",
    "deepnote_cell_height": 52.390625
   }
  },
  {
   "cell_type": "markdown",
   "source": "imputing",
   "metadata": {
    "cell_id": "62004cf4d17d411880f53e7bb1d065e4",
    "tags": [],
    "deepnote_cell_type": "markdown",
    "deepnote_cell_height": 52.390625
   }
  },
  {
   "cell_type": "code",
   "source": "# drop \ndf.dropna(axis=0)\ndf.dropna(axis=1)\n\n# impute\ndf.fillna(0)\ndf.fillna(method=\"ffill\")\ndf.fillna(method='bfill')\n\n# replace\ndf.replace( -999, np.nan)\ndf.replace(\"?\", np.nan)\n\n# interpolate\nts.interpolate() # time series\ndf.interpolate() # fill all consecutive values forward\ndf.interpolate(limit=1) # fill one consecutive value forward\ndf.interpolate(limit=1, limit_direction=\"backward\")\ndf.interpolate(limit_direction=\"both\")",
   "metadata": {
    "cell_id": "87115d18b0d6467bb616c57ec4443e06",
    "tags": [],
    "deepnote_to_be_reexecuted": false,
    "source_hash": "5f7d921c",
    "execution_start": 1650413317255,
    "execution_millis": 2,
    "output_cleared": true,
    "allow_embed": true,
    "deepnote_cell_type": "code",
    "deepnote_cell_height": 405
   },
   "outputs": [],
   "execution_count": null
  },
  {
   "cell_type": "markdown",
   "source": "## Date operations",
   "metadata": {
    "cell_id": "00031-d35b04be-74dd-4d25-a861-a204d0fd9683",
    "deepnote_cell_type": "markdown",
    "deepnote_cell_height": 56.390625
   }
  },
  {
   "cell_type": "code",
   "metadata": {
    "cell_id": "9a696b42d233451a96057d595a7544a5",
    "tags": [],
    "deepnote_to_be_reexecuted": false,
    "source_hash": "7de269f9",
    "execution_start": 1650238171199,
    "execution_millis": 126,
    "deepnote_cell_type": "code",
    "deepnote_cell_height": 99
   },
   "source": "df = pd.read_csv(\"data/tesla.csv\", usecols=[\"Date\", \"Open\", \"Close\", \"Volume\"], parse_dates=['Date'])\n# https://www.kaggle.com/datasets/rpaguirre/tesla-stock-price",
   "execution_count": null,
   "outputs": []
  },
  {
   "cell_type": "markdown",
   "source": "Get X hours/days/weeks from today / ago",
   "metadata": {
    "cell_id": "00033-8470c010-47ca-48ef-86c5-a337f25e94b8",
    "deepnote_cell_type": "markdown",
    "deepnote_cell_height": 52.390625
   }
  },
  {
   "cell_type": "code",
   "metadata": {
    "cell_id": "00034-6f92d9a2-8d57-4811-844c-efde8fffc1f2",
    "deepnote_to_be_reexecuted": false,
    "source_hash": "76ea2ec3",
    "execution_start": 1650262294267,
    "execution_millis": 2,
    "allow_embed": true,
    "deepnote_cell_type": "code",
    "deepnote_cell_height": 226.1875,
    "deepnote_output_heights": [
     21.1875
    ]
   },
   "source": "# from today\ndate.today() + datetime.timedelta(hours=30)\ndate.today() + datetime.timedelta(days=30)\ndate.today() + datetime.timedelta(weeks=30)\n\n# ago\ndate.today() - datetime.timedelta(days=365)",
   "execution_count": null,
   "outputs": [
    {
     "output_type": "execute_result",
     "execution_count": 22,
     "data": {
      "text/plain": "datetime.date(2021, 4, 18)"
     },
     "metadata": {}
    }
   ]
  },
  {
   "cell_type": "markdown",
   "source": "filter between two dates",
   "metadata": {
    "cell_id": "00035-ab46441d-70c5-44de-8579-d20292ae9939",
    "deepnote_cell_type": "markdown",
    "deepnote_cell_height": 52.390625
   }
  },
  {
   "cell_type": "code",
   "metadata": {
    "cell_id": "00036-ad71d4a7-d927-4c30-b47b-013eeacd820c",
    "deepnote_to_be_reexecuted": false,
    "source_hash": "e589fff",
    "execution_start": 1650238196136,
    "execution_millis": 24,
    "allow_embed": "code",
    "deepnote_cell_type": "code",
    "deepnote_cell_height": 600
   },
   "source": "df[(df[\"Date\"] > \"2015-01-01\") & (df[\"Date\"] < \"2017-01-01\")]",
   "execution_count": null,
   "outputs": [
    {
     "output_type": "execute_result",
     "execution_count": 69,
     "data": {
      "application/vnd.deepnote.dataframe.v3+json": {
       "column_count": 4,
       "row_count": 504,
       "columns": [
        {
         "name": "Date",
         "dtype": "datetime64[ns]",
         "stats": {
          "unique_count": 504,
          "nan_count": 0,
          "min": "2015-01-02 00:00:00",
          "max": "2016-12-30 00:00:00",
          "histogram": [
           {
            "bin_start": 1420156800000000000,
            "bin_end": 1426446720000000000,
            "count": 49
           },
           {
            "bin_start": 1426446720000000000,
            "bin_end": 1432736640000000000,
            "count": 51
           },
           {
            "bin_start": 1432736640000000000,
            "bin_end": 1439026560000000000,
            "count": 51
           },
           {
            "bin_start": 1439026560000000000,
            "bin_end": 1445316480000000000,
            "count": 51
           },
           {
            "bin_start": 1445316480000000000,
            "bin_end": 1451606400000000000,
            "count": 50
           },
           {
            "bin_start": 1451606400000000000,
            "bin_end": 1457896320000000000,
            "count": 48
           },
           {
            "bin_start": 1457896320000000000,
            "bin_end": 1464186240000000000,
            "count": 52
           },
           {
            "bin_start": 1464186240000000000,
            "bin_end": 1470476160000000000,
            "count": 50
           },
           {
            "bin_start": 1470476160000000000,
            "bin_end": 1476766080000000000,
            "count": 51
           },
           {
            "bin_start": 1476766080000000000,
            "bin_end": 1483056000000000000,
            "count": 51
           }
          ]
         }
        },
        {
         "name": "Open",
         "dtype": "float64",
         "stats": {
          "unique_count": 474,
          "nan_count": 0,
          "min": "142.320007",
          "max": "280.200012",
          "histogram": [
           {
            "bin_start": 142.320007,
            "bin_end": 156.1080075,
            "count": 4
           },
           {
            "bin_start": 156.1080075,
            "bin_end": 169.896008,
            "count": 4
           },
           {
            "bin_start": 169.896008,
            "bin_end": 183.6840085,
            "count": 13
           },
           {
            "bin_start": 183.6840085,
            "bin_end": 197.472009,
            "count": 67
           },
           {
            "bin_start": 197.472009,
            "bin_end": 211.26000950000002,
            "count": 112
           },
           {
            "bin_start": 211.26000950000002,
            "bin_end": 225.04801,
            "count": 107
           },
           {
            "bin_start": 225.04801,
            "bin_end": 238.83601050000001,
            "count": 81
           },
           {
            "bin_start": 238.83601050000001,
            "bin_end": 252.624011,
            "count": 60
           },
           {
            "bin_start": 252.624011,
            "bin_end": 266.4120115,
            "count": 40
           },
           {
            "bin_start": 266.4120115,
            "bin_end": 280.200012,
            "count": 16
           }
          ]
         }
        },
        {
         "name": "Close",
         "dtype": "float64",
         "stats": {
          "unique_count": 488,
          "nan_count": 0,
          "min": "143.669998",
          "max": "282.26001",
          "histogram": [
           {
            "bin_start": 143.669998,
            "bin_end": 157.5289992,
            "count": 6
           },
           {
            "bin_start": 157.5289992,
            "bin_end": 171.3880004,
            "count": 4
           },
           {
            "bin_start": 171.3880004,
            "bin_end": 185.2470016,
            "count": 14
           },
           {
            "bin_start": 185.2470016,
            "bin_end": 199.1060028,
            "count": 76
           },
           {
            "bin_start": 199.1060028,
            "bin_end": 212.96500400000002,
            "count": 117
           },
           {
            "bin_start": 212.96500400000002,
            "bin_end": 226.82400520000002,
            "count": 107
           },
           {
            "bin_start": 226.82400520000002,
            "bin_end": 240.6830064,
            "count": 64
           },
           {
            "bin_start": 240.6830064,
            "bin_end": 254.54200760000003,
            "count": 66
           },
           {
            "bin_start": 254.54200760000003,
            "bin_end": 268.4010088,
            "count": 43
           },
           {
            "bin_start": 268.4010088,
            "bin_end": 282.26001,
            "count": 7
           }
          ]
         }
        },
        {
         "name": "Volume",
         "dtype": "int64",
         "stats": {
          "unique_count": 504,
          "nan_count": 0,
          "min": "708000",
          "max": "23742400",
          "histogram": [
           {
            "bin_start": 708000,
            "bin_end": 3011440,
            "count": 129
           },
           {
            "bin_start": 3011440,
            "bin_end": 5314880,
            "count": 259
           },
           {
            "bin_start": 5314880,
            "bin_end": 7618320,
            "count": 77
           },
           {
            "bin_start": 7618320,
            "bin_end": 9921760,
            "count": 21
           },
           {
            "bin_start": 9921760,
            "bin_end": 12225200,
            "count": 8
           },
           {
            "bin_start": 12225200,
            "bin_end": 14528640,
            "count": 5
           },
           {
            "bin_start": 14528640,
            "bin_end": 16832080,
            "count": 4
           },
           {
            "bin_start": 16832080,
            "bin_end": 19135520,
            "count": 0
           },
           {
            "bin_start": 19135520,
            "bin_end": 21438960,
            "count": 0
           },
           {
            "bin_start": 21438960,
            "bin_end": 23742400,
            "count": 1
           }
          ]
         }
        },
        {
         "name": "_deepnote_index_column",
         "dtype": "int64"
        }
       ],
       "rows": [
        {
         "Date": "2015-01-02T00:00:00.000000",
         "Open": 222.869995,
         "Close": 219.309998,
         "Volume": 4764400,
         "_deepnote_index_column": 1136
        },
        {
         "Date": "2015-01-05T00:00:00.000000",
         "Open": 214.550003,
         "Close": 210.089996,
         "Volume": 5368500,
         "_deepnote_index_column": 1137
        },
        {
         "Date": "2015-01-06T00:00:00.000000",
         "Open": 210.059998,
         "Close": 211.279999,
         "Volume": 6261900,
         "_deepnote_index_column": 1138
        },
        {
         "Date": "2015-01-07T00:00:00.000000",
         "Open": 213.350006,
         "Close": 210.949997,
         "Volume": 2968400,
         "_deepnote_index_column": 1139
        },
        {
         "Date": "2015-01-08T00:00:00.000000",
         "Open": 212.809998,
         "Close": 210.619995,
         "Volume": 3442500,
         "_deepnote_index_column": 1140
        },
        {
         "Date": "2015-01-09T00:00:00.000000",
         "Open": 208.919998,
         "Close": 206.660004,
         "Volume": 4668300,
         "_deepnote_index_column": 1141
        },
        {
         "Date": "2015-01-12T00:00:00.000000",
         "Open": 203.050003,
         "Close": 202.210007,
         "Volume": 5950300,
         "_deepnote_index_column": 1142
        },
        {
         "Date": "2015-01-13T00:00:00.000000",
         "Open": 203.320007,
         "Close": 204.25,
         "Volume": 4477300,
         "_deepnote_index_column": 1143
        },
        {
         "Date": "2015-01-14T00:00:00.000000",
         "Open": 185.830002,
         "Close": 192.690002,
         "Volume": 11513900,
         "_deepnote_index_column": 1144
        },
        {
         "Date": "2015-01-15T00:00:00.000000",
         "Open": 194.490005,
         "Close": 191.869995,
         "Volume": 5216500,
         "_deepnote_index_column": 1145
        }
       ]
      },
      "text/plain": "           Date        Open       Close   Volume\n1136 2015-01-02  222.869995  219.309998  4764400\n1137 2015-01-05  214.550003  210.089996  5368500\n1138 2015-01-06  210.059998  211.279999  6261900\n1139 2015-01-07  213.350006  210.949997  2968400\n1140 2015-01-08  212.809998  210.619995  3442500\n...         ...         ...         ...      ...\n1635 2016-12-23  208.000000  213.339996  4670500\n1636 2016-12-27  214.880005  219.529999  5915700\n1637 2016-12-28  221.529999  219.740005  3782500\n1638 2016-12-29  218.559998  214.679993  4045000\n1639 2016-12-30  216.300003  213.690002  4642600\n\n[504 rows x 4 columns]",
      "text/html": "<div>\n<style scoped>\n    .dataframe tbody tr th:only-of-type {\n        vertical-align: middle;\n    }\n\n    .dataframe tbody tr th {\n        vertical-align: top;\n    }\n\n    .dataframe thead th {\n        text-align: right;\n    }\n</style>\n<table border=\"1\" class=\"dataframe\">\n  <thead>\n    <tr style=\"text-align: right;\">\n      <th></th>\n      <th>Date</th>\n      <th>Open</th>\n      <th>Close</th>\n      <th>Volume</th>\n    </tr>\n  </thead>\n  <tbody>\n    <tr>\n      <th>1136</th>\n      <td>2015-01-02</td>\n      <td>222.869995</td>\n      <td>219.309998</td>\n      <td>4764400</td>\n    </tr>\n    <tr>\n      <th>1137</th>\n      <td>2015-01-05</td>\n      <td>214.550003</td>\n      <td>210.089996</td>\n      <td>5368500</td>\n    </tr>\n    <tr>\n      <th>1138</th>\n      <td>2015-01-06</td>\n      <td>210.059998</td>\n      <td>211.279999</td>\n      <td>6261900</td>\n    </tr>\n    <tr>\n      <th>1139</th>\n      <td>2015-01-07</td>\n      <td>213.350006</td>\n      <td>210.949997</td>\n      <td>2968400</td>\n    </tr>\n    <tr>\n      <th>1140</th>\n      <td>2015-01-08</td>\n      <td>212.809998</td>\n      <td>210.619995</td>\n      <td>3442500</td>\n    </tr>\n    <tr>\n      <th>...</th>\n      <td>...</td>\n      <td>...</td>\n      <td>...</td>\n      <td>...</td>\n    </tr>\n    <tr>\n      <th>1635</th>\n      <td>2016-12-23</td>\n      <td>208.000000</td>\n      <td>213.339996</td>\n      <td>4670500</td>\n    </tr>\n    <tr>\n      <th>1636</th>\n      <td>2016-12-27</td>\n      <td>214.880005</td>\n      <td>219.529999</td>\n      <td>5915700</td>\n    </tr>\n    <tr>\n      <th>1637</th>\n      <td>2016-12-28</td>\n      <td>221.529999</td>\n      <td>219.740005</td>\n      <td>3782500</td>\n    </tr>\n    <tr>\n      <th>1638</th>\n      <td>2016-12-29</td>\n      <td>218.559998</td>\n      <td>214.679993</td>\n      <td>4045000</td>\n    </tr>\n    <tr>\n      <th>1639</th>\n      <td>2016-12-30</td>\n      <td>216.300003</td>\n      <td>213.690002</td>\n      <td>4642600</td>\n    </tr>\n  </tbody>\n</table>\n<p>504 rows × 4 columns</p>\n</div>"
     },
     "metadata": {}
    }
   ]
  },
  {
   "cell_type": "code",
   "metadata": {
    "cell_id": "73594388102944bf9126ae6f39a54b15",
    "tags": [],
    "deepnote_to_be_reexecuted": false,
    "source_hash": "856a89f4",
    "execution_start": 1650238265081,
    "execution_millis": 4,
    "allow_embed": "code",
    "deepnote_cell_type": "code",
    "deepnote_cell_height": 357
   },
   "source": "# filter by single day\ndf[df[\"Date\"].dt.strftime(\"%Y-%m-%d\") == \"2017-03-01\"]\n\n# filter by single month\ndf[df[\"Date\"].dt.strftime(\"%m\") == \"12\"]\n\n# filter by single year\ndf[df[\"Date\"].dt.strftime(\"%Y\") == \"2017\"]",
   "execution_count": null,
   "outputs": [
    {
     "output_type": "execute_result",
     "execution_count": 71,
     "data": {
      "application/vnd.deepnote.dataframe.v3+json": {
       "column_count": 4,
       "row_count": 1,
       "columns": [
        {
         "name": "Date",
         "dtype": "datetime64[ns]",
         "stats": {
          "unique_count": 1,
          "nan_count": 0,
          "min": "2017-03-01 00:00:00",
          "max": "2017-03-01 00:00:00",
          "histogram": null
         }
        },
        {
         "name": "Open",
         "dtype": "float64",
         "stats": {
          "unique_count": 1,
          "nan_count": 0,
          "min": "254.179993",
          "max": "254.179993",
          "histogram": [
           {
            "bin_start": 253.679993,
            "bin_end": 253.779993,
            "count": 0
           },
           {
            "bin_start": 253.779993,
            "bin_end": 253.87999299999998,
            "count": 0
           },
           {
            "bin_start": 253.87999299999998,
            "bin_end": 253.979993,
            "count": 0
           },
           {
            "bin_start": 253.979993,
            "bin_end": 254.079993,
            "count": 0
           },
           {
            "bin_start": 254.079993,
            "bin_end": 254.179993,
            "count": 0
           },
           {
            "bin_start": 254.179993,
            "bin_end": 254.279993,
            "count": 1
           },
           {
            "bin_start": 254.279993,
            "bin_end": 254.37999299999998,
            "count": 0
           },
           {
            "bin_start": 254.37999299999998,
            "bin_end": 254.479993,
            "count": 0
           },
           {
            "bin_start": 254.479993,
            "bin_end": 254.579993,
            "count": 0
           },
           {
            "bin_start": 254.579993,
            "bin_end": 254.679993,
            "count": 0
           }
          ]
         }
        },
        {
         "name": "Close",
         "dtype": "float64",
         "stats": {
          "unique_count": 1,
          "nan_count": 0,
          "min": "250.020004",
          "max": "250.020004",
          "histogram": [
           {
            "bin_start": 249.520004,
            "bin_end": 249.620004,
            "count": 0
           },
           {
            "bin_start": 249.620004,
            "bin_end": 249.720004,
            "count": 0
           },
           {
            "bin_start": 249.720004,
            "bin_end": 249.820004,
            "count": 0
           },
           {
            "bin_start": 249.820004,
            "bin_end": 249.920004,
            "count": 0
           },
           {
            "bin_start": 249.920004,
            "bin_end": 250.020004,
            "count": 0
           },
           {
            "bin_start": 250.020004,
            "bin_end": 250.120004,
            "count": 1
           },
           {
            "bin_start": 250.120004,
            "bin_end": 250.220004,
            "count": 0
           },
           {
            "bin_start": 250.220004,
            "bin_end": 250.320004,
            "count": 0
           },
           {
            "bin_start": 250.320004,
            "bin_end": 250.420004,
            "count": 0
           },
           {
            "bin_start": 250.420004,
            "bin_end": 250.520004,
            "count": 0
           }
          ]
         }
        },
        {
         "name": "Volume",
         "dtype": "int64",
         "stats": {
          "unique_count": 1,
          "nan_count": 0,
          "min": "4800300",
          "max": "4800300",
          "histogram": [
           {
            "bin_start": 4800299.5,
            "bin_end": 4800299.6,
            "count": 0
           },
           {
            "bin_start": 4800299.6,
            "bin_end": 4800299.7,
            "count": 0
           },
           {
            "bin_start": 4800299.7,
            "bin_end": 4800299.8,
            "count": 0
           },
           {
            "bin_start": 4800299.8,
            "bin_end": 4800299.9,
            "count": 0
           },
           {
            "bin_start": 4800299.9,
            "bin_end": 4800300,
            "count": 0
           },
           {
            "bin_start": 4800300,
            "bin_end": 4800300.1,
            "count": 1
           },
           {
            "bin_start": 4800300.1,
            "bin_end": 4800300.2,
            "count": 0
           },
           {
            "bin_start": 4800300.2,
            "bin_end": 4800300.3,
            "count": 0
           },
           {
            "bin_start": 4800300.3,
            "bin_end": 4800300.4,
            "count": 0
           },
           {
            "bin_start": 4800300.4,
            "bin_end": 4800300.5,
            "count": 0
           }
          ]
         }
        },
        {
         "name": "_deepnote_index_column",
         "dtype": "int64"
        }
       ],
       "rows": [
        {
         "Date": "2017-03-01T00:00:00.000000",
         "Open": 254.179993,
         "Close": 250.020004,
         "Volume": 4800300,
         "_deepnote_index_column": 1679
        }
       ]
      },
      "text/plain": "           Date        Open       Close   Volume\n1679 2017-03-01  254.179993  250.020004  4800300",
      "text/html": "<div>\n<style scoped>\n    .dataframe tbody tr th:only-of-type {\n        vertical-align: middle;\n    }\n\n    .dataframe tbody tr th {\n        vertical-align: top;\n    }\n\n    .dataframe thead th {\n        text-align: right;\n    }\n</style>\n<table border=\"1\" class=\"dataframe\">\n  <thead>\n    <tr style=\"text-align: right;\">\n      <th></th>\n      <th>Date</th>\n      <th>Open</th>\n      <th>Close</th>\n      <th>Volume</th>\n    </tr>\n  </thead>\n  <tbody>\n    <tr>\n      <th>1679</th>\n      <td>2017-03-01</td>\n      <td>254.179993</td>\n      <td>250.020004</td>\n      <td>4800300</td>\n    </tr>\n  </tbody>\n</table>\n</div>"
     },
     "metadata": {}
    }
   ]
  },
  {
   "cell_type": "markdown",
   "source": "Check out https://strftime.org/ for date string format in Python",
   "metadata": {
    "cell_id": "00038-f5611d5d-8ccf-4ca7-81c7-3197b25275aa",
    "deepnote_cell_type": "markdown",
    "deepnote_cell_height": 52.390625
   }
  },
  {
   "cell_type": "markdown",
   "source": "## Styling data frames\n\nhttps://pandas.pydata.org/pandas-docs/stable/user_guide/style.html",
   "metadata": {
    "cell_id": "00043-41d3ab5d-fe6f-4da2-ad78-4b5eb8779ac3",
    "deepnote_cell_type": "markdown",
    "deepnote_cell_height": 88.796875
   }
  },
  {
   "cell_type": "code",
   "metadata": {
    "cell_id": "1a880deed023481e8785a67fb9b00025",
    "tags": [],
    "deepnote_to_be_reexecuted": false,
    "source_hash": "6b9958ef",
    "execution_start": 1650238385420,
    "execution_millis": 2,
    "deepnote_cell_type": "code",
    "deepnote_cell_height": 81
   },
   "source": "df = df.tail(10)",
   "execution_count": null,
   "outputs": []
  },
  {
   "cell_type": "code",
   "metadata": {
    "cell_id": "00044-6d7c7c58-6561-4f03-a6d3-00d5e4996954",
    "deepnote_to_be_reexecuted": false,
    "source_hash": "ae2c4e2b",
    "execution_start": 1650238386426,
    "execution_millis": 10,
    "allow_embed": true,
    "deepnote_cell_type": "code",
    "deepnote_cell_height": 563,
    "deepnote_output_heights": [
     322
    ]
   },
   "source": "format_dict = {\n    \"Date\": \"{:%d/%m/%y}\",\n    \"Open\": \"${:.2f}\",\n    \"Close\": \"${:.2f}\",\n    \"Volume\": \"{:,}\",\n}\n\ndf.style.format(format_dict)\n",
   "execution_count": null,
   "outputs": [
    {
     "output_type": "execute_result",
     "execution_count": 81,
     "data": {
      "text/plain": "<pandas.io.formats.style.Styler at 0x7f01f2243210>",
      "text/html": "<style  type=\"text/css\" >\n</style><table id=\"T_02354_\" ><thead>    <tr>        <th class=\"blank level0\" ></th>        <th class=\"col_heading level0 col0\" >Date</th>        <th class=\"col_heading level0 col1\" >Open</th>        <th class=\"col_heading level0 col2\" >Close</th>        <th class=\"col_heading level0 col3\" >Volume</th>    </tr></thead><tbody>\n                <tr>\n                        <th id=\"T_02354_level0_row0\" class=\"row_heading level0 row0\" >1681</th>\n                        <td id=\"T_02354_row0_col0\" class=\"data row0 col0\" >03/03/17</td>\n                        <td id=\"T_02354_row0_col1\" class=\"data row0 col1\" >$250.74</td>\n                        <td id=\"T_02354_row0_col2\" class=\"data row0 col2\" >$251.57</td>\n                        <td id=\"T_02354_row0_col3\" class=\"data row0 col3\" >2,919,400</td>\n            </tr>\n            <tr>\n                        <th id=\"T_02354_level0_row1\" class=\"row_heading level0 row1\" >1686</th>\n                        <td id=\"T_02354_row1_col0\" class=\"data row1 col0\" >10/03/17</td>\n                        <td id=\"T_02354_row1_col1\" class=\"data row1 col1\" >$246.21</td>\n                        <td id=\"T_02354_row1_col2\" class=\"data row1 col2\" >$243.69</td>\n                        <td id=\"T_02354_row1_col3\" class=\"data row1 col3\" >3,057,000</td>\n            </tr>\n            <tr>\n                        <th id=\"T_02354_level0_row2\" class=\"row_heading level0 row2\" >1667</th>\n                        <td id=\"T_02354_row2_col0\" class=\"data row2 col0\" >10/02/17</td>\n                        <td id=\"T_02354_row2_col1\" class=\"data row2 col1\" >$269.79</td>\n                        <td id=\"T_02354_row2_col2\" class=\"data row2 col2\" >$269.23</td>\n                        <td id=\"T_02354_row2_col3\" class=\"data row2 col3\" >3,619,700</td>\n            </tr>\n            <tr>\n                        <th id=\"T_02354_level0_row3\" class=\"row_heading level0 row3\" >1642</th>\n                        <td id=\"T_02354_row3_col0\" class=\"data row3 col0\" >05/01/17</td>\n                        <td id=\"T_02354_row3_col1\" class=\"data row3 col1\" >$226.42</td>\n                        <td id=\"T_02354_row3_col2\" class=\"data row3 col2\" >$226.75</td>\n                        <td id=\"T_02354_row3_col3\" class=\"data row3 col3\" >5,911,700</td>\n            </tr>\n            <tr>\n                        <th id=\"T_02354_level0_row4\" class=\"row_heading level0 row4\" >1645</th>\n                        <td id=\"T_02354_row4_col0\" class=\"data row4 col0\" >10/01/17</td>\n                        <td id=\"T_02354_row4_col1\" class=\"data row4 col1\" >$232.00</td>\n                        <td id=\"T_02354_row4_col2\" class=\"data row4 col2\" >$229.87</td>\n                        <td id=\"T_02354_row4_col3\" class=\"data row4 col3\" >3,660,000</td>\n            </tr>\n            <tr>\n                        <th id=\"T_02354_level0_row5\" class=\"row_heading level0 row5\" >1655</th>\n                        <td id=\"T_02354_row5_col0\" class=\"data row5 col0\" >25/01/17</td>\n                        <td id=\"T_02354_row5_col1\" class=\"data row5 col1\" >$257.31</td>\n                        <td id=\"T_02354_row5_col2\" class=\"data row5 col2\" >$254.47</td>\n                        <td id=\"T_02354_row5_col3\" class=\"data row5 col3\" >5,142,600</td>\n            </tr>\n            <tr>\n                        <th id=\"T_02354_level0_row6\" class=\"row_heading level0 row6\" >1643</th>\n                        <td id=\"T_02354_row6_col0\" class=\"data row6 col0\" >06/01/17</td>\n                        <td id=\"T_02354_row6_col1\" class=\"data row6 col1\" >$226.93</td>\n                        <td id=\"T_02354_row6_col2\" class=\"data row6 col2\" >$229.01</td>\n                        <td id=\"T_02354_row6_col3\" class=\"data row6 col3\" >5,527,900</td>\n            </tr>\n            <tr>\n                        <th id=\"T_02354_level0_row7\" class=\"row_heading level0 row7\" >1666</th>\n                        <td id=\"T_02354_row7_col0\" class=\"data row7 col0\" >09/02/17</td>\n                        <td id=\"T_02354_row7_col1\" class=\"data row7 col1\" >$266.25</td>\n                        <td id=\"T_02354_row7_col2\" class=\"data row7 col2\" >$269.20</td>\n                        <td id=\"T_02354_row7_col3\" class=\"data row7 col3\" >7,820,200</td>\n            </tr>\n            <tr>\n                        <th id=\"T_02354_level0_row8\" class=\"row_heading level0 row8\" >1662</th>\n                        <td id=\"T_02354_row8_col0\" class=\"data row8 col0\" >03/02/17</td>\n                        <td id=\"T_02354_row8_col1\" class=\"data row8 col1\" >$251.91</td>\n                        <td id=\"T_02354_row8_col2\" class=\"data row8 col2\" >$251.33</td>\n                        <td id=\"T_02354_row8_col3\" class=\"data row8 col3\" >2,186,700</td>\n            </tr>\n            <tr>\n                        <th id=\"T_02354_level0_row9\" class=\"row_heading level0 row9\" >1679</th>\n                        <td id=\"T_02354_row9_col0\" class=\"data row9 col0\" >01/03/17</td>\n                        <td id=\"T_02354_row9_col1\" class=\"data row9 col1\" >$254.18</td>\n                        <td id=\"T_02354_row9_col2\" class=\"data row9 col2\" >$250.02</td>\n                        <td id=\"T_02354_row9_col3\" class=\"data row9 col3\" >4,800,300</td>\n            </tr>\n    </tbody></table>"
     },
     "metadata": {}
    }
   ]
  },
  {
   "cell_type": "code",
   "metadata": {
    "cell_id": "00045-dae99294-b9a8-4f64-9a2b-b7986d267b89",
    "deepnote_to_be_reexecuted": false,
    "source_hash": "69de93df",
    "execution_start": 1650238861780,
    "execution_millis": 42,
    "allow_embed": true,
    "deepnote_cell_type": "code",
    "deepnote_cell_height": 605,
    "deepnote_output_heights": [
     364
    ]
   },
   "source": "(\n    df.style.format(format_dict)\n    .hide_index()\n    .highlight_min([\"Open\"], color=\"red\")\n    .highlight_max([\"Open\"], color=\"green\")\n    .background_gradient(subset=\"Close\", cmap=\"Greens\")\n    .bar('Volume', color='lightblue', align='zero')\n    .set_caption('Tesla Stock Prices in 2017')\n)",
   "execution_count": null,
   "outputs": [
    {
     "output_type": "execute_result",
     "execution_count": 101,
     "data": {
      "text/plain": "<pandas.io.formats.style.Styler at 0x7f01f1014e50>",
      "text/html": "<style  type=\"text/css\" >\n#T_bb688_row0_col2{\n            background-color:  #52b365;\n            color:  #000000;\n        }#T_bb688_row0_col3{\n            width:  10em;\n             height:  80%;\n            background:  linear-gradient(90deg, transparent 50.0%, lightblue 50.0%, lightblue 68.7%, transparent 68.7%);\n        }#T_bb688_row1_col2{\n            background-color:  #98d594;\n            color:  #000000;\n        }#T_bb688_row1_col3{\n            width:  10em;\n             height:  80%;\n            background:  linear-gradient(90deg, transparent 50.0%, lightblue 50.0%, lightblue 69.5%, transparent 69.5%);\n        }#T_bb688_row2_col1{\n            background-color:  green;\n        }#T_bb688_row2_col2,#T_bb688_row7_col2{\n            background-color:  #00441b;\n            color:  #f1f1f1;\n        }#T_bb688_row2_col3{\n            width:  10em;\n             height:  80%;\n            background:  linear-gradient(90deg, transparent 50.0%, lightblue 50.0%, lightblue 73.1%, transparent 73.1%);\n        }#T_bb688_row3_col1{\n            background-color:  red;\n        }#T_bb688_row3_col2{\n            background-color:  #f7fcf5;\n            color:  #000000;\n        }#T_bb688_row3_col3{\n            width:  10em;\n             height:  80%;\n            background:  linear-gradient(90deg, transparent 50.0%, lightblue 50.0%, lightblue 87.8%, transparent 87.8%);\n        }#T_bb688_row4_col2{\n            background-color:  #edf8e9;\n            color:  #000000;\n        }#T_bb688_row4_col3{\n            width:  10em;\n             height:  80%;\n            background:  linear-gradient(90deg, transparent 50.0%, lightblue 50.0%, lightblue 73.4%, transparent 73.4%);\n        }#T_bb688_row5_col2{\n            background-color:  #3aa357;\n            color:  #000000;\n        }#T_bb688_row5_col3{\n            width:  10em;\n             height:  80%;\n            background:  linear-gradient(90deg, transparent 50.0%, lightblue 50.0%, lightblue 82.9%, transparent 82.9%);\n        }#T_bb688_row6_col2{\n            background-color:  #f0f9ec;\n            color:  #000000;\n        }#T_bb688_row6_col3{\n            width:  10em;\n             height:  80%;\n            background:  linear-gradient(90deg, transparent 50.0%, lightblue 50.0%, lightblue 85.3%, transparent 85.3%);\n        }#T_bb688_row7_col3{\n            width:  10em;\n             height:  80%;\n            background:  linear-gradient(90deg, transparent 50.0%, lightblue 50.0%, lightblue 100.0%, transparent 100.0%);\n        }#T_bb688_row8_col2{\n            background-color:  #53b466;\n            color:  #000000;\n        }#T_bb688_row8_col3{\n            width:  10em;\n             height:  80%;\n            background:  linear-gradient(90deg, transparent 50.0%, lightblue 50.0%, lightblue 64.0%, transparent 64.0%);\n        }#T_bb688_row9_col2{\n            background-color:  #60ba6c;\n            color:  #000000;\n        }#T_bb688_row9_col3{\n            width:  10em;\n             height:  80%;\n            background:  linear-gradient(90deg, transparent 50.0%, lightblue 50.0%, lightblue 80.7%, transparent 80.7%);\n        }</style><table id=\"T_bb688_\" ><caption>Tesla Stock Prices in 2017</caption><thead>    <tr>        <th class=\"col_heading level0 col0\" >Date</th>        <th class=\"col_heading level0 col1\" >Open</th>        <th class=\"col_heading level0 col2\" >Close</th>        <th class=\"col_heading level0 col3\" >Volume</th>    </tr></thead><tbody>\n                <tr>\n                                <td id=\"T_bb688_row0_col0\" class=\"data row0 col0\" >03/03/17</td>\n                        <td id=\"T_bb688_row0_col1\" class=\"data row0 col1\" >$250.74</td>\n                        <td id=\"T_bb688_row0_col2\" class=\"data row0 col2\" >$251.57</td>\n                        <td id=\"T_bb688_row0_col3\" class=\"data row0 col3\" >2,919,400</td>\n            </tr>\n            <tr>\n                                <td id=\"T_bb688_row1_col0\" class=\"data row1 col0\" >10/03/17</td>\n                        <td id=\"T_bb688_row1_col1\" class=\"data row1 col1\" >$246.21</td>\n                        <td id=\"T_bb688_row1_col2\" class=\"data row1 col2\" >$243.69</td>\n                        <td id=\"T_bb688_row1_col3\" class=\"data row1 col3\" >3,057,000</td>\n            </tr>\n            <tr>\n                                <td id=\"T_bb688_row2_col0\" class=\"data row2 col0\" >10/02/17</td>\n                        <td id=\"T_bb688_row2_col1\" class=\"data row2 col1\" >$269.79</td>\n                        <td id=\"T_bb688_row2_col2\" class=\"data row2 col2\" >$269.23</td>\n                        <td id=\"T_bb688_row2_col3\" class=\"data row2 col3\" >3,619,700</td>\n            </tr>\n            <tr>\n                                <td id=\"T_bb688_row3_col0\" class=\"data row3 col0\" >05/01/17</td>\n                        <td id=\"T_bb688_row3_col1\" class=\"data row3 col1\" >$226.42</td>\n                        <td id=\"T_bb688_row3_col2\" class=\"data row3 col2\" >$226.75</td>\n                        <td id=\"T_bb688_row3_col3\" class=\"data row3 col3\" >5,911,700</td>\n            </tr>\n            <tr>\n                                <td id=\"T_bb688_row4_col0\" class=\"data row4 col0\" >10/01/17</td>\n                        <td id=\"T_bb688_row4_col1\" class=\"data row4 col1\" >$232.00</td>\n                        <td id=\"T_bb688_row4_col2\" class=\"data row4 col2\" >$229.87</td>\n                        <td id=\"T_bb688_row4_col3\" class=\"data row4 col3\" >3,660,000</td>\n            </tr>\n            <tr>\n                                <td id=\"T_bb688_row5_col0\" class=\"data row5 col0\" >25/01/17</td>\n                        <td id=\"T_bb688_row5_col1\" class=\"data row5 col1\" >$257.31</td>\n                        <td id=\"T_bb688_row5_col2\" class=\"data row5 col2\" >$254.47</td>\n                        <td id=\"T_bb688_row5_col3\" class=\"data row5 col3\" >5,142,600</td>\n            </tr>\n            <tr>\n                                <td id=\"T_bb688_row6_col0\" class=\"data row6 col0\" >06/01/17</td>\n                        <td id=\"T_bb688_row6_col1\" class=\"data row6 col1\" >$226.93</td>\n                        <td id=\"T_bb688_row6_col2\" class=\"data row6 col2\" >$229.01</td>\n                        <td id=\"T_bb688_row6_col3\" class=\"data row6 col3\" >5,527,900</td>\n            </tr>\n            <tr>\n                                <td id=\"T_bb688_row7_col0\" class=\"data row7 col0\" >09/02/17</td>\n                        <td id=\"T_bb688_row7_col1\" class=\"data row7 col1\" >$266.25</td>\n                        <td id=\"T_bb688_row7_col2\" class=\"data row7 col2\" >$269.20</td>\n                        <td id=\"T_bb688_row7_col3\" class=\"data row7 col3\" >7,820,200</td>\n            </tr>\n            <tr>\n                                <td id=\"T_bb688_row8_col0\" class=\"data row8 col0\" >03/02/17</td>\n                        <td id=\"T_bb688_row8_col1\" class=\"data row8 col1\" >$251.91</td>\n                        <td id=\"T_bb688_row8_col2\" class=\"data row8 col2\" >$251.33</td>\n                        <td id=\"T_bb688_row8_col3\" class=\"data row8 col3\" >2,186,700</td>\n            </tr>\n            <tr>\n                                <td id=\"T_bb688_row9_col0\" class=\"data row9 col0\" >01/03/17</td>\n                        <td id=\"T_bb688_row9_col1\" class=\"data row9 col1\" >$254.18</td>\n                        <td id=\"T_bb688_row9_col2\" class=\"data row9 col2\" >$250.02</td>\n                        <td id=\"T_bb688_row9_col3\" class=\"data row9 col3\" >4,800,300</td>\n            </tr>\n    </tbody></table>"
     },
     "metadata": {}
    }
   ]
  },
  {
   "cell_type": "markdown",
   "source": "## Misc",
   "metadata": {
    "cell_id": "00048-3508ae1b-80c5-4308-9201-d1fdc65db8a3",
    "deepnote_cell_type": "markdown",
    "deepnote_cell_height": 56.390625
   }
  },
  {
   "cell_type": "code",
   "metadata": {
    "cell_id": "2910da02b6d5492fbdc11785354b96b6",
    "tags": [],
    "allow_embed": true,
    "deepnote_cell_type": "code",
    "deepnote_cell_height": 84
   },
   "source": "df['col'].idxmin()\ndf['col'].idxmax()",
   "execution_count": null,
   "outputs": []
  },
  {
   "cell_type": "markdown",
   "source": "apply function to entire data frame",
   "metadata": {
    "cell_id": "004a4b6ccb2047c584484504a5cfb49b",
    "tags": [],
    "deepnote_cell_type": "markdown",
    "deepnote_cell_height": 52.390625
   }
  },
  {
   "cell_type": "code",
   "metadata": {
    "cell_id": "00040-ed6feef9-0b0b-4e32-9880-696d0554b459",
    "allow_embed": "code",
    "deepnote_cell_type": "code",
    "deepnote_cell_height": 66
   },
   "source": "df.applymap(lambda x: np.log(x))",
   "execution_count": null,
   "outputs": []
  },
  {
   "cell_type": "markdown",
   "source": "shuffle data frame",
   "metadata": {
    "cell_id": "00049-3887cc67-6562-4c01-835c-07f5c415cc3f",
    "deepnote_cell_type": "markdown",
    "deepnote_cell_height": 52.390625
   }
  },
  {
   "cell_type": "code",
   "metadata": {
    "cell_id": "7332ec992f974448b9d4875c799819bc",
    "tags": [],
    "allow_embed": "code",
    "deepnote_cell_type": "code",
    "deepnote_cell_height": 66
   },
   "source": "df.sample(frac=1, random_state=7).reset_index(drop=True)",
   "execution_count": null,
   "outputs": []
  },
  {
   "cell_type": "markdown",
   "source": "Percent changes\n\nex: price of BTC over 3 days\n[30000, 33000, 31000] -> [NaN, 0.1, -0.06]",
   "metadata": {
    "cell_id": "00053-f43b7f42-aa45-408d-8ff7-06525fafb44e",
    "deepnote_cell_type": "markdown",
    "deepnote_cell_height": 88.796875
   }
  },
  {
   "cell_type": "code",
   "metadata": {
    "cell_id": "00054-a9de4e81-c101-485b-8d63-0fac746af3dc",
    "allow_embed": true,
    "deepnote_cell_type": "code",
    "deepnote_cell_height": 66
   },
   "source": "df['col_name'].pct_change()",
   "execution_count": null,
   "outputs": []
  },
  {
   "cell_type": "markdown",
   "source": "Assign ranks to values",
   "metadata": {
    "cell_id": "00055-6a7f916c-014e-4b6a-980e-c774882ffc11",
    "deepnote_cell_type": "markdown",
    "deepnote_cell_height": 52.390625
   }
  },
  {
   "cell_type": "code",
   "metadata": {
    "cell_id": "00056-22dcec57-6570-495c-82c8-e18b820b5a6f",
    "allow_embed": true,
    "deepnote_cell_type": "code",
    "deepnote_cell_height": 66
   },
   "source": "df['rank'] = df['column_to_rank'].rank()",
   "execution_count": null,
   "outputs": []
  },
  {
   "cell_type": "markdown",
   "source": "Explode list to rows",
   "metadata": {
    "cell_id": "00057-91cb54d5-fa84-4cbe-a2b2-3088f7623d72",
    "deepnote_cell_type": "markdown",
    "deepnote_cell_height": 52.390625
   }
  },
  {
   "cell_type": "code",
   "metadata": {
    "cell_id": "00058-91901b38-b479-402a-b63a-344eed071bae",
    "allow_embed": true,
    "deepnote_cell_type": "code",
    "deepnote_cell_height": 66
   },
   "source": "df.explode(\"col_name\").reset_index(drop=True)",
   "execution_count": null,
   "outputs": []
  },
  {
   "cell_type": "markdown",
   "source": "Check Memory",
   "metadata": {
    "cell_id": "00061-3258f3a8-8d5e-498d-b9a9-89ab65774aa6",
    "deepnote_cell_type": "markdown",
    "deepnote_cell_height": 52.390625
   }
  },
  {
   "cell_type": "code",
   "metadata": {
    "cell_id": "00062-648caf5b-9ce4-4168-90a8-d455287cf946",
    "deepnote_to_be_reexecuted": false,
    "source_hash": "9cfc3d72",
    "execution_start": 1650262683071,
    "execution_millis": 0,
    "allow_embed": "code",
    "deepnote_cell_type": "code",
    "deepnote_cell_height": 118.1875,
    "deepnote_output_heights": [
     21.1875
    ]
   },
   "source": "df.memory_usage().sum() / (1024**2) #converting to MB",
   "execution_count": null,
   "outputs": [
    {
     "output_type": "execute_result",
     "execution_count": 24,
     "data": {
      "text/plain": "0.061920166015625"
     },
     "metadata": {}
    }
   ]
  },
  {
   "cell_type": "code",
   "source": "df = pd.read_csv(\"data/house_price.csv\", nrows=100)",
   "metadata": {
    "cell_id": "f17d438b4c504bfdb5262e9840a31228",
    "tags": [],
    "deepnote_to_be_reexecuted": false,
    "source_hash": "cbd2164f",
    "execution_start": 1650415447333,
    "execution_millis": 26,
    "deepnote_cell_type": "code",
    "deepnote_cell_height": 81
   },
   "outputs": [],
   "execution_count": null
  },
  {
   "cell_type": "code",
   "source": "df.columns",
   "metadata": {
    "cell_id": "e631b601e14a4955af12515b7b45f844",
    "tags": [],
    "deepnote_to_be_reexecuted": false,
    "source_hash": "25d43fa0",
    "execution_start": 1650415597850,
    "execution_millis": 5,
    "deepnote_cell_type": "code",
    "deepnote_cell_height": 444.515625,
    "deepnote_output_heights": [
     347.515625
    ]
   },
   "outputs": [
    {
     "output_type": "execute_result",
     "execution_count": 16,
     "data": {
      "text/plain": "Index(['Id', 'MSSubClass', 'MSZoning', 'LotFrontage', 'LotArea', 'Street',\n       'Alley', 'LotShape', 'LandContour', 'Utilities', 'LotConfig',\n       'LandSlope', 'Neighborhood', 'Condition1', 'Condition2', 'BldgType',\n       'HouseStyle', 'OverallQual', 'OverallCond', 'YearBuilt', 'YearRemodAdd',\n       'RoofStyle', 'RoofMatl', 'Exterior1st', 'Exterior2nd', 'MasVnrType',\n       'MasVnrArea', 'ExterQual', 'ExterCond', 'Foundation', 'BsmtQual',\n       'BsmtCond', 'BsmtExposure', 'BsmtFinType1', 'BsmtFinSF1',\n       'BsmtFinType2', 'BsmtFinSF2', 'BsmtUnfSF', 'TotalBsmtSF', 'Heating',\n       'HeatingQC', 'CentralAir', 'Electrical', '1stFlrSF', '2ndFlrSF',\n       'LowQualFinSF', 'GrLivArea', 'BsmtFullBath', 'BsmtHalfBath', 'FullBath',\n       'HalfBath', 'BedroomAbvGr', 'KitchenAbvGr', 'KitchenQual',\n       'TotRmsAbvGrd', 'Functional', 'Fireplaces', 'FireplaceQu', 'GarageType',\n       'GarageYrBlt', 'GarageFinish', 'GarageCars', 'GarageArea', 'GarageQual',\n       'GarageCond', 'PavedDrive', 'WoodDeckSF', 'OpenPorchSF',\n       'EnclosedPorch', '3SsnPorch', 'ScreenPorch', 'PoolArea', 'PoolQC',\n       'Fence', 'MiscFeature', 'MiscVal', 'MoSold', 'YrSold', 'SaleType',\n       'SaleCondition', 'SalePrice'],\n      dtype='object')"
     },
     "metadata": {}
    }
   ],
   "execution_count": null
  },
  {
   "cell_type": "code",
   "source": "subclass = df.MSSubClass\nsubclass.value_counts()",
   "metadata": {
    "cell_id": "1d2668065880408aa36a6de32f00eb25",
    "tags": [],
    "deepnote_to_be_reexecuted": false,
    "source_hash": "7d60d873",
    "execution_start": 1650415635030,
    "execution_millis": 5,
    "allow_embed": true,
    "deepnote_cell_type": "code",
    "deepnote_cell_height": 404.921875,
    "deepnote_output_heights": [
     289.921875
    ]
   },
   "outputs": [
    {
     "output_type": "execute_result",
     "execution_count": 20,
     "data": {
      "text/plain": "20     45\n60     18\n50      9\n120     5\n30      4\n90      4\n190     3\n70      3\n160     2\n45      2\n80      2\n180     1\n75      1\n85      1\nName: MSSubClass, dtype: int64"
     },
     "metadata": {}
    }
   ],
   "execution_count": null
  },
  {
   "cell_type": "code",
   "source": "top_five = subclass.value_counts().nlargest(5).index\nmssubclass_new = subclass.where(subclass.isin(top_five), other=\"Other\")\nmssubclass_new.value_counts()",
   "metadata": {
    "cell_id": "9bd7943d49be4edb98eb6d2595a14b69",
    "tags": [],
    "deepnote_to_be_reexecuted": false,
    "source_hash": "f312dff4",
    "execution_start": 1650415640273,
    "execution_millis": 17,
    "owner_user_id": "5692a501-1353-4e5f-a9de-6cc0c6555b4a",
    "allow_embed": true,
    "deepnote_cell_type": "code",
    "deepnote_cell_height": 269.359375,
    "deepnote_output_heights": [
     136.359375
    ]
   },
   "outputs": [
    {
     "output_type": "execute_result",
     "execution_count": 21,
     "data": {
      "text/plain": "20       45\nOther    19\n60       18\n50        9\n120       5\n30        4\nName: MSSubClass, dtype: int64"
     },
     "metadata": {}
    }
   ],
   "execution_count": null
  },
  {
   "cell_type": "code",
   "source": "",
   "metadata": {
    "cell_id": "652b7fdb7d734ed1bee211d39b228b3c",
    "tags": [],
    "deepnote_cell_type": "code",
    "deepnote_cell_height": 66
   },
   "outputs": [],
   "execution_count": null
  },
  {
   "cell_type": "markdown",
   "source": "<a style='text-decoration:none;line-height:16px;display:flex;color:#5B5B62;padding:10px;justify-content:end;' href='https://deepnote.com?utm_source=created-in-deepnote-cell&projectId=a605a3e6-1564-47b2-94e7-842290ba7692' target=\"_blank\">\n<img alt='Created in deepnote.com' style='display:inline;max-height:16px;margin:0px;margin-right:7.5px;' src='data:image/svg+xml;base64,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' > </img>\nCreated in <span style='font-weight:600;margin-left:4px;'>Deepnote</span></a>",
   "metadata": {
    "tags": [],
    "created_in_deepnote_cell": true,
    "deepnote_cell_type": "markdown"
   }
  }
 ],
 "nbformat": 4,
 "nbformat_minor": 2,
 "metadata": {
  "interpreter": {
   "hash": "0f1e841692445df6c0f476977380d4c26cc40d52508098a18c340919add514d9"
  },
  "kernelspec": {
   "display_name": "Python 3.9.10 ('base')",
   "language": "python",
   "name": "python3"
  },
  "language_info": {
   "codemirror_mode": {
    "name": "ipython",
    "version": 3
   },
   "file_extension": ".py",
   "mimetype": "text/x-python",
   "name": "python",
   "nbconvert_exporter": "python",
   "pygments_lexer": "ipython3",
   "version": "3.9.10"
  },
  "orig_nbformat": 4,
  "deepnote_notebook_id": "50952147-fca0-49ec-8200-037ce9ac42a7",
  "deepnote": {},
  "deepnote_execution_queue": []
 }
}